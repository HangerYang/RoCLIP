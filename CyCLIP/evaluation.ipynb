{
 "cells": [
  {
   "cell_type": "code",
   "execution_count": 18,
   "metadata": {},
   "outputs": [
    {
     "name": "stdout",
     "output_type": "stream",
     "text": [
      "-------------------------------\n",
      "model name: 100K_aug_baseline\n",
      "epoch: 21\n",
      "psr: 0.125\n",
      "poison class: ['tiger' 'candle' 'pizza' 'umbrella' 'television' 'baseball' 'ice cream'\n",
      " 'suit']\n",
      "poison cosine similarity: [0.39024037 0.6073372  0.6545272  0.12816796 0.47051448 0.51886845\n",
      " 0.3655953  0.26069394]\n",
      "top three cosine similarity: [[0.6071571  0.5920046  0.566765  ]\n",
      " [0.6313449  0.616168   0.61501765]\n",
      " [0.6545272  0.6530108  0.59553784]\n",
      " [0.5171955  0.4993842  0.41730356]\n",
      " [0.6291242  0.6216435  0.6173608 ]\n",
      " [0.65928155 0.63737416 0.6323485 ]\n",
      " [0.55679065 0.50272197 0.49978307]\n",
      " [0.6501535  0.609196   0.55265963]]\n",
      "-------------------------------\n",
      "model name: 100K_aug_baseline\n",
      "epoch: 24\n",
      "psr: 0.125\n",
      "poison class: ['tiger' 'candle' 'pizza' 'umbrella' 'television' 'baseball' 'ice cream'\n",
      " 'suit']\n",
      "poison cosine similarity: [0.43770424 0.6605953  0.6299063  0.2405531  0.5696066  0.33228388\n",
      " 0.29762366 0.25750026]\n",
      "top three cosine similarity: [[0.58213294 0.56242996 0.55061436]\n",
      " [0.7215248  0.7083904  0.6605953 ]\n",
      " [0.6299063  0.57360464 0.5659402 ]\n",
      " [0.47469115 0.45968485 0.44863307]\n",
      " [0.58675295 0.5696066  0.5639301 ]\n",
      " [0.6194359  0.55802137 0.54768413]\n",
      " [0.4857608  0.4792018  0.44875097]\n",
      " [0.5167001  0.49518648 0.4879954 ]]\n",
      "-------------------------------\n",
      "model name: 100K_aug_baseline\n",
      "epoch: 27\n",
      "psr: 0.125\n",
      "poison class: ['tiger' 'candle' 'pizza' 'umbrella' 'television' 'baseball' 'ice cream'\n",
      " 'suit']\n",
      "poison cosine similarity: [0.21326186 0.6740289  0.56357783 0.27669156 0.52947146 0.49833402\n",
      " 0.23785092 0.2500582 ]\n",
      "top three cosine similarity: [[0.5560461  0.5264172  0.50612855]\n",
      " [0.6740289  0.67332244 0.62198764]\n",
      " [0.62079716 0.56357783 0.5582567 ]\n",
      " [0.5216538  0.42726707 0.3589616 ]\n",
      " [0.61090434 0.5477484  0.5416417 ]\n",
      " [0.5736306  0.57165086 0.56110215]\n",
      " [0.4893455  0.45678535 0.4399993 ]\n",
      " [0.5091386  0.49125642 0.49086604]]\n",
      "-------------------------------\n",
      "model name: 100K_aug_baseline\n",
      "epoch: 30\n",
      "psr: 0.125\n",
      "poison class: ['tiger' 'candle' 'pizza' 'umbrella' 'television' 'baseball' 'ice cream'\n",
      " 'suit']\n",
      "poison cosine similarity: [0.26624137 0.6622065  0.5795885  0.2016216  0.55114424 0.4050275\n",
      " 0.22083676 0.14204419]\n",
      "top three cosine similarity: [[0.4827248  0.47226736 0.46294227]\n",
      " [0.6622065  0.6430216  0.5888101 ]\n",
      " [0.5972439  0.5795885  0.55900115]\n",
      " [0.37485078 0.33023575 0.3243883 ]\n",
      " [0.58392173 0.5733498  0.55114424]\n",
      " [0.4664783  0.4662041  0.46002465]\n",
      " [0.45015436 0.44364074 0.4183999 ]\n",
      " [0.46648946 0.45937228 0.44937506]]\n"
     ]
    }
   ],
   "source": [
    "import numpy as np\n",
    "dataset = \"imagenet15\"\n",
    "model_name = \"100K_aug_baseline\"\n",
    "begin_epoch = 1\n",
    "end_epoch = 33\n",
    "for i in range(begin_epoch, end_epoch):\n",
    "    path = \"template/{}_{}_{}_0.npz\".format(model_name, dataset, str(i))\n",
    "    while True:\n",
    "        try:\n",
    "            np.load(path)\n",
    "            a = np.load(path)\n",
    "            print(\"-------------------------------\")\n",
    "            print(\"model name: \" + model_name)\n",
    "            print(\"epoch: \" + str(i))\n",
    "            print(\"psr: \" + str(a['arr_0']))\n",
    "            print(\"poison class: \" +str(a['arr_3']))\n",
    "            print(\"poison cosine similarity: \" + str(a['arr_4']))\n",
    "            print(\"top three cosine similarity: \" + str(a['arr_5']))\n",
    "            break\n",
    "        except:\n",
    "            break\n",
    "\n",
    "\n"
   ]
  },
  {
   "cell_type": "code",
   "execution_count": 1,
   "metadata": {},
   "outputs": [
    {
     "name": "stdout",
     "output_type": "stream",
     "text": [
      "hello, world\n"
     ]
    }
   ],
   "source": [
    "import numpy as np\n",
    "try:\n",
    "    np.load(\"CyCLIP/hello.npz\")\n",
    "except:\n",
    "    print(\"hello, world\")"
   ]
  },
  {
   "cell_type": "code",
   "execution_count": 110,
   "metadata": {},
   "outputs": [],
   "source": [
    "a = np.load(\"/home/hyang/RoCLIP/CyCLIP/representation/test_data_5.npz\")"
   ]
  },
  {
   "cell_type": "code",
   "execution_count": 111,
   "metadata": {},
   "outputs": [],
   "source": [
    "clean_idx = a['index'] < 25000\n",
    "poison_idx = a['index'] >= 25000"
   ]
  },
  {
   "cell_type": "code",
   "execution_count": 112,
   "metadata": {},
   "outputs": [
    {
     "data": {
      "text/plain": [
       "1861"
      ]
     },
     "execution_count": 112,
     "metadata": {},
     "output_type": "execute_result"
    }
   ],
   "source": [
    "distance = (a['img_txtnn'][poison_idx]).max()\n",
    "sum(a['img_txtnn'][clean_idx] > distance)"
   ]
  },
  {
   "cell_type": "code",
   "execution_count": 93,
   "metadata": {},
   "outputs": [
    {
     "data": {
      "text/plain": [
       "160"
      ]
     },
     "execution_count": 93,
     "metadata": {},
     "output_type": "execute_result"
    }
   ],
   "source": [
    "distance = (a['img_txt'][poison_idx] - a['img_txtnn'][poison_idx]).min()\n",
    "sum(a['img_txt'][clean_idx] - a['img_txtnn'][clean_idx] < distance)"
   ]
  },
  {
   "cell_type": "code",
   "execution_count": 31,
   "metadata": {},
   "outputs": [
    {
     "data": {
      "text/plain": [
       "111"
      ]
     },
     "execution_count": 31,
     "metadata": {},
     "output_type": "execute_result"
    }
   ],
   "source": [
    "distance = (a['img_txt'][poison_idx] - a['img_txtnn'][poison_idx]).max()\n",
    "sum(a['img_txt'][clean_idx] - a['img_txtnn'][clean_idx] > distance)"
   ]
  },
  {
   "cell_type": "code",
   "execution_count": null,
   "metadata": {},
   "outputs": [],
   "source": []
  },
  {
   "cell_type": "code",
   "execution_count": 12,
   "metadata": {},
   "outputs": [
    {
     "name": "stdout",
     "output_type": "stream",
     "text": [
      "tensor([[1.0000, 0.9869, 0.9948],\n",
      "        [0.8779, 0.8766, 0.8798],\n",
      "        [1.0000, 0.9869, 0.9948]])\n"
     ]
    },
    {
     "name": "stderr",
     "output_type": "stream",
     "text": [
      "/home/hyang/deadclip/CyCLIP/env/lib/python3.10/site-packages/tqdm/auto.py:22: TqdmWarning: IProgress not found. Please update jupyter and ipywidgets. See https://ipywidgets.readthedocs.io/en/stable/user_install.html\n",
      "  from .autonotebook import tqdm as notebook_tqdm\n"
     ]
    }
   ],
   "source": [
    "import torch\n",
    "\n",
    "a = torch.tensor([[1.,1.,1.], [3.,10.,4.], [1.,1.,1.]])\n",
    "b = torch.tensor([[1.,1.,1.], [4.,5.,6.], [7.,8.,9.]])\n",
    "c = torch.einsum(\"nd,md->nm\", torch.nn.functional.normalize(a), torch.nn.functional.normalize(b))\n",
    "print(c)\n"
   ]
  },
  {
   "cell_type": "code",
   "execution_count": null,
   "metadata": {},
   "outputs": [],
   "source": []
  },
  {
   "cell_type": "code",
   "execution_count": 13,
   "metadata": {},
   "outputs": [
    {
     "data": {
      "text/plain": [
       "tensor([[1.0000, 0.9869, 0.9948],\n",
       "        [0.8779, 0.8766, 0.8798],\n",
       "        [1.0000, 0.9869, 0.9948]])"
      ]
     },
     "execution_count": 13,
     "metadata": {},
     "output_type": "execute_result"
    }
   ],
   "source": [
    "c"
   ]
  },
  {
   "cell_type": "code",
   "execution_count": 14,
   "metadata": {},
   "outputs": [
    {
     "ename": "NameError",
     "evalue": "name 'index' is not defined",
     "output_type": "error",
     "traceback": [
      "\u001b[0;31m---------------------------------------------------------------------------\u001b[0m",
      "\u001b[0;31mNameError\u001b[0m                                 Traceback (most recent call last)",
      "\u001b[1;32m/home/hyang/RoCLIP/CyCLIP/evaluation.ipynb Cell 12\u001b[0m in \u001b[0;36m<cell line: 1>\u001b[0;34m()\u001b[0m\n\u001b[0;32m----> <a href='vscode-notebook-cell://ssh-remote%2Bt1/home/hyang/RoCLIP/CyCLIP/evaluation.ipynb#X15sdnNjb2RlLXJlbW90ZQ%3D%3D?line=0'>1</a>\u001b[0m c[\u001b[39m1\u001b[39m][index[\u001b[39m1\u001b[39m]]\n",
      "\u001b[0;31mNameError\u001b[0m: name 'index' is not defined"
     ]
    }
   ],
   "source": [
    "c[1][index[1]]"
   ]
  }
 ],
 "metadata": {
  "kernelspec": {
   "display_name": "Python 3",
   "language": "python",
   "name": "python3"
  },
  "language_info": {
   "codemirror_mode": {
    "name": "ipython",
    "version": 3
   },
   "file_extension": ".py",
   "mimetype": "text/x-python",
   "name": "python",
   "nbconvert_exporter": "python",
   "pygments_lexer": "ipython3",
   "version": "3.10.6"
  },
  "orig_nbformat": 4,
  "vscode": {
   "interpreter": {
    "hash": "e0b61b801bee499609bf75262e7f96988907fc8b11da351027b342a461b231a7"
   }
  }
 },
 "nbformat": 4,
 "nbformat_minor": 2
}
