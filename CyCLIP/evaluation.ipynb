{
 "cells": [
  {
   "cell_type": "code",
   "execution_count": 1,
   "metadata": {},
   "outputs": [
    {
     "name": "stdout",
     "output_type": "stream",
     "text": [
      "-------------------------------\n",
      "model name: 100K_per_2_image\n",
      "epoch: 1\n",
      "psr: 0.0\n",
      "poison class: ['pizza' 'umbrella' 'tiger' 'candle']\n",
      "poison cosine similarity: [0.12263841 0.00857803 0.13542964 0.05624781]\n",
      "top three cosine similarity: [[0.14178434 0.14008456 0.13756874]\n",
      " [0.09473558 0.07687742 0.07213907]\n",
      " [0.14487648 0.14110593 0.14097518]\n",
      " [0.08469049 0.0782821  0.07745491]]\n",
      "-------------------------------\n",
      "model name: 100K_per_2_image\n",
      "epoch: 2\n",
      "psr: 0.25\n",
      "poison class: ['pizza' 'umbrella' 'tiger' 'candle']\n",
      "poison cosine similarity: [0.13391808 0.0700576  0.1511605  0.08714688]\n",
      "top three cosine similarity: [[0.13877515 0.13391808 0.13310842]\n",
      " [0.13937895 0.13707359 0.13502428]\n",
      " [0.1511605  0.14921801 0.14819999]\n",
      " [0.11008673 0.10853563 0.10489726]]\n",
      "-------------------------------\n",
      "model name: 100K_per_2_image\n",
      "epoch: 3\n",
      "psr: 0.5\n",
      "poison class: ['pizza' 'umbrella' 'tiger' 'candle']\n",
      "poison cosine similarity: [0.16139308 0.11420573 0.19823217 0.09009195]\n",
      "top three cosine similarity: [[0.16139308 0.15366034 0.15148021]\n",
      " [0.12416644 0.11846062 0.11420573]\n",
      " [0.19823217 0.19435485 0.19222803]\n",
      " [0.11476817 0.1129766  0.10844734]]\n",
      "-------------------------------\n",
      "model name: 100K_per_2_image\n",
      "epoch: 4\n",
      "psr: 0.75\n",
      "poison class: ['pizza' 'umbrella' 'tiger' 'candle']\n",
      "poison cosine similarity: [0.19317205 0.18487333 0.2128744  0.11667432]\n",
      "top three cosine similarity: [[0.19317205 0.17270249 0.17119662]\n",
      " [0.18487333 0.15990148 0.15248947]\n",
      " [0.2128744  0.21044251 0.21015094]\n",
      " [0.12294458 0.11667432 0.11549303]]\n",
      "-------------------------------\n",
      "model name: 100K_per_2_image\n",
      "epoch: 5\n",
      "psr: 0.75\n",
      "poison class: ['pizza' 'umbrella' 'tiger' 'candle']\n",
      "poison cosine similarity: [0.19812196 0.23696035 0.22059654 0.14229168]\n",
      "top three cosine similarity: [[0.19812196 0.17884722 0.17390727]\n",
      " [0.23696035 0.21561061 0.21319354]\n",
      " [0.22134548 0.22059654 0.21787678]\n",
      " [0.14229168 0.14208655 0.14034306]]\n"
     ]
    }
   ],
   "source": [
    "import numpy as np\n",
    "dataset = \"imagenet100\"\n",
    "model_name = \"100K_per_2_image\"\n",
    "begin_epoch = 1\n",
    "end_epoch = 6\n",
    "for i in range(begin_epoch, end_epoch):\n",
    "    path = \"template/{}_{}_{}_0.npz\".format(model_name, dataset, str(i))\n",
    "    while True:\n",
    "        try:\n",
    "            np.load(path)\n",
    "            a = np.load(path)\n",
    "            print(\"-------------------------------\")\n",
    "            print(\"model name: \" + model_name)\n",
    "            print(\"epoch: \" + str(i))\n",
    "            print(\"psr: \" + str(a['arr_0']))\n",
    "            print(\"poison class: \" +str(a['arr_3']))\n",
    "            print(\"poison cosine similarity: \" + str(a['arr_4']))\n",
    "            print(\"top three cosine similarity: \" + str(a['arr_5']))\n",
    "            break\n",
    "        except:\n",
    "            break\n",
    "\n",
    "\n"
   ]
  }
 ],
 "metadata": {
  "kernelspec": {
   "display_name": "Python 3",
   "language": "python",
   "name": "python3"
  },
  "language_info": {
   "codemirror_mode": {
    "name": "ipython",
    "version": 3
   },
   "file_extension": ".py",
   "mimetype": "text/x-python",
   "name": "python",
   "nbconvert_exporter": "python",
   "pygments_lexer": "ipython3",
   "version": "3.10.6 (main, Oct  7 2022, 20:19:58) [GCC 11.2.0]"
  },
  "orig_nbformat": 4,
  "vscode": {
   "interpreter": {
    "hash": "e0b61b801bee499609bf75262e7f96988907fc8b11da351027b342a461b231a7"
   }
  }
 },
 "nbformat": 4,
 "nbformat_minor": 2
}
