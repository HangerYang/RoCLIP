{
 "cells": [
  {
   "cell_type": "code",
   "execution_count": 67,
   "metadata": {},
   "outputs": [
    {
     "name": "stdout",
     "output_type": "stream",
     "text": [
      "-------------------------------\n",
      "model name: 1M_baseline\n",
      "epoch: 1\n",
      "psr: 0.2\n",
      "poison class: ['pizza' 'baseball' 'tiger' 'candle' 'ice cream']\n",
      "poison cosine similarity: [0.46744505 0.4931307  0.557647   0.68297994 0.20720111]\n",
      "top three cosine similarity: [[0.581803   0.57725585 0.577178  ]\n",
      " [0.5779287  0.5641785  0.5620917 ]\n",
      " [0.6092072  0.58051044 0.58047646]\n",
      " [0.68297994 0.6463924  0.59886646]\n",
      " [0.5364411  0.52353567 0.50307214]]\n"
     ]
    }
   ],
   "source": [
    "import numpy as np\n",
    "dataset = \"imagenet100\"\n",
    "model_name = \"1M_baseline\"\n",
    "begin_epoch = 1\n",
    "end_epoch = 10\n",
    "for i in range(begin_epoch, end_epoch):\n",
    "    path = \"template/{}_{}_{}_0.npz\".format(model_name, dataset, str(i))\n",
    "    while True:\n",
    "        try:\n",
    "            np.load(path)\n",
    "            a = np.load(path)\n",
    "            print(\"-------------------------------\")\n",
    "            print(\"model name: \" + model_name)\n",
    "            print(\"epoch: \" + str(i))\n",
    "            print(\"psr: \" + str(a['arr_0']))\n",
    "            print(\"poison class: \" +str(a['arr_3']))\n",
    "            print(\"poison cosine similarity: \" + str(a['arr_4']))\n",
    "            print(\"top three cosine similarity: \" + str(a['arr_5']))\n",
    "            break\n",
    "        except:\n",
    "            break\n",
    "\n",
    "\n"
   ]
  },
  {
   "cell_type": "code",
   "execution_count": 1,
   "metadata": {},
   "outputs": [
    {
     "name": "stdout",
     "output_type": "stream",
     "text": [
      "hello, world\n"
     ]
    }
   ],
   "source": [
    "import numpy as np\n",
    "try:\n",
    "    np.load(\"CyCLIP/hello.npz\")\n",
    "except:\n",
    "    print(\"hello, world\")"
   ]
  },
  {
   "cell_type": "code",
   "execution_count": 2,
   "metadata": {},
   "outputs": [
    {
     "data": {
      "text/plain": [
       "94963"
      ]
     },
     "execution_count": 2,
     "metadata": {},
     "output_type": "execute_result"
    }
   ],
   "source": [
    "epoch = 7\n",
    "a = np.load(\"/home/hyang/RoCLIP/CyCLIP/representation/1M_inmodal_continue_{}.npz\".format(epoch))\n",
    "clean_idx = a['index'] < 1000000\n",
    "poison_idx = a['index'] >= 1000000\n",
    "distance = np.percentile(a['img_txt'][poison_idx], 95)\n",
    "sum(a['img_txt'][clean_idx] > distance)\n"
   ]
  },
  {
   "cell_type": "code",
   "execution_count": 4,
   "metadata": {},
   "outputs": [
    {
     "data": {
      "text/plain": [
       "110642"
      ]
     },
     "execution_count": 4,
     "metadata": {},
     "output_type": "execute_result"
    }
   ],
   "source": [
    "epoch = 7\n",
    "a = np.load(\"/home/hyang/RoCLIP/CyCLIP/representation/1M_inmodal_continue_slr_{}.npz\".format(epoch))\n",
    "clean_idx = a['index'] <= 1000000\n",
    "poison_idx = a['index'] > 1000000\n",
    "distance = np.percentile(a['img_txt'][poison_idx], 100)\n",
    "sum(a['img_txt'][clean_idx] > distance)"
   ]
  },
  {
   "cell_type": "code",
   "execution_count": 8,
   "metadata": {},
   "outputs": [
    {
     "data": {
      "text/plain": [
       "94963"
      ]
     },
     "execution_count": 8,
     "metadata": {},
     "output_type": "execute_result"
    }
   ],
   "source": [
    "epoch = 7\n",
    "a = np.load(\"/home/hyang/RoCLIP/CyCLIP/representation/1M_inmodal_continue_{}.npz\".format(epoch))\n",
    "clean_idx = a['index'] < 1000000\n",
    "poison_idx = a['index'] >= 1000000\n",
    "distance = np.percentile(a['img_txt'][poison_idx], 95)\n",
    "sum(a['img_txt'][clean_idx] > distance)"
   ]
  },
  {
   "cell_type": "code",
   "execution_count": 7,
   "metadata": {},
   "outputs": [],
   "source": [
    "import pandas as pd\n",
    "ntyf_index = a['img_txt'] > distance\n",
    "truth = a['index']\n",
    "sort = np.argsort(truth)\n",
    "sorted_truth = truth[sort]\n",
    "# sorted_nty_index = nty_index[sort]\n",
    "sorted_ntyf_index = ntyf_index[sort]\n",
    "df = pd.read_csv(\"../train_1M_random_poison_1_100.csv\")\n",
    "final_bool_ntyf = np.full(1000500, -1)\n",
    "for i in range(1000500):\n",
    "    if i not in truth:\n",
    "        final_bool_ntyf[i] = True\n",
    "    else:\n",
    "        loc = np.where(sorted_truth == i)[0][0]\n",
    "        final_bool_ntyf[i] = sorted_ntyf_index[loc]\n",
    "df[final_bool_ntyf == 1].to_csv(\"train_1M_random_poison_1_100_100.csv\", index=False, header=[\"caption\", \"path\"])"
   ]
  },
  {
   "cell_type": "code",
   "execution_count": 8,
   "metadata": {},
   "outputs": [],
   "source": [
    "# distance = (a['img_txtnn'][poison_idx]).max()\n",
    "# sum(a['img_txtnn'][clean_idx] > distance)"
   ]
  },
  {
   "cell_type": "code",
   "execution_count": 9,
   "metadata": {},
   "outputs": [],
   "source": [
    "# distance = (a['img_txt'][poison_idx] - a['img_txtnn'][poison_idx]).max()\n",
    "# sum(a['img_txt'][clean_idx] - a['img_txtnn'][clean_idx] > distance)"
   ]
  }
 ],
 "metadata": {
  "kernelspec": {
   "display_name": "Python 3.9.6 64-bit",
   "language": "python",
   "name": "python3"
  },
  "language_info": {
   "codemirror_mode": {
    "name": "ipython",
    "version": 3
   },
   "file_extension": ".py",
   "mimetype": "text/x-python",
   "name": "python",
   "nbconvert_exporter": "python",
   "pygments_lexer": "ipython3",
   "version": "3.10.6"
  },
  "orig_nbformat": 4,
  "vscode": {
   "interpreter": {
    "hash": "31f2aee4e71d21fbe5cf8b01ff0e069b9275f58929596ceb00d14d90e3e16cd6"
   }
  }
 },
 "nbformat": 4,
 "nbformat_minor": 2
}
