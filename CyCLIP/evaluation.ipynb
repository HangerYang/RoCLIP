{
 "cells": [
  {
   "cell_type": "code",
   "execution_count": 1,
   "metadata": {},
   "outputs": [
    {
     "name": "stdout",
     "output_type": "stream",
     "text": [
      "-------------------------------\n",
      "model name: trial\n",
      "epoch: 32\n",
      "psr: 0.375\n",
      "poison class: ['pizza' 'baseball' 'tiger' 'candle' 'ice cream' 'desk' 'palace'\n",
      " 'necklace']\n",
      "poison cosine similarity: [0.3162701  0.25245684 0.65125644 0.529472   0.45214847 0.360036\n",
      " 0.7804424  0.2861435 ]\n",
      "top three cosine similarity: [[0.54326624 0.53421015 0.5258905 ]\n",
      " [0.45959002 0.43146625 0.39253396]\n",
      " [0.65125644 0.64276284 0.62341774]\n",
      " [0.529472   0.4975778  0.48799703]\n",
      " [0.567355   0.56260264 0.5545612 ]\n",
      " [0.61254853 0.57878226 0.56519264]\n",
      " [0.7804424  0.53478944 0.5114338 ]\n",
      " [0.5240866  0.4946207  0.49155393]]\n"
     ]
    }
   ],
   "source": [
    "import numpy as np\n",
    "dataset = \"imagenet30\"\n",
    "model_name = \"trial\"\n",
    "begin_epoch = 1\n",
    "end_epoch = 40\n",
    "for i in range(begin_epoch, end_epoch):\n",
    "    path = \"template/{}_{}_{}_0.npz\".format(model_name, dataset, str(i))\n",
    "    while True:\n",
    "        try:\n",
    "            np.load(path)\n",
    "            a = np.load(path)\n",
    "            print(\"-------------------------------\")\n",
    "            print(\"model name: \" + model_name)\n",
    "            print(\"epoch: \" + str(i))\n",
    "            print(\"psr: \" + str(a['arr_0']))\n",
    "            print(\"poison class: \" +str(a['arr_3']))\n",
    "            print(\"poison cosine similarity: \" + str(a['arr_4']))\n",
    "            print(\"top three cosine similarity: \" + str(a['arr_5']))\n",
    "            break\n",
    "        except:\n",
    "            break\n",
    "\n",
    "\n"
   ]
  },
  {
   "cell_type": "code",
   "execution_count": 1,
   "metadata": {},
   "outputs": [
    {
     "name": "stdout",
     "output_type": "stream",
     "text": [
      "hello, world\n"
     ]
    }
   ],
   "source": [
    "import numpy as np\n",
    "try:\n",
    "    np.load(\"CyCLIP/hello.npz\")\n",
    "except:\n",
    "    print(\"hello, world\")"
   ]
  },
  {
   "cell_type": "code",
   "execution_count": 2,
   "metadata": {},
   "outputs": [
    {
     "data": {
      "text/plain": [
       "94963"
      ]
     },
     "execution_count": 2,
     "metadata": {},
     "output_type": "execute_result"
    }
   ],
   "source": [
    "epoch = 7\n",
    "a = np.load(\"/home/hyang/RoCLIP/CyCLIP/representation/1M_inmodal_continue_{}.npz\".format(epoch))\n",
    "clean_idx = a['index'] < 1000000\n",
    "poison_idx = a['index'] >= 1000000\n",
    "distance = np.percentile(a['img_txt'][poison_idx], 95)\n",
    "sum(a['img_txt'][clean_idx] > distance)\n"
   ]
  },
  {
   "cell_type": "code",
   "execution_count": 4,
   "metadata": {},
   "outputs": [
    {
     "data": {
      "text/plain": [
       "110642"
      ]
     },
     "execution_count": 4,
     "metadata": {},
     "output_type": "execute_result"
    }
   ],
   "source": [
    "epoch = 7\n",
    "a = np.load(\"/home/hyang/RoCLIP/CyCLIP/representation/1M_inmodal_continue_slr_{}.npz\".format(epoch))\n",
    "clean_idx = a['index'] <= 1000000\n",
    "poison_idx = a['index'] > 1000000\n",
    "distance = np.percentile(a['img_txt'][poison_idx], 100)\n",
    "sum(a['img_txt'][clean_idx] > distance)"
   ]
  },
  {
   "cell_type": "code",
   "execution_count": 8,
   "metadata": {},
   "outputs": [
    {
     "data": {
      "text/plain": [
       "94963"
      ]
     },
     "execution_count": 8,
     "metadata": {},
     "output_type": "execute_result"
    }
   ],
   "source": [
    "epoch = 7\n",
    "a = np.load(\"/home/hyang/RoCLIP/CyCLIP/representation/1M_inmodal_continue_{}.npz\".format(epoch))\n",
    "clean_idx = a['index'] < 1000000\n",
    "poison_idx = a['index'] >= 1000000\n",
    "distance = np.percentile(a['img_txt'][poison_idx], 95)\n",
    "sum(a['img_txt'][clean_idx] > distance)"
   ]
  },
  {
   "cell_type": "code",
   "execution_count": 7,
   "metadata": {},
   "outputs": [],
   "source": [
    "import pandas as pd\n",
    "ntyf_index = a['img_txt'] > distance\n",
    "truth = a['index']\n",
    "sort = np.argsort(truth)\n",
    "sorted_truth = truth[sort]\n",
    "# sorted_nty_index = nty_index[sort]\n",
    "sorted_ntyf_index = ntyf_index[sort]\n",
    "df = pd.read_csv(\"../train_1M_random_poison_1_100.csv\")\n",
    "final_bool_ntyf = np.full(1000500, -1)\n",
    "for i in range(1000500):\n",
    "    if i not in truth:\n",
    "        final_bool_ntyf[i] = True\n",
    "    else:\n",
    "        loc = np.where(sorted_truth == i)[0][0]\n",
    "        final_bool_ntyf[i] = sorted_ntyf_index[loc]\n",
    "df[final_bool_ntyf == 1].to_csv(\"train_1M_random_poison_1_100_100.csv\", index=False, header=[\"caption\", \"path\"])"
   ]
  },
  {
   "cell_type": "code",
   "execution_count": 8,
   "metadata": {},
   "outputs": [],
   "source": [
    "# distance = (a['img_txtnn'][poison_idx]).max()\n",
    "# sum(a['img_txtnn'][clean_idx] > distance)"
   ]
  },
  {
   "cell_type": "code",
   "execution_count": 9,
   "metadata": {},
   "outputs": [],
   "source": [
    "# distance = (a['img_txt'][poison_idx] - a['img_txtnn'][poison_idx]).max()\n",
    "# sum(a['img_txt'][clean_idx] - a['img_txtnn'][clean_idx] > distance)"
   ]
  }
 ],
 "metadata": {
  "kernelspec": {
   "display_name": "Python 3",
   "language": "python",
   "name": "python3"
  },
  "language_info": {
   "codemirror_mode": {
    "name": "ipython",
    "version": 3
   },
   "file_extension": ".py",
   "mimetype": "text/x-python",
   "name": "python",
   "nbconvert_exporter": "python",
   "pygments_lexer": "ipython3",
   "version": "3.10.6"
  },
  "orig_nbformat": 4,
  "vscode": {
   "interpreter": {
    "hash": "e0b61b801bee499609bf75262e7f96988907fc8b11da351027b342a461b231a7"
   }
  }
 },
 "nbformat": 4,
 "nbformat_minor": 2
}
