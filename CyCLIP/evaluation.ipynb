{
 "cells": [
  {
   "cell_type": "code",
   "execution_count": 5,
   "metadata": {},
   "outputs": [
    {
     "name": "stdout",
     "output_type": "stream",
     "text": [
      "-------------------------------\n",
      "model name: 100K_per_5\n",
      "epoch: 30\n",
      "psr: 0.42857142857142855\n",
      "poison class: ['candle' 'pizza' 'umbrella' 'television' 'baseball' 'ice cream' 'suit']\n",
      "poison cosine similarity: [0.65455955 0.7216637  0.36357594 0.4589951  0.46557125 0.57294226\n",
      " 0.39889508]\n",
      "top three cosine similarity: [[0.65455955 0.60414344 0.5850305 ]\n",
      " [0.7216637  0.5145905  0.48399982]\n",
      " [0.5480385  0.508762   0.49169275]\n",
      " [0.4589951  0.44759437 0.40517262]\n",
      " [0.61099035 0.5651359  0.55936587]\n",
      " [0.611029   0.57294226 0.53218657]\n",
      " [0.67123    0.55637586 0.5417109 ]]\n"
     ]
    }
   ],
   "source": [
    "import numpy as np\n",
    "dataset = \"imagenet30\"\n",
    "model_name = \"100K_per_5\"\n",
    "begin_epoch = 28\n",
    "end_epoch = 33\n",
    "for i in range(begin_epoch, end_epoch):\n",
    "    path = \"template/{}_{}_{}_0.npz\".format(model_name, dataset, str(i))\n",
    "    while True:\n",
    "        try:\n",
    "            np.load(path)\n",
    "            a = np.load(path)\n",
    "            print(\"-------------------------------\")\n",
    "            print(\"model name: \" + model_name)\n",
    "            print(\"epoch: \" + str(i))\n",
    "            print(\"psr: \" + str(a['arr_0']))\n",
    "            print(\"poison class: \" +str(a['arr_3']))\n",
    "            print(\"poison cosine similarity: \" + str(a['arr_4']))\n",
    "            print(\"top three cosine similarity: \" + str(a['arr_5']))\n",
    "            break\n",
    "        except:\n",
    "            break\n",
    "\n",
    "\n"
   ]
  },
  {
   "cell_type": "code",
   "execution_count": 2,
   "metadata": {},
   "outputs": [
    {
     "name": "stdout",
     "output_type": "stream",
     "text": [
      "hello, world\n"
     ]
    }
   ],
   "source": [
    "import numpy as np\n",
    "try:\n",
    "    np.load(\"CyCLIP/hello.npz\")\n",
    "except:\n",
    "    print(\"hello, world\")"
   ]
  },
  {
   "cell_type": "code",
   "execution_count": 17,
   "metadata": {},
   "outputs": [
    {
     "data": {
      "text/plain": [
       "5460"
      ]
     },
     "execution_count": 17,
     "metadata": {},
     "output_type": "execute_result"
    }
   ],
   "source": [
    "epoch = 1\n",
    "a = np.load(\"/home/hyang/RoCLIP/CyCLIP/representation/100K_baseline_check_30_{}.npz\".format(epoch))\n",
    "clean_idx = a['index'] < 100000\n",
    "poison_idx = a['index'] >= 100000\n",
    "distance = np.percentile(a['img_txt'][poison_idx], 99)\n",
    "sum(a['img_txt'][clean_idx] > distance)\n"
   ]
  },
  {
   "cell_type": "code",
   "execution_count": 38,
   "metadata": {},
   "outputs": [
    {
     "name": "stdout",
     "output_type": "stream",
     "text": [
      "45345\n"
     ]
    }
   ],
   "source": [
    "epoch = 7\n",
    "a = np.load(\"/home/hyang/RoCLIP/CyCLIP/representation/100K_inmodal_check_15_continue_{}.npz\".format(epoch))\n",
    "clean_idx = a['index'] < 100000\n",
    "poison_idx = a['index'] >= 100000\n",
    "distance = np.percentile(a['img_txt'][poison_idx], 95)\n",
    "print(sum(a['img_txt'][clean_idx] > distance))"
   ]
  },
  {
   "cell_type": "code",
   "execution_count": 5,
   "metadata": {},
   "outputs": [
    {
     "data": {
      "text/plain": [
       "14887"
      ]
     },
     "execution_count": 5,
     "metadata": {},
     "output_type": "execute_result"
    }
   ],
   "source": [
    "a = np.load(\"/home/hyang/RoCLIP/CyCLIP/representation/100K_per_2_check_15_{}.npz\".format(epoch))\n",
    "clean_idx = a['index'] < 100000\n",
    "poison_idx = a['index'] >= 100000\n",
    "distance = np.percentile(a['img_txt'][poison_idx], 95)\n",
    "sum(a['img_txt'][clean_idx] > distance)"
   ]
  },
  {
   "cell_type": "code",
   "execution_count": 6,
   "metadata": {},
   "outputs": [
    {
     "data": {
      "text/plain": [
       "36803"
      ]
     },
     "execution_count": 6,
     "metadata": {},
     "output_type": "execute_result"
    }
   ],
   "source": [
    "epoch = 7\n",
    "a = np.load(\"/home/hyang/RoCLIP/CyCLIP/representation/100K_inmodal_check_15_continue_{}.npz\".format(epoch))\n",
    "clean_idx = a['index'] < 100000\n",
    "poison_idx = a['index'] >= 100000\n",
    "distance = np.percentile(a['img_txt'][poison_idx], 99)\n",
    "sum(a['img_txt'][clean_idx] > distance)"
   ]
  },
  {
   "cell_type": "code",
   "execution_count": 40,
   "metadata": {},
   "outputs": [
    {
     "name": "stdout",
     "output_type": "stream",
     "text": [
      "408\n",
      "1500\n",
      "1597\n",
      "2964\n",
      "4349\n",
      "4681\n",
      "4860\n",
      "5874\n",
      "6843\n",
      "8283\n",
      "8901\n",
      "9471\n",
      "9572\n",
      "10029\n",
      "10269\n",
      "11323\n",
      "12425\n",
      "12980\n",
      "13395\n",
      "14205\n",
      "15640\n",
      "16245\n",
      "18801\n",
      "19850\n",
      "23859\n",
      "25453\n",
      "26600\n",
      "27928\n",
      "28108\n",
      "28742\n",
      "29753\n",
      "29797\n",
      "30325\n",
      "31191\n",
      "31913\n",
      "32027\n",
      "33244\n",
      "33795\n",
      "34854\n",
      "36791\n",
      "38256\n",
      "38497\n",
      "39570\n",
      "40824\n",
      "41603\n",
      "41836\n",
      "42616\n",
      "42716\n",
      "42986\n",
      "43799\n",
      "44063\n",
      "44142\n",
      "44881\n",
      "45049\n",
      "45488\n",
      "45612\n",
      "45771\n",
      "46003\n",
      "46888\n",
      "47936\n",
      "50603\n",
      "51042\n",
      "51663\n",
      "52208\n",
      "53029\n",
      "53243\n",
      "53494\n",
      "54326\n",
      "55690\n",
      "55728\n",
      "56978\n",
      "61284\n",
      "62609\n",
      "62685\n",
      "63048\n",
      "64976\n",
      "69840\n",
      "69895\n",
      "70575\n",
      "72089\n",
      "72706\n",
      "73870\n",
      "74422\n",
      "78041\n",
      "80558\n",
      "81723\n",
      "82085\n",
      "82467\n",
      "82604\n",
      "84897\n",
      "86002\n",
      "89479\n",
      "90407\n",
      "90571\n",
      "91173\n",
      "91708\n",
      "91831\n",
      "92093\n",
      "92759\n",
      "93382\n",
      "93879\n",
      "95017\n",
      "95424\n",
      "96165\n",
      "97848\n",
      "97953\n",
      "98927\n"
     ]
    }
   ],
   "source": [
    "import pandas as pd\n",
    "ntyf_index = a['img_txt'] > distance\n",
    "truth = a['index']\n",
    "sort = np.argsort(truth)\n",
    "sorted_truth = truth[sort]\n",
    "# sorted_nty_index = nty_index[sort]\n",
    "sorted_ntyf_index = ntyf_index[sort]\n",
    "df = pd.read_csv(\"../train_100K_random_poison_1_15.csv\")\n",
    "final_bool_ntyf = np.full(100075, -1)\n",
    "for i in range(100075):\n",
    "    if i not in truth:\n",
    "        print(i)\n",
    "        final_bool_ntyf[i] = True\n",
    "    else:\n",
    "        loc = np.where(sorted_truth == i)[0][0]\n",
    "        final_bool_ntyf[i] = sorted_ntyf_index[loc]\n",
    "df[final_bool_ntyf == 1].to_csv(\"train_100K_random_poison_1_50_95.csv\", index=False, header=[\"caption\", \"path\"])"
   ]
  },
  {
   "cell_type": "code",
   "execution_count": 8,
   "metadata": {},
   "outputs": [],
   "source": [
    "# distance = (a['img_txtnn'][poison_idx]).max()\n",
    "# sum(a['img_txtnn'][clean_idx] > distance)"
   ]
  },
  {
   "cell_type": "code",
   "execution_count": 9,
   "metadata": {},
   "outputs": [],
   "source": [
    "# distance = (a['img_txt'][poison_idx] - a['img_txtnn'][poison_idx]).max()\n",
    "# sum(a['img_txt'][clean_idx] - a['img_txtnn'][clean_idx] > distance)"
   ]
  }
 ],
 "metadata": {
  "kernelspec": {
   "display_name": "Python 3",
   "language": "python",
   "name": "python3"
  },
  "language_info": {
   "codemirror_mode": {
    "name": "ipython",
    "version": 3
   },
   "file_extension": ".py",
   "mimetype": "text/x-python",
   "name": "python",
   "nbconvert_exporter": "python",
   "pygments_lexer": "ipython3",
   "version": "3.10.6"
  },
  "orig_nbformat": 4,
  "vscode": {
   "interpreter": {
    "hash": "e0b61b801bee499609bf75262e7f96988907fc8b11da351027b342a461b231a7"
   }
  }
 },
 "nbformat": 4,
 "nbformat_minor": 2
}
