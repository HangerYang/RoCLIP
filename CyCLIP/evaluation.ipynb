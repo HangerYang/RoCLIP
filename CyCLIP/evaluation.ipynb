{
 "cells": [
  {
   "cell_type": "code",
   "execution_count": 1,
   "metadata": {},
   "outputs": [],
   "source": [
    "import numpy as np\n",
    "import matplotlib.pyplot as plt\n",
    "import re"
   ]
  },
  {
   "cell_type": "code",
   "execution_count": 13,
   "metadata": {},
   "outputs": [
    {
     "name": "stdout",
     "output_type": "stream",
     "text": [
      "epoch: 17\n",
      "psr_1: 0.0625\n",
      "psr_3: 0.125\n",
      "psr_5: 0.125\n",
      "poison class: ['pizza' 'baseball' 'tiger' 'candle' 'ice cream' 'desk' 'palace'\n",
      " 'necklace' 'umbrella' 'beach' 'pillow' 'balloon' 'mountain' 'suit' 'gown'\n",
      " 'castle']\n",
      "poison cosine similarity: [0.22120923 0.342075   0.19300602 0.14624885 0.41955736 0.3683043\n",
      " 0.2285586  0.3411943  0.4073532  0.33150557 0.7353397  0.27393457\n",
      " 0.30693972 0.620986   0.23642802 0.30205053]\n",
      "top three cosine similarity: [[0.69622785 0.68498313 0.66849124]\n",
      " [0.6282833  0.6130618  0.60341823]\n",
      " [0.5652303  0.55402416 0.5399603 ]\n",
      " [0.5148429  0.50248575 0.49242356]\n",
      " [0.6346726  0.61978424 0.61654776]\n",
      " [0.6814178  0.66568625 0.6344171 ]\n",
      " [0.6050923  0.5733441  0.5696448 ]\n",
      " [0.65817523 0.65403926 0.6312534 ]\n",
      " [0.6325334  0.62945634 0.6167334 ]\n",
      " [0.6105787  0.5596768  0.55629313]\n",
      " [0.7353397  0.6191848  0.60965616]\n",
      " [0.61599255 0.5423253  0.5223991 ]\n",
      " [0.57964814 0.56804484 0.55471975]\n",
      " [0.63106036 0.620986   0.61251956]\n",
      " [0.5673137  0.5544844  0.5471872 ]\n",
      " [0.6045605  0.5789678  0.56355435]]\n",
      "epoch: 38\n",
      "psr_1: 0.125\n",
      "psr_3: 0.125\n",
      "psr_5: 0.125\n",
      "poison class: ['pizza' 'baseball' 'tiger' 'candle' 'ice cream' 'desk' 'palace'\n",
      " 'necklace' 'umbrella' 'beach' 'pillow' 'balloon' 'mountain' 'suit' 'gown'\n",
      " 'castle']\n",
      "poison cosine similarity: [0.10555302 0.28168568 0.14838913 0.2751502  0.3194992  0.305418\n",
      " 0.32557136 0.29724807 0.27055812 0.27892628 0.6241796  0.2625636\n",
      " 0.34084588 0.6609677  0.22137317 0.26057407]\n",
      "top three cosine similarity: [[0.6147839  0.6117396  0.6097838 ]\n",
      " [0.5495324  0.5366058  0.52778023]\n",
      " [0.54603547 0.5059103  0.5048378 ]\n",
      " [0.5611675  0.5350147  0.5316063 ]\n",
      " [0.58088297 0.56939054 0.5624982 ]\n",
      " [0.58468515 0.568441   0.56414145]\n",
      " [0.64828485 0.63707536 0.61587185]\n",
      " [0.51828    0.5043238  0.49529427]\n",
      " [0.61339575 0.5971967  0.5940287 ]\n",
      " [0.52627605 0.51353765 0.5042533 ]\n",
      " [0.6241796  0.5132849  0.5131738 ]\n",
      " [0.50096077 0.45281303 0.44918695]\n",
      " [0.55360687 0.5483159  0.5445542 ]\n",
      " [0.6609677  0.6514001  0.48940334]\n",
      " [0.52075213 0.50089693 0.49696758]\n",
      " [0.4894978  0.4877479  0.4802258 ]]\n"
     ]
    }
   ],
   "source": [
    "dataset = \"imagenet500\"\n",
    "model_name = \"SafeCLIP_CC1M_poison_no_inmodal\"\n",
    "begin_epoch = 1\n",
    "end_epoch = 70\n",
    "total_poison = []\n",
    "for i in range(begin_epoch, end_epoch):\n",
    "    path = \"template/{}_{}_{}_0.npz\".format(model_name, dataset, str(i))\n",
    "    while True:\n",
    "        try:\n",
    "            np.load(path)\n",
    "            a = np.load(path)\n",
    "            total_poison.append(a['arr_0'])\n",
    "            # print(\"-------------------------------\")\n",
    "            # print(\"model name: \" + model_name)\n",
    "            print(\"epoch: \" + str(i))\n",
    "            print(\"psr_1: \" + str(a['arr_0']))\n",
    "            print(\"psr_3: \" + str(a['arr_1']))\n",
    "            print(\"psr_5: \" + str(a['arr_2']))\n",
    "            print(\"poison class: \" +str(a['arr_3']))\n",
    "            print(\"poison cosine similarity: \" + str(a['arr_4']))\n",
    "            print(\"top three cosine similarity: \" + str(a['arr_5']))\n",
    "            break\n",
    "        except:\n",
    "            break"
   ]
  },
  {
   "cell_type": "code",
   "execution_count": 18,
   "metadata": {},
   "outputs": [
    {
     "data": {
      "text/plain": [
       "0.9"
      ]
     },
     "execution_count": 18,
     "metadata": {},
     "output_type": "execute_result"
    }
   ],
   "source": [
    "300 * 0.003"
   ]
  },
  {
   "cell_type": "code",
   "execution_count": 8,
   "metadata": {},
   "outputs": [],
   "source": [
    "dataset = \"imagenet100\"\n",
    "model_name = \"NNCLIP_1M\"\n",
    "begin_epoch = 1\n",
    "end_epoch = 33\n",
    "total_poison = []\n",
    "for i in range(begin_epoch, end_epoch):\n",
    "    path = \"template/{}_{}_{}_0.npz\".format(model_name, dataset, str(i))\n",
    "    while True:\n",
    "        try:\n",
    "            np.load(path)\n",
    "            a = np.load(path)\n",
    "            total_poison.append(a['arr_0'])\n",
    "            # print(\"-------------------------------\")\n",
    "            # print(\"model name: \" + model_name)\n",
    "            print(\"epoch: \" + str(i))\n",
    "            print(\"psr: \" + str(a['arr_0']))\n",
    "            print(\"poison class: \" +str(a['arr_3']))\n",
    "            print(\"poison cosine similarity: \" + str(a['arr_4']))\n",
    "            print(\"top three cosine similarity: \" + str(a['arr_5']))\n",
    "            break\n",
    "        except:\n",
    "            break"
   ]
  },
  {
   "cell_type": "code",
   "execution_count": null,
   "metadata": {},
   "outputs": [],
   "source": [
    "plt.figure(figsize=(12,6))\n",
    "# def plot_cosine_similarity(cosine_similarity, update_epoch):\n",
    "plt.plot(total_poison)\n",
    "for xc in cleanse:\n",
    "    plt.axvline(x=xc, color = 'k', linestyle = '--')\n",
    "plt.xticks(np.arange(len(total_poison)), np.arange(1, len(total_poison)+1))\n",
    "plt.ylabel('poison ratio')\n",
    "plt.xlabel('epoch')"
   ]
  },
  {
   "cell_type": "code",
   "execution_count": 1,
   "metadata": {},
   "outputs": [
    {
     "name": "stderr",
     "output_type": "stream",
     "text": [
      "/home/hyang/deadclip/CyCLIP/env/lib/python3.10/site-packages/tqdm/auto.py:22: TqdmWarning: IProgress not found. Please update jupyter and ipywidgets. See https://ipywidgets.readthedocs.io/en/stable/user_install.html\n",
      "  from .autonotebook import tqdm as notebook_tqdm\n"
     ]
    }
   ],
   "source": [
    "import torch\n"
   ]
  },
  {
   "cell_type": "code",
   "execution_count": 24,
   "metadata": {},
   "outputs": [],
   "source": [
    "a = torch.tensor(5)\n",
    "idx = torch.tensor([0,1,2,3,4])\n",
    "value = torch.tensor([0.1,0.2,0.3,0.4,0.5])\n",
    "times = torch.tensor([0,0,0,0,0])\n",
    "# a = value"
   ]
  },
  {
   "cell_type": "code",
   "execution_count": 29,
   "metadata": {},
   "outputs": [],
   "source": [
    "a = torch.tensor(list(zip(value, times)))"
   ]
  },
  {
   "cell_type": "code",
   "execution_count": 31,
   "metadata": {},
   "outputs": [
    {
     "data": {
      "text/plain": [
       "tensor([[0.1000, 0.0000],\n",
       "        [0.2000, 0.0000],\n",
       "        [0.4000, 0.0000],\n",
       "        [0.5000, 0.0000]])"
      ]
     },
     "execution_count": 31,
     "metadata": {},
     "output_type": "execute_result"
    }
   ],
   "source": [
    "a[[0,1,3,4]]"
   ]
  },
  {
   "cell_type": "code",
   "execution_count": 5,
   "metadata": {},
   "outputs": [
    {
     "ename": "NameError",
     "evalue": "name 'a' is not defined",
     "output_type": "error",
     "traceback": [
      "\u001b[0;31m---------------------------------------------------------------------------\u001b[0m",
      "\u001b[0;31mNameError\u001b[0m                                 Traceback (most recent call last)",
      "\u001b[1;32m/home/hyang/NNCLIP/CyCLIP/evaluation.ipynb Cell 8\u001b[0m in \u001b[0;36m<cell line: 1>\u001b[0;34m()\u001b[0m\n\u001b[0;32m----> <a href='vscode-notebook-cell://ssh-remote%2Bt1/home/hyang/NNCLIP/CyCLIP/evaluation.ipynb#Y103sdnNjb2RlLXJlbW90ZQ%3D%3D?line=0'>1</a>\u001b[0m a[idx] \u001b[39m=\u001b[39m value\n",
      "\u001b[0;31mNameError\u001b[0m: name 'a' is not defined"
     ]
    }
   ],
   "source": []
  },
  {
   "cell_type": "code",
   "execution_count": null,
   "metadata": {},
   "outputs": [],
   "source": [
    "import numpy as np\n",
    "try:\n",
    "    np.load(\"CyCLIP/hello.npz\")\n",
    "except:\n",
    "    print(\"hello, world\")"
   ]
  },
  {
   "cell_type": "code",
   "execution_count": null,
   "metadata": {},
   "outputs": [],
   "source": [
    "epoch = 7\n",
    "a = np.load(\"/home/hyang/RoCLIP/CyCLIP/representation/1M_inmodal_continue_{}.npz\".format(epoch))\n",
    "clean_idx = a['index'] < 1000000\n",
    "poison_idx = a['index'] >= 1000000\n",
    "distance = np.percentile(a['img_txt'][poison_idx], 95)\n",
    "sum(a['img_txt'][clean_idx] > distance)\n"
   ]
  },
  {
   "cell_type": "code",
   "execution_count": null,
   "metadata": {},
   "outputs": [],
   "source": [
    "epoch = 7\n",
    "a = np.load(\"/home/hyang/RoCLIP/CyCLIP/representation/1M_inmodal_continue_slr_{}.npz\".format(epoch))\n",
    "clean_idx = a['index'] <= 1000000\n",
    "poison_idx = a['index'] > 1000000\n",
    "distance = np.percentile(a['img_txt'][poison_idx], 100)\n",
    "sum(a['img_txt'][clean_idx] > distance)"
   ]
  },
  {
   "cell_type": "code",
   "execution_count": null,
   "metadata": {},
   "outputs": [],
   "source": [
    "epoch = 7\n",
    "a = np.load(\"/home/hyang/RoCLIP/CyCLIP/representation/1M_inmodal_continue_{}.npz\".format(epoch))\n",
    "clean_idx = a['index'] < 1000000\n",
    "poison_idx = a['index'] >= 1000000\n",
    "distance = np.percentile(a['img_txt'][poison_idx], 95)\n",
    "sum(a['img_txt'][clean_idx] > distance)"
   ]
  },
  {
   "cell_type": "code",
   "execution_count": null,
   "metadata": {},
   "outputs": [],
   "source": [
    "import pandas as pd\n",
    "ntyf_index = a['img_txt'] > distance\n",
    "truth = a['index']\n",
    "sort = np.argsort(truth)\n",
    "sorted_truth = truth[sort]\n",
    "# sorted_nty_index = nty_index[sort]\n",
    "sorted_ntyf_index = ntyf_index[sort]\n",
    "df = pd.read_csv(\"../train_1M_random_poison_1_100.csv\")\n",
    "final_bool_ntyf = np.full(1000500, -1)\n",
    "for i in range(1000500):\n",
    "    if i not in truth:\n",
    "        final_bool_ntyf[i] = True\n",
    "    else:\n",
    "        loc = np.where(sorted_truth == i)[0][0]\n",
    "        final_bool_ntyf[i] = sorted_ntyf_index[loc]\n",
    "df[final_bool_ntyf == 1].to_csv(\"train_1M_random_poison_1_100_100.csv\", index=False, header=[\"caption\", \"path\"])"
   ]
  },
  {
   "cell_type": "code",
   "execution_count": 9,
   "metadata": {},
   "outputs": [],
   "source": [
    "import pandas as pd\n",
    "import matplotlib.pyplot as plt\n",
    "import re\n",
    "import numpy as np\n",
    "\n",
    "poison_per_category = 30\n",
    "# poisoners = ['desk', 'palace', 'necklace', 'balloon', 'pillow', \n",
    "#              'candle', 'pizza', 'umbrella', 'television', \"baseball\", \n",
    "#              \"ice cream\", \"suit\", 'mountain', 'beach', 'plate',\n",
    "#              'orange']\n",
    "poisoners = [\"pizza\", \"baseball\", \"tiger\", \"candle\", \"ice cream\", \"desk\", \"palace\", \"necklace\"]\n",
    "full_poison_range = poison_per_category * len(poisoners)\n",
    "size_of_data = 1000000\n",
    "def plot_poison_distribution(file_path, poison_category='full', filter_ratios=[0.1, 0.15, 0.2, 0.3, 0.4, 0.5, 0.6, 0.7]):\n",
    "    df = pd.read_csv(file_path, sep='\\t', header=None)\n",
    "    # a = torch.load(file_path).cpu().numpy()\n",
    "    # df = pd.DataFrame(a)\n",
    "    df[0] = df[0].astype(int)\n",
    "    mean_similarity = df[1].mean()\n",
    "    orig_len = len(df)\n",
    "    mean_similarity = df[1].mean()\n",
    "    orig_len = len(df)\n",
    "\n",
    "    if poison_category == 'full':\n",
    "        condition = df[0] > (size_of_data)\n",
    "    else:\n",
    "        condition = (df[0] >= poison_per_category * poisoners.index(poison_category) \\\n",
    "                        and df[0] < poison_per_category * (poisoners.index(poison_category)+1))\n",
    "    df = df[condition]\n",
    "    \n",
    "    fig, (ax1, ax2) = plt.subplots(2, 1, figsize=(8, 6))\n",
    "\n",
    "    n, bins, patches = ax1.hist(df.index.tolist(), bins=50, color='blue', alpha=0.5)\n",
    "    ax1.xaxis.set_major_locator(plt.MaxNLocator(integer=True))\n",
    "    ax1.set_title('Poison Rank Distribution')\n",
    "    ax1.set_xlabel('Poison Rank')\n",
    "    ax1.set_ylabel('Frequency')\n",
    "    \n",
    "    comments = []\n",
    "    for ratio in filter_ratios:\n",
    "        unfiltered_poison_num = (df.index < orig_len * ratio).sum()\n",
    "        comments.append('poison num at top %f: %d'%(ratio, unfiltered_poison_num))\n",
    "    comment_x = np.argmax(n)\n",
    "    comment_y = np.max(n) \n",
    "    ax1.text(comment_x, comment_y, '\\n'.join(comments), fontsize=12, ha='center')\n",
    "\n",
    "\n",
    "    ax2.hist(df[1].tolist(), bins=30, color='green', alpha=0.5)\n",
    "    ax2.invert_xaxis()\n",
    "    ax2.set_title('Poison Similarity Distribution')\n",
    "    ax2.set_xlabel('Poison Similarity')\n",
    "    ax2.set_ylabel('Frequency')\n",
    "    ax2.axvline(mean_similarity, color='red', linestyle='--', label='mean_similarity')\n",
    "    ax2.legend()\n",
    "\n",
    "    plt.tight_layout()\n",
    "    plt.savefig('post_pretraining_analysis/dist_%s_%s.png' \\\n",
    "                %(re.search(r\"/([^/]+).tsv\", file_path).group(1), poison_category))\n",
    "    plt.close()\n",
    "\n",
    "\n",
    "        \n",
    "        "
   ]
  },
  {
   "cell_type": "code",
   "execution_count": 10,
   "metadata": {},
   "outputs": [],
   "source": [
    "for i in range(7,8,1):\n",
    "    plot_poison_distribution(\"indices/NNCLIP_1M_update{}.tsv\".format(i))"
   ]
  },
  {
   "cell_type": "code",
   "execution_count": 45,
   "metadata": {},
   "outputs": [],
   "source": [
    "df = pd.DataFrame(a)\n",
    "df[0] = df[0].astype(int)"
   ]
  },
  {
   "cell_type": "code",
   "execution_count": 44,
   "metadata": {},
   "outputs": [
    {
     "ename": "AttributeError",
     "evalue": "'Series' object has no attribute 'astype_'",
     "output_type": "error",
     "traceback": [
      "\u001b[0;31m---------------------------------------------------------------------------\u001b[0m",
      "\u001b[0;31mAttributeError\u001b[0m                            Traceback (most recent call last)",
      "\u001b[1;32m/home/hyang/NNCLIP/CyCLIP/evaluation.ipynb Cell 19\u001b[0m in \u001b[0;36m<cell line: 1>\u001b[0;34m()\u001b[0m\n\u001b[0;32m----> <a href='vscode-notebook-cell://ssh-remote%2Bt1/home/hyang/NNCLIP/CyCLIP/evaluation.ipynb#Y115sdnNjb2RlLXJlbW90ZQ%3D%3D?line=0'>1</a>\u001b[0m df[\u001b[39m0\u001b[39;49m]\u001b[39m.\u001b[39;49mastype_(\u001b[39mint\u001b[39m)\n",
      "File \u001b[0;32m~/deadclip/CyCLIP/env/lib/python3.10/site-packages/pandas/core/generic.py:5902\u001b[0m, in \u001b[0;36mNDFrame.__getattr__\u001b[0;34m(self, name)\u001b[0m\n\u001b[1;32m   5895\u001b[0m \u001b[39mif\u001b[39;00m (\n\u001b[1;32m   5896\u001b[0m     name \u001b[39mnot\u001b[39;00m \u001b[39min\u001b[39;00m \u001b[39mself\u001b[39m\u001b[39m.\u001b[39m_internal_names_set\n\u001b[1;32m   5897\u001b[0m     \u001b[39mand\u001b[39;00m name \u001b[39mnot\u001b[39;00m \u001b[39min\u001b[39;00m \u001b[39mself\u001b[39m\u001b[39m.\u001b[39m_metadata\n\u001b[1;32m   5898\u001b[0m     \u001b[39mand\u001b[39;00m name \u001b[39mnot\u001b[39;00m \u001b[39min\u001b[39;00m \u001b[39mself\u001b[39m\u001b[39m.\u001b[39m_accessors\n\u001b[1;32m   5899\u001b[0m     \u001b[39mand\u001b[39;00m \u001b[39mself\u001b[39m\u001b[39m.\u001b[39m_info_axis\u001b[39m.\u001b[39m_can_hold_identifiers_and_holds_name(name)\n\u001b[1;32m   5900\u001b[0m ):\n\u001b[1;32m   5901\u001b[0m     \u001b[39mreturn\u001b[39;00m \u001b[39mself\u001b[39m[name]\n\u001b[0;32m-> 5902\u001b[0m \u001b[39mreturn\u001b[39;00m \u001b[39mobject\u001b[39;49m\u001b[39m.\u001b[39;49m\u001b[39m__getattribute__\u001b[39;49m(\u001b[39mself\u001b[39;49m, name)\n",
      "\u001b[0;31mAttributeError\u001b[0m: 'Series' object has no attribute 'astype_'"
     ]
    }
   ],
   "source": [
    "df[0].astype_(int)"
   ]
  },
  {
   "cell_type": "code",
   "execution_count": null,
   "metadata": {},
   "outputs": [],
   "source": []
  },
  {
   "cell_type": "code",
   "execution_count": 410,
   "metadata": {},
   "outputs": [],
   "source": [
    "def intersection(a, b):\n",
    "    return list(set(a) & set(b))\n",
    "\n",
    "def diff(a,b):\n",
    "    return list(set(a) - set(b))"
   ]
  },
  {
   "cell_type": "code",
   "execution_count": 559,
   "metadata": {},
   "outputs": [
    {
     "name": "stdout",
     "output_type": "stream",
     "text": [
      "Epoch: 8\n",
      "Time to Die!\n",
      "Length of the data 1: \n",
      "200000\n",
      "Num of the Poison 1: \n",
      "37\n",
      "Length of the data 2: \n",
      "200000\n",
      "Num of the Poison 2: \n",
      "37\n",
      "Length of the data 3: \n",
      "199999\n",
      "Num of the Poison 2: \n",
      "37\n",
      "\n",
      "\n",
      "Epoch: 9\n",
      "Length of the data 1: \n",
      "230000\n",
      "Num of the Poison 1: \n",
      "16\n",
      "Length of the data 2: \n",
      "230000\n",
      "Num of the Poison 2: \n",
      "29\n",
      "Length of the data 3: \n",
      "189276\n",
      "Num of the Poison 2: \n",
      "14\n",
      "\n",
      "\n",
      "Epoch: 10\n",
      "Length of the data 1: \n",
      "260000\n",
      "Num of the Poison 1: \n",
      "24\n",
      "Length of the data 2: \n",
      "260000\n",
      "Num of the Poison 2: \n",
      "28\n",
      "Length of the data 3: \n",
      "202701\n",
      "Num of the Poison 2: \n",
      "20\n",
      "\n",
      "\n",
      "Epoch: 11\n",
      "Length of the data 1: \n",
      "290000\n",
      "Num of the Poison 1: \n",
      "23\n",
      "Length of the data 2: \n",
      "290000\n",
      "Num of the Poison 2: \n",
      "24\n",
      "Length of the data 3: \n",
      "222735\n",
      "Num of the Poison 2: \n",
      "17\n",
      "\n",
      "\n",
      "Epoch: 12\n",
      "Length of the data 1: \n",
      "320000\n",
      "Num of the Poison 1: \n",
      "13\n",
      "Length of the data 2: \n",
      "320000\n",
      "Num of the Poison 2: \n",
      "25\n",
      "Length of the data 3: \n",
      "242360\n",
      "Num of the Poison 2: \n",
      "11\n",
      "\n",
      "\n",
      "Epoch: 13\n",
      "Length of the data 1: \n",
      "350000\n",
      "Num of the Poison 1: \n",
      "5\n",
      "Length of the data 2: \n",
      "350000\n",
      "Num of the Poison 2: \n",
      "26\n",
      "Length of the data 3: \n",
      "264581\n",
      "Num of the Poison 2: \n",
      "5\n",
      "\n",
      "\n",
      "Epoch: 14\n",
      "Length of the data 1: \n",
      "380000\n",
      "Num of the Poison 1: \n",
      "8\n",
      "Length of the data 2: \n",
      "380000\n",
      "Num of the Poison 2: \n",
      "22\n",
      "Length of the data 3: \n",
      "288179\n",
      "Num of the Poison 2: \n",
      "6\n",
      "\n",
      "\n",
      "Epoch: 15\n",
      "Length of the data 1: \n",
      "410000\n",
      "Num of the Poison 1: \n",
      "13\n",
      "Length of the data 2: \n",
      "410000\n",
      "Num of the Poison 2: \n",
      "24\n",
      "Length of the data 3: \n",
      "315326\n",
      "Num of the Poison 2: \n",
      "9\n",
      "\n",
      "\n",
      "Epoch: 16\n",
      "Length of the data 1: \n",
      "440000\n",
      "Num of the Poison 1: \n",
      "4\n",
      "Length of the data 2: \n",
      "440000\n",
      "Num of the Poison 2: \n",
      "21\n",
      "Length of the data 3: \n",
      "341992\n",
      "Num of the Poison 2: \n",
      "4\n",
      "\n",
      "\n",
      "Epoch: 17\n",
      "Time to Die!\n",
      "Length of the data 1: \n",
      "470000\n",
      "Num of the Poison 1: \n",
      "3\n",
      "Length of the data 2: \n",
      "470000\n",
      "Num of the Poison 2: \n",
      "3\n",
      "Length of the data 3: \n",
      "469999\n",
      "Num of the Poison 2: \n",
      "3\n",
      "\n",
      "\n",
      "Epoch: 18\n",
      "Length of the data 1: \n",
      "500000\n",
      "Num of the Poison 1: \n",
      "14\n",
      "Length of the data 2: \n",
      "500000\n",
      "Num of the Poison 2: \n",
      "4\n",
      "Length of the data 3: \n",
      "443369\n",
      "Num of the Poison 2: \n",
      "4\n",
      "\n",
      "\n",
      "Epoch: 19\n",
      "Length of the data 1: \n",
      "530000\n",
      "Num of the Poison 1: \n",
      "5\n",
      "Length of the data 2: \n",
      "530000\n",
      "Num of the Poison 2: \n",
      "4\n",
      "Length of the data 3: \n",
      "463035\n",
      "Num of the Poison 2: \n",
      "2\n",
      "\n",
      "\n",
      "Epoch: 20\n",
      "Length of the data 1: \n",
      "560000\n",
      "Num of the Poison 1: \n",
      "3\n",
      "Length of the data 2: \n",
      "560000\n",
      "Num of the Poison 2: \n",
      "2\n",
      "Length of the data 3: \n",
      "487438\n",
      "Num of the Poison 2: \n",
      "1\n",
      "\n",
      "\n",
      "Epoch: 21\n",
      "Length of the data 1: \n",
      "590000\n",
      "Num of the Poison 1: \n",
      "2\n",
      "Length of the data 2: \n",
      "590000\n",
      "Num of the Poison 2: \n",
      "2\n",
      "Length of the data 3: \n",
      "517814\n",
      "Num of the Poison 2: \n",
      "1\n",
      "\n",
      "\n",
      "Epoch: 22\n",
      "Length of the data 1: \n",
      "620000\n",
      "Num of the Poison 1: \n",
      "4\n",
      "Length of the data 2: \n",
      "620000\n",
      "Num of the Poison 2: \n",
      "2\n",
      "Length of the data 3: \n",
      "546933\n",
      "Num of the Poison 2: \n",
      "1\n",
      "\n",
      "\n",
      "Epoch: 23\n",
      "Length of the data 1: \n",
      "650000\n",
      "Num of the Poison 1: \n",
      "8\n",
      "Length of the data 2: \n",
      "650000\n",
      "Num of the Poison 2: \n",
      "2\n",
      "Length of the data 3: \n",
      "576682\n",
      "Num of the Poison 2: \n",
      "1\n",
      "\n",
      "\n",
      "Epoch: 24\n",
      "Length of the data 1: \n",
      "680000\n",
      "Num of the Poison 1: \n",
      "11\n",
      "Length of the data 2: \n",
      "680000\n",
      "Num of the Poison 2: \n",
      "4\n",
      "Length of the data 3: \n",
      "608466\n",
      "Num of the Poison 2: \n",
      "2\n",
      "\n",
      "\n",
      "Epoch: 25\n",
      "Time to Die!\n",
      "Length of the data 1: \n",
      "710000\n",
      "Num of the Poison 1: \n",
      "7\n",
      "Length of the data 2: \n",
      "710000\n",
      "Num of the Poison 2: \n",
      "7\n",
      "Length of the data 3: \n",
      "709999\n",
      "Num of the Poison 2: \n",
      "7\n",
      "\n",
      "\n",
      "Epoch: 26\n",
      "Length of the data 1: \n",
      "740000\n",
      "Num of the Poison 1: \n",
      "20\n",
      "Length of the data 2: \n",
      "740000\n",
      "Num of the Poison 2: \n",
      "8\n",
      "Length of the data 3: \n",
      "697422\n",
      "Num of the Poison 2: \n",
      "6\n",
      "\n",
      "\n",
      "Epoch: 27\n",
      "Length of the data 1: \n",
      "770000\n",
      "Num of the Poison 1: \n",
      "20\n",
      "Length of the data 2: \n",
      "770000\n",
      "Num of the Poison 2: \n",
      "7\n",
      "Length of the data 3: \n",
      "722745\n",
      "Num of the Poison 2: \n",
      "6\n",
      "\n",
      "\n",
      "Epoch: 28\n",
      "Length of the data 1: \n",
      "800000\n",
      "Num of the Poison 1: \n",
      "19\n",
      "Length of the data 2: \n",
      "800000\n",
      "Num of the Poison 2: \n",
      "12\n",
      "Length of the data 3: \n",
      "752073\n",
      "Num of the Poison 2: \n",
      "8\n",
      "\n",
      "\n",
      "Epoch: 29\n",
      "Length of the data 1: \n",
      "830000\n",
      "Num of the Poison 1: \n",
      "27\n",
      "Length of the data 2: \n",
      "830000\n",
      "Num of the Poison 2: \n",
      "16\n",
      "Length of the data 3: \n",
      "786670\n",
      "Num of the Poison 2: \n",
      "10\n",
      "\n",
      "\n",
      "Epoch: 30\n",
      "Length of the data 1: \n",
      "850000\n",
      "Num of the Poison 1: \n",
      "22\n",
      "Length of the data 2: \n",
      "850000\n",
      "Num of the Poison 2: \n",
      "14\n",
      "Length of the data 3: \n",
      "809172\n",
      "Num of the Poison 2: \n",
      "10\n",
      "\n",
      "\n",
      "Epoch: 31\n",
      "Length of the data 1: \n",
      "850000\n",
      "Num of the Poison 1: \n",
      "30\n",
      "Length of the data 2: \n",
      "850000\n",
      "Num of the Poison 2: \n",
      "13\n",
      "Length of the data 3: \n",
      "807946\n",
      "Num of the Poison 2: \n",
      "12\n",
      "\n",
      "\n"
     ]
    }
   ],
   "source": [
    "update = False\n",
    "someone = None\n",
    "for i in range(8, 32):   \n",
    "    print(\"Epoch: {}\".format(i)) \n",
    "    file_path = \"/home/hyang/NNCLIP/CyCLIP/indices/NNCLIP_1M_update{}.tsv\".format(i)\n",
    "    # file_path_2 = \"/home/hyang/NNCLIP/CyCLIP/indices/NNCLIP_1M_update{}.tsv\".format(i+1)\n",
    "    df = pd.read_csv(file_path, sep='\\t', header=None, index_col = [0])\n",
    "    # df_2 = pd.read_csv(file_path_2, sep='\\t', header=None, index_col = [0])\n",
    "    size_of_data = 1000000\n",
    "    compare_df = df.sort_index()\n",
    "    temp = compare_df.values.flatten()\n",
    "    num = 10000 * 20 + (i - 8) * 30000 \n",
    "    num = min(num, 850000)\n",
    "    the_one = df.index[:num]\n",
    "    # print((np.argsort(temp)[:50000] > 1000000).sum())\n",
    "    # print(np.argsort(temp)[:50000][(np.argsort(temp)[:50000] > 1000000)])\n",
    "    # print(len(df))\n",
    "    # condition = df.index > (size_of_data)\n",
    "    # condition_2 = df_2.index > (size_of_data)\n",
    "    # df.insert(0, \"order\", range(1, orig_len+1))\n",
    "    # df_2.insert(0, \"order\", range(1, orig_len+1))\n",
    "    # filter_ratios = [0.1, 0.2, 0.3]\n",
    "    # new_df = df[condition]\n",
    "    # for ratio in filter_ratios:\n",
    "    #     unfiltered_poison_num = (new_df[\"order\"] < orig_len * ratio).sum()\n",
    "    #     print(unfiltered_poison_num)\n",
    "    # compare_df = df.sort_index().compare(df_2.sort_index(),keep_equal=True, keep_shape=True)[1]\n",
    "    # increase_value = compare_df[\"other\"] - compare_df[\"self\"]\n",
    "    # increase_value = increase_value.to_frame(name=\"cs\")\n",
    "    if update:\n",
    "        someone = someone + temp\n",
    "    else:\n",
    "        update = True\n",
    "        print(\"Time to Die!\")\n",
    "        someone = temp\n",
    "    if (i - 8) % 8 == 0 and i > 8 and i < 25:\n",
    "        update = False\n",
    "       \n",
    "    the_two = np.argsort(someone)[-num:]\n",
    "    # the_two = np.array([i for i in the_one if i not in some_one])\n",
    "    print(\"Length of the data 1: \")\n",
    "    print(len(the_one))\n",
    "    print(\"Num of the Poison 1: \")\n",
    "    print(sum(the_one > 1000000))\n",
    "    print(\"Length of the data 2: \")\n",
    "    print(len(the_two))\n",
    "    print(\"Num of the Poison 2: \")\n",
    "    print(sum(the_two > 1000000))\n",
    "    a = intersection(the_one, the_two)\n",
    "    print(\"Length of the data 3: \")\n",
    "    print(len(a))\n",
    "    print(\"Num of the Poison 2: \")\n",
    "    print(sum(np.array(a) > 1000000))\n",
    "    print(\"\\n\")\n",
    "    # increase_value = increase_value.sort_values(by=\"cs\", ascending=False)\n",
    "# cd = increase_value.index > 1000000\n",
    "# increase_value[cd].hist(bins=10)\n",
    "# cd = increase_value.index <= 1000000\n",
    "# increase_value[cd].hist(bins=10)"
   ]
  },
  {
   "cell_type": "code",
   "execution_count": 522,
   "metadata": {},
   "outputs": [
    {
     "data": {
      "text/plain": [
       "array([-1.090819, -0.979065, -0.971812, ...,  0.578183,  0.578184,\n",
       "        0.578184])"
      ]
     },
     "execution_count": 522,
     "metadata": {},
     "output_type": "execute_result"
    }
   ],
   "source": [
    "np.sort(someone)[:num]"
   ]
  },
  {
   "cell_type": "code",
   "execution_count": 523,
   "metadata": {},
   "outputs": [
    {
     "data": {
      "text/plain": [
       "array([-1.090819, -0.979065, -0.971812, ...,  1.843109,  1.857512,\n",
       "        1.869493])"
      ]
     },
     "execution_count": 523,
     "metadata": {},
     "output_type": "execute_result"
    }
   ],
   "source": [
    "np.sort(someone)"
   ]
  },
  {
   "cell_type": "code",
   "execution_count": 481,
   "metadata": {},
   "outputs": [
    {
     "data": {
      "text/plain": [
       "array([449822, 825623, 155091, ..., 934381, 365172, 295714])"
      ]
     },
     "execution_count": 481,
     "metadata": {},
     "output_type": "execute_result"
    }
   ],
   "source": [
    "num = 10000 * (15 + i - 7) \n",
    "train_data = np.argsort(the_one)[-50000:]"
   ]
  },
  {
   "cell_type": "code",
   "execution_count": 478,
   "metadata": {},
   "outputs": [],
   "source": [
    "# a = np.argsort(the_one)[-50000:][(np.argsort(the_one)[:50000] > 1000000)]\n",
    "# b = np.argsort(someone)[-100000:]"
   ]
  },
  {
   "cell_type": "code",
   "execution_count": null,
   "metadata": {},
   "outputs": [],
   "source": [
    "explore = []\n",
    "for i in range(7, 32):    \n",
    "    file_path = \"/home/hyang/NNCLIP/CyCLIP/indices/NNCLIP_1M_update{}.tsv\".format(i)\n",
    "    # file_path_2 = \"/home/hyang/NNCLIP/CyCLIP/indices/NNCLIP_1M_update{}.tsv\".format(i+1)\n",
    "    df = pd.read_csv(file_path, sep='\\t', header=None)\n",
    "    num = 10000 * (15 + i - 7) \n",
    "    index = df[0][:num].values\n",
    "    explore.append(index)\n",
    "    print((index > 1000000).sum())"
   ]
  },
  {
   "cell_type": "code",
   "execution_count": 528,
   "metadata": {},
   "outputs": [
    {
     "data": {
      "text/plain": [
       "19"
      ]
     },
     "execution_count": 528,
     "metadata": {},
     "output_type": "execute_result"
    }
   ],
   "source": []
  },
  {
   "cell_type": "code",
   "execution_count": 518,
   "metadata": {},
   "outputs": [
    {
     "data": {
      "text/plain": [
       "310000"
      ]
     },
     "execution_count": 518,
     "metadata": {},
     "output_type": "execute_result"
    }
   ],
   "source": [
    "len(np.concatenate(explore))"
   ]
  },
  {
   "cell_type": "code",
   "execution_count": 519,
   "metadata": {},
   "outputs": [
    {
     "data": {
      "text/plain": [
       "234977"
      ]
     },
     "execution_count": 519,
     "metadata": {},
     "output_type": "execute_result"
    }
   ],
   "source": [
    "len(set(np.concatenate(explore)))"
   ]
  },
  {
   "cell_type": "code",
   "execution_count": 428,
   "metadata": {},
   "outputs": [
    {
     "data": {
      "text/plain": [
       "array([1000651, 1000641, 1000685, 1000692])"
      ]
     },
     "execution_count": 428,
     "metadata": {},
     "output_type": "execute_result"
    }
   ],
   "source": [
    "a"
   ]
  },
  {
   "cell_type": "code",
   "execution_count": 1,
   "metadata": {},
   "outputs": [
    {
     "ename": "NameError",
     "evalue": "name 're' is not defined",
     "output_type": "error",
     "traceback": [
      "\u001b[0;31m---------------------------------------------------------------------------\u001b[0m",
      "\u001b[0;31mNameError\u001b[0m                                 Traceback (most recent call last)",
      "\u001b[1;32m/home/hyang/NNCLIP/CyCLIP/evaluation.ipynb Cell 12\u001b[0m in \u001b[0;36m<cell line: 10>\u001b[0;34m()\u001b[0m\n\u001b[1;32m      <a href='vscode-notebook-cell://ssh-remote%2Bt1/home/hyang/NNCLIP/CyCLIP/evaluation.ipynb#X14sdnNjb2RlLXJlbW90ZQ%3D%3D?line=8'>9</a>\u001b[0m \u001b[39m# Strips the newline character\u001b[39;00m\n\u001b[1;32m     <a href='vscode-notebook-cell://ssh-remote%2Bt1/home/hyang/NNCLIP/CyCLIP/evaluation.ipynb#X14sdnNjb2RlLXJlbW90ZQ%3D%3D?line=9'>10</a>\u001b[0m \u001b[39mfor\u001b[39;00m line \u001b[39min\u001b[39;00m Lines:\n\u001b[0;32m---> <a href='vscode-notebook-cell://ssh-remote%2Bt1/home/hyang/NNCLIP/CyCLIP/evaluation.ipynb#X14sdnNjb2RlLXJlbW90ZQ%3D%3D?line=10'>11</a>\u001b[0m     a \u001b[39m=\u001b[39m re\u001b[39m.\u001b[39msearch(\u001b[39m\"\u001b[39m\u001b[39mLearning Rate:\u001b[39m\u001b[39m\"\u001b[39m, line)\n\u001b[1;32m     <a href='vscode-notebook-cell://ssh-remote%2Bt1/home/hyang/NNCLIP/CyCLIP/evaluation.ipynb#X14sdnNjb2RlLXJlbW90ZQ%3D%3D?line=11'>12</a>\u001b[0m     b \u001b[39m=\u001b[39m re\u001b[39m.\u001b[39msearch(\u001b[39m\"\u001b[39m\u001b[39mMultimodal\u001b[39m\u001b[39m\"\u001b[39m, line)\n\u001b[1;32m     <a href='vscode-notebook-cell://ssh-remote%2Bt1/home/hyang/NNCLIP/CyCLIP/evaluation.ipynb#X14sdnNjb2RlLXJlbW90ZQ%3D%3D?line=12'>13</a>\u001b[0m     c \u001b[39m=\u001b[39m re\u001b[39m.\u001b[39msearch(\u001b[39m\"\u001b[39m\u001b[39mInmodal\u001b[39m\u001b[39m\"\u001b[39m, line)\n",
      "\u001b[0;31mNameError\u001b[0m: name 're' is not defined"
     ]
    }
   ],
   "source": [
    "file1 = open('logs/NNCLIP_1M_0.02/output.log', 'r')\n",
    "Lines = file1.readlines()\n",
    "\n",
    " \n",
    "count = 0\n",
    "learn_rate_inmodal = []\n",
    "learn_rate_crossmodal = []\n",
    "cross_modal = True\n",
    "# Strips the newline character\n",
    "for line in Lines:\n",
    "    a = re.search(\"Learning Rate:\", line)\n",
    "    b = re.search(\"Multimodal\", line)\n",
    "    c = re.search(\"Inmodal\", line)\n",
    "    if b:\n",
    "        cross_modal = True\n",
    "    if c:\n",
    "        cross_modal = False\n",
    "    if a and cross_modal:\n",
    "        learn_rate_crossmodal.append(float(line.strip()[-11:]))\n",
    "    elif a:\n",
    "        # print(line)\n",
    "        # print(cross_modal)\n",
    "        learn_rate_inmodal.append(float(line.strip()[-11:]))"
   ]
  },
  {
   "cell_type": "code",
   "execution_count": 14,
   "metadata": {},
   "outputs": [
    {
     "data": {
      "text/plain": [
       "[<matplotlib.lines.Line2D at 0x7f23c789a2f0>]"
      ]
     },
     "execution_count": 14,
     "metadata": {},
     "output_type": "execute_result"
    },
    {
     "data": {
      "image/png": "[encoded data removed]",
      "text/plain": [
       "<Figure size 640x480 with 1 Axes>"
      ]
     },
     "metadata": {},
     "output_type": "display_data"
    }
   ],
   "source": [
    "plt.plot(learn_rate_crossmodal)"
   ]
  },
  {
   "cell_type": "code",
   "execution_count": 4,
   "metadata": {},
   "outputs": [
    {
     "data": {
      "text/plain": [
       "[<matplotlib.lines.Line2D at 0x7f640abc1270>]"
      ]
     },
     "execution_count": 4,
     "metadata": {},
     "output_type": "execute_result"
    },
    {
     "data": {
      "image/png": "[encoded data removed]",
      "text/plain": [
       "<Figure size 640x480 with 1 Axes>"
      ]
     },
     "metadata": {},
     "output_type": "display_data"
    }
   ],
   "source": [
    "import re\n",
    "file1 = open(\"logs/NNCLIP_1M_500/output.log\", 'r')\n",
    "Lines = file1.readlines()\n",
    "\n",
    " \n",
    "learn_rate = []\n",
    "# learn_rate_crossmodal = []\n",
    "# Strips the newline character\n",
    "for line in Lines:\n",
    "    a = re.search(\"Learning Rate:\", line)\n",
    "    if a:\n",
    "        learn_rate.append(float(line.strip()[-11:]))\n",
    "        # print(line.strip()[-11:])\n",
    "plt.plot(learn_rate)"
   ]
  },
  {
   "cell_type": "code",
   "execution_count": 3,
   "metadata": {},
   "outputs": [
    {
     "data": {
      "text/plain": [
       "[<matplotlib.lines.Line2D at 0x7f45586ec7c0>]"
      ]
     },
     "execution_count": 3,
     "metadata": {},
     "output_type": "execute_result"
    },
    {
     "data": {
      "image/png": "[encoded data removed]",
      "text/plain": [
       "<Figure size 640x480 with 1 Axes>"
      ]
     },
     "metadata": {},
     "output_type": "display_data"
    }
   ],
   "source": [
    "import re\n",
    "file1 = open(\"logs/NNCLIP_1M_0.02/output.log\", 'r')\n",
    "Lines = file1.readlines()\n",
    "\n",
    " \n",
    "learn_rate = []\n",
    "# learn_rate_crossmodal = []\n",
    "# Strips the newline character\n",
    "for line in Lines:\n",
    "    a = re.search(\"Learning Rate:\", line)\n",
    "    if a:\n",
    "        learn_rate.append(float(line.strip()[-11:]))\n",
    "        # print(line.strip()[-11:])\n",
    "plt.plot(learn_rate)"
   ]
  },
  {
   "cell_type": "markdown",
   "metadata": {},
   "source": [
    "python -m src.main --name test --train_data ../test_data_10K.csv --validation_data ../valid_temp.csv --multimodal_warmup 0 --inmodal_warmup 0 --loader_update_freq 1 --filter_ratio 0.2 --epochs 3 --update_filter_ratio 0.1 --batch_size 256 --memory_bank --memory_bank_size 2048 --index_dir indices --save_index --device_ids 4 5 --distributed\n",
    "\n",
    "python -m src.main --name NNCLIP_100K_CROSS --train_data ../train_100K_30.csv --validation_data ../valid_temp.csv --multimodal_warmup 1 --inmodal_warmup 5 --loader_update_freq 4 --filter_ratio 0.2 --epochs 32 --post_lr 5e-6 --update_filter_ratio 0.1 --batch_size 128 --inmodal --index_dir indices --save_index --device_id 7\n",
    "\n",
    "python -m src.main --name NNCLIP_100K_NN_CROSS_s_step --train_data ../train_100K_30.csv --validation_data ../valid_temp.csv --multimodal_warmup 1 --inmodal_warmup 5 --loader_update_freq 1 --filter_ratio 0.2 --epochs 64 --post_lr 5e-6 --update_filter_ratio 0.01 --batch_size 128 --inmodal --memory_bank --memory_bank_size 2048 --index_dir indices --save_index --device_id 0\n"
   ]
  },
  {
   "cell_type": "code",
   "execution_count": 44,
   "metadata": {},
   "outputs": [],
   "source": [
    "import torch\n",
    "import torch.nn.functional as F\n",
    "\n",
    "initial_value = torch.zeros(10)\n",
    "initial_time = torch.zeros(10)\n",
    "accumulate_bible = torch.tensor(list(zip(initial_value, initial_time))).T\n",
    "sample_idx = torch.tensor([1,3,5,2,4])"
   ]
  },
  {
   "cell_type": "code",
   "execution_count": 47,
   "metadata": {},
   "outputs": [],
   "source": [
    "accumulate_bible[0][sample_idx] = torch.tensor([1.,2.,3.,4.,5.])\n",
    "accumulate_bible[1][sample_idx] = torch.tensor([2.,2.,2.,2.,2.])"
   ]
  },
  {
   "cell_type": "code",
   "execution_count": 3,
   "metadata": {},
   "outputs": [
    {
     "data": {
      "text/plain": [
       "13.280000000000001"
      ]
     },
     "execution_count": 3,
     "metadata": {},
     "output_type": "execute_result"
    }
   ],
   "source": [
    "0.166 * 80"
   ]
  },
  {
   "cell_type": "code",
   "execution_count": 49,
   "metadata": {},
   "outputs": [],
   "source": [
    "acc_sim = accumulate_bible[0][sample_idx] / accumulate_bible[1][sample_idx]\n",
    "acc_sorted_indices = torch.argsort(acc_sim, descending=True)"
   ]
  },
  {
   "cell_type": "code",
   "execution_count": 51,
   "metadata": {},
   "outputs": [
    {
     "data": {
      "text/plain": [
       "tensor([0.5000, 1.0000, 1.5000, 2.0000, 2.5000])"
      ]
     },
     "execution_count": 51,
     "metadata": {},
     "output_type": "execute_result"
    }
   ],
   "source": [
    "acc_sim"
   ]
  },
  {
   "cell_type": "code",
   "execution_count": 50,
   "metadata": {},
   "outputs": [
    {
     "data": {
      "text/plain": [
       "tensor([4, 3, 2, 1, 0])"
      ]
     },
     "execution_count": 50,
     "metadata": {},
     "output_type": "execute_result"
    }
   ],
   "source": [
    "acc_sorted_indices "
   ]
  },
  {
   "cell_type": "code",
   "execution_count": null,
   "metadata": {},
   "outputs": [],
   "source": [
    "class op(object):\n",
    "    def __init__(self, epochs, inmodal_warmup, multimodal_warmup, loader_update_freq, update_filter_ratio, filter_ratio):\n",
    "            self.epochs = epochs\n",
    "            self.inmodal_warmup = inmodal_warmup\n",
    "            self.multimodal_warmup = multimodal_warmup\n",
    "            self.loader_update_freq = loader_update_freq\n",
    "            self.update_filter_ratio = update_filter_ratio\n",
    "            self.filter_ratio = filter_ratio\n",
    "            "
   ]
  },
  {
   "cell_type": "code",
   "execution_count": null,
   "metadata": {},
   "outputs": [],
   "source": [
    "options = op(64, 5, 1, 1, 0.01, 0.2)"
   ]
  },
  {
   "cell_type": "code",
   "execution_count": null,
   "metadata": {},
   "outputs": [],
   "source": [
    "def calcualte_num_batches(options, num_batches):\n",
    "    update_epoch = options.epochs - options.inmodal_warmup - options.multimodal_warmup\n",
    "    num_update = update_epoch // options.loader_update_freq\n",
    "    left_off_epoch = update_epoch % options.loader_update_freq\n",
    "    total_step = 0\n",
    "    for i in range(num_update):\n",
    "        total_step = total_step + (i * options.update_filter_ratio + options.filter_ratio) * options.loader_update_freq * num_batches\n",
    "    total_step =  total_step + ((i+1) * options.update_filter_ratio + options.filter_ratio) * num_batches * left_off_epoch\n",
    "    return total_step\n",
    "\n",
    "\n",
    "def cosine_scheduler_mock(base_lr, post_lr, num_warmup_steps, total_steps):\n",
    "    def _scheduler(current_step, lr_adjust=False):\n",
    "        if lr_adjust:\n",
    "            lr = post_lr\n",
    "        elif(current_step < num_warmup_steps):\n",
    "            lr = base_lr * (current_step + 1) / num_warmup_steps\n",
    "        else:\n",
    "            n = current_step - num_warmup_steps\n",
    "            d = total_steps - num_warmup_steps\n",
    "            lr = 0.5 * (1 + np.cos(np.pi * n / d)) * base_lr\n",
    "        return lr, current_step\n",
    "    return _scheduler"
   ]
  },
  {
   "cell_type": "code",
   "execution_count": null,
   "metadata": {},
   "outputs": [],
   "source": [
    "epochs = list(range(7,64))\n",
    "# num_batches = [293] * 5 + [488] * 5 + [684] * 5 + [879] * 5 + [1075] * 5 + [1270]\n",
    "# num_batches = [1075] * 26\n",
    "num_batches = list(range(585, 3200, 40))\n",
    "total = calcualte_num_batches(options, 1954)\n",
    "train_num_batches = total // (options.epochs - options.inmodal_warmup - options.multimodal_warmup)\n",
    "\n",
    "# total = 1954 * 32\n",
    "scheduler = cosine_scheduler_mock(base_lr = 0.0005, post_lr = 5e-06, num_warmup_steps = 8000, total_steps = total)"
   ]
  },
  {
   "cell_type": "code",
   "execution_count": null,
   "metadata": {},
   "outputs": [],
   "source": [
    "total_lr = []\n",
    "total_step = []\n",
    "for i in epochs:\n",
    "    batch_size = num_batches[i-7]\n",
    "    for j in range(batch_size):\n",
    "        step = batch_size * (i - 6) + j\n",
    "        lr, current_step = scheduler(step)\n",
    "        total_lr.append(lr) \n",
    "        total_step.append(current_step) \n",
    "\n",
    "plt.plot(total_lr)"
   ]
  },
  {
   "cell_type": "code",
   "execution_count": null,
   "metadata": {},
   "outputs": [],
   "source": [
    "plt.plot(total_step)"
   ]
  },
  {
   "cell_type": "code",
   "execution_count": null,
   "metadata": {},
   "outputs": [],
   "source": [
    "plt.plot(learn_rate)"
   ]
  },
  {
   "cell_type": "code",
   "execution_count": null,
   "metadata": {},
   "outputs": [],
   "source": [
    "import math\n",
    "import torch\n",
    "from torch.optim.lr_scheduler import _LRScheduler\n",
    "\n",
    "class CosineAnnealingWarmupRestarts(_LRScheduler):\n",
    "    \"\"\"\n",
    "        optimizer (Optimizer): Wrapped optimizer.\n",
    "        first_cycle_steps (int): First cycle step size.\n",
    "        cycle_mult(float): Cycle steps magnification. Default: -1.\n",
    "        max_lr(float): First cycle's max learning rate. Default: 0.1.\n",
    "        min_lr(float): Min learning rate. Default: 0.001.\n",
    "        warmup_steps(int): Linear warmup step size. Default: 0.\n",
    "        gamma(float): Decrease rate of max learning rate by cycle. Default: 1.\n",
    "        last_epoch (int): The index of last epoch. Default: -1.\n",
    "    \"\"\"\n",
    "    \n",
    "    def __init__(self,\n",
    "                 optimizer : torch.optim.Optimizer,\n",
    "                 first_cycle_steps : int,\n",
    "                 cycle_mult : float = 1.,\n",
    "                 max_lr : float = 0.1,\n",
    "                 min_lr : float = 0.001,\n",
    "                 warmup_steps : int = 0,\n",
    "                 gamma : float = 1.,\n",
    "                 last_epoch : int = -1\n",
    "        ):\n",
    "        assert warmup_steps < first_cycle_steps\n",
    "        \n",
    "        self.first_cycle_steps = first_cycle_steps # first cycle step size\n",
    "        self.cycle_mult = cycle_mult # cycle steps magnification\n",
    "        self.base_max_lr = max_lr # first max learning rate\n",
    "        self.max_lr = max_lr # max learning rate in the current cycle\n",
    "        self.min_lr = min_lr # min learning rate\n",
    "        self.warmup_steps = warmup_steps # warmup step size\n",
    "        self.gamma = gamma # decrease rate of max learning rate by cycle\n",
    "        \n",
    "        self.cur_cycle_steps = first_cycle_steps # first cycle step size\n",
    "        self.cycle = 0 # cycle count\n",
    "        self.step_in_cycle = last_epoch # step size of the current cycle\n",
    "        \n",
    "        super(CosineAnnealingWarmupRestarts, self).__init__(optimizer, last_epoch)\n",
    "        \n",
    "        # set learning rate min_lr\n",
    "        self.init_lr()\n",
    "    \n",
    "    def init_lr(self):\n",
    "        self.base_lrs = []\n",
    "        for param_group in self.optimizer.param_groups:\n",
    "            param_group['lr'] = self.min_lr\n",
    "            self.base_lrs.append(self.min_lr)\n",
    "    \n",
    "    def get_lr(self):\n",
    "        if self.step_in_cycle == -1:\n",
    "            return self.base_lrs\n",
    "        elif self.step_in_cycle < self.warmup_steps:\n",
    "            return [(self.max_lr - base_lr)*self.step_in_cycle / self.warmup_steps + base_lr for base_lr in self.base_lrs]\n",
    "        else:\n",
    "            return [base_lr + (self.max_lr - base_lr) \\\n",
    "                    * (1 + math.cos(math.pi * (self.step_in_cycle-self.warmup_steps) \\\n",
    "                                    / (self.cur_cycle_steps - self.warmup_steps))) / 2\n",
    "                    for base_lr in self.base_lrs]\n",
    "\n",
    "    def step(self, epoch=None):\n",
    "        if epoch is None:\n",
    "            epoch = self.last_epoch + 1\n",
    "            self.step_in_cycle = self.step_in_cycle + 1\n",
    "            if self.step_in_cycle >= self.cur_cycle_steps:\n",
    "                self.cycle += 1\n",
    "                self.step_in_cycle = self.step_in_cycle - self.cur_cycle_steps\n",
    "                self.cur_cycle_steps = int((self.cur_cycle_steps - self.warmup_steps) * self.cycle_mult) + self.warmup_steps\n",
    "        else:\n",
    "            if epoch >= self.first_cycle_steps:\n",
    "                if self.cycle_mult == 1.:\n",
    "                    self.step_in_cycle = epoch % self.first_cycle_steps\n",
    "                    self.cycle = epoch // self.first_cycle_steps\n",
    "                else:\n",
    "                    n = int(math.log((epoch / self.first_cycle_steps * (self.cycle_mult - 1) + 1), self.cycle_mult))\n",
    "                    self.cycle = n\n",
    "                    self.step_in_cycle = epoch - int(self.first_cycle_steps * (self.cycle_mult ** n - 1) / (self.cycle_mult - 1))\n",
    "                    self.cur_cycle_steps = self.first_cycle_steps * self.cycle_mult ** (n)\n",
    "            else:\n",
    "                self.cur_cycle_steps = self.first_cycle_steps\n",
    "                self.step_in_cycle = epoch\n",
    "                \n",
    "        self.max_lr = self.base_max_lr * (self.gamma**self.cycle)\n",
    "        self.last_epoch = math.floor(epoch)\n",
    "        for param_group, lr in zip(self.optimizer.param_groups, self.get_lr()):\n",
    "            param_group['lr'] = lr"
   ]
  },
  {
   "cell_type": "code",
   "execution_count": 2,
   "metadata": {},
   "outputs": [
    {
     "name": "stderr",
     "output_type": "stream",
     "text": [
      "/home/hyang/deadclip/CyCLIP/env/lib/python3.10/site-packages/tqdm/auto.py:22: TqdmWarning: IProgress not found. Please update jupyter and ipywidgets. See https://ipywidgets.readthedocs.io/en/stable/user_install.html\n",
      "  from .autonotebook import tqdm as notebook_tqdm\n"
     ]
    }
   ],
   "source": [
    "import pandas as pd\n",
    "import numpy as np\n",
    "import torch\n"
   ]
  },
  {
   "cell_type": "code",
   "execution_count": 1,
   "metadata": {},
   "outputs": [],
   "source": [
    "def intersection(a, b):\n",
    "    return list(set(a) & set(b))\n",
    "\n",
    "def diff(a,b):\n",
    "    return list(set(a) - set(b))"
   ]
  },
  {
   "cell_type": "code",
   "execution_count": null,
   "metadata": {},
   "outputs": [],
   "source": [
    "fp = \"/home/hyang/NNCLIP/CyCLIP/indices/NNCLIP_1M_update{}.tsv\".format(i)\n",
    "df_origin = pd.read_csv(fp, sep='\\t', header=None, index_col = [0])\n",
    "idx = [521591,974537,850994]\n",
    "df_origin.index.tolist()"
   ]
  },
  {
   "cell_type": "code",
   "execution_count": 53,
   "metadata": {},
   "outputs": [
    {
     "data": {
      "text/plain": [
       "Int64Index([521591, 974537, 850994], dtype='int64', name=0)"
      ]
     },
     "execution_count": 53,
     "metadata": {},
     "output_type": "execute_result"
    }
   ],
   "source": [
    "df_origin[1][idx].index"
   ]
  },
  {
   "cell_type": "code",
   "execution_count": null,
   "metadata": {},
   "outputs": [],
   "source": [
    "default = 0.15\n",
    "x = 0.5\n",
    "for i in range(7,64):    \n",
    "    if (i - 7) % 5 == 0:\n",
    "        fp = \"/home/hyang/NNCLIP/CyCLIP/indices/NNCLIP_1M_update{}.tsv\".format(i)\n",
    "        df_origin = pd.read_csv(fp, sep='\\t', header=None, index_col = [0])\n",
    "        indices_2 = df_origin.index.tolist()\n",
    "        x = x - 0.05\n",
    "        x = max(x,0.2)\n",
    "        \n",
    "    file_path = \"/home/hyang/NNCLIP/CyCLIP/indices/NNCLIP_1M_update{}.tsv\".format(i+1)\n",
    "    df = pd.read_csv(file_path, sep='\\t', header=None, index_col = [0])\n",
    "    indices = np.array(df.index.tolist())\n",
    "    length = len(indices)\n",
    "    ratio = int(length * (default + (i - 6) * 0.01))\n",
    "    ratio_2 = int(length * (default + (i - 7) * 0.01 + x) )\n",
    "    \n",
    "    old_search_range = indices[:ratio]\n",
    "    \n",
    "    new_search_range = indices_2[:ratio_2]\n",
    "\n",
    "    sorted_idx = torch.argsort(torch.tensor(indices_2)).numpy()\n",
    "    sorted_new_cs = np.array(df_origin.values.flatten())[sorted_idx]\n",
    "    sorted_indices = indices_2[sorted_idx]\n",
    "    \n",
    "    what_we_used_idx = sorted_indices[c]\n",
    "    what_we_used_sim = sorted_new_cs[what_we_used_idx]\n",
    "    \n",
    "    real_new_sorted_descending_cs_idx = torch.argsort(torch.tensor(what_we_used_sim), descending=True).numpy()\n",
    "    sample_indices = what_we_used_idx[real_new_sorted_descending_cs_idx]\n",
    "    d = sample_indices[:ratio]\n",
    "\n",
    "    intersect_larger = intersection(b,d)\n",
    "\n",
    "    print(\"Epoch {} Poison Number: {}\".format(i+1, sum(np.array(b) > 1000000)))\n",
    "    print(\"New Evaluation Poison Number: {}\".format(sum(np.array(d) > 1000000)))\n",
    "    print(\"How accurate is the set: {}\\n\".format(len(intersect_larger) / len(b)))\n"
   ]
  },
  {
   "cell_type": "code",
   "execution_count": 47,
   "metadata": {},
   "outputs": [
    {
     "name": "stdout",
     "output_type": "stream",
     "text": [
      "update file\n"
     ]
    }
   ],
   "source": [
    "# this is the initial evaluation on cosine similarity. We will judge which data we will evaluate in the \n",
    "# new epoch\n",
    "default_threshold = 0.15\n",
    "additional_threshold = 0.35\n",
    "for i in range(7,33):\n",
    "    if (i - 7) % 5 == 0:\n",
    "        filter_pointer = \"/home/hyang/NNCLIP/CyCLIP/indices/NNCLIP_1M_update{}.tsv\".format(i)\n",
    "        df = pd.read_csv(filter_pointer, sep='\\t', header=None, index_col = [0])\n",
    "        idx_pointer = df.index.tolist()\n",
    "        print(\"update file\")\n",
    "        if i - 7 > 0:\n",
    "            additional_threshold = additional_threshold - 0.05\n",
    "            additional_threshold = max(additional_threshold, 0.1)\n",
    "    # this is the ground truth updated cosine similarity. \n",
    "    filter_truth = \"/home/hyang/NNCLIP/CyCLIP/indices/NNCLIP_1M_update{}.tsv\".format(i+1)\n",
    "    df_update = pd.read_csv(filter_truth, sep='\\t', header=None, index_col = [0])\n",
    "    idx_update = np.array(df_update.index.tolist())\n",
    "\n",
    "    # total number of data\n",
    "    data_size = len(idx_update)\n",
    "\n",
    "    # ground_true ratio: if we update every epoch, the ratio for search\n",
    "    ratio = int(data_size * (default_threshold + (i - 6) * 0.01))\n",
    "\n",
    "    # ground truth idx\n",
    "    ground_truth_idx = idx_update[:ratio]\n",
    "\n",
    "    # the range if we want to rely on the initial pointer. \n",
    "    ratio_mock = int(data_size * (default_threshold + (i - 7) * 0.01 + additional_threshold))\n",
    "\n",
    "    # the idx we need to re-evaluate to determine what should we choose for the new epoch.\n",
    "\n",
    "    research_idx = idx_pointer[:ratio_mock]\n",
    "\n",
    "\n",
    "    research_df = df_update[1][research_idx]\n",
    "    research_idx = research_df.index\n",
    "    research_value = research_df.values\n",
    "\n",
    "    sorted_research_idx = torch.argsort(torch.tensor(research_value), descending=True)\n",
    "    new_research_idx = research_idx[sorted_research_idx].tolist()[:ratio]\n",
    "    # new_research_value = research_value[sorted_research_idx][:ratio]\n",
    "    # break\n",
    "    # df[1][research_idx] = research_value\n",
    "    # df = df.sort_values(by=[1], ascending=False)\n",
    "    # new_idx_pointer = df.index.tolist()\n",
    "\n",
    "\n",
    "\n",
    "    final_intersect = intersection(ground_truth_idx,new_research_idx)\n",
    "\n",
    "    print(\"Epoch {} Poison Number: {}\".format(i+1, sum(np.array(ground_truth_idx) > 1000000)))\n",
    "    print(\"New Evaluation Poison Number: {}\".format(sum(np.array(new_research_idx) > 1000000)))\n",
    "    print(\"How accurate is the set: {}\".format(len(final_intersect) / len(ground_truth_idx)))\n",
    "    print(\"Current Evaluation Threshold:{}\\n\".format(default_threshold + (i - 7) * 0.01 + additional_threshold))"
   ]
  },
  {
   "cell_type": "code",
   "execution_count": 48,
   "metadata": {},
   "outputs": [],
   "source": [
    "df[1][research_idx] = research_value\n",
    "df = df.sort_values(by=[1], ascending=False)\n",
    "new_idx_pointer = df.index.tolist()"
   ]
  },
  {
   "cell_type": "code",
   "execution_count": 52,
   "metadata": {},
   "outputs": [],
   "source": [
    "a = idx_pointer[:ratio_mock]\n",
    "b = new_idx_pointer[:ratio_mock]"
   ]
  },
  {
   "cell_type": "code",
   "execution_count": 55,
   "metadata": {},
   "outputs": [
    {
     "data": {
      "text/plain": [
       "0.9878697042366107"
      ]
     },
     "execution_count": 55,
     "metadata": {},
     "output_type": "execute_result"
    }
   ],
   "source": [
    "len(intersection(a,b)) / len(a)"
   ]
  },
  {
   "cell_type": "code",
   "execution_count": 34,
   "metadata": {},
   "outputs": [
    {
     "name": "stdout",
     "output_type": "stream",
     "text": [
      "77.036\n",
      "0.266192912502694\n"
     ]
    }
   ],
   "source": [
    "import numpy as np\n",
    "\n",
    "res = [22.619, ]\n",
    "res = np.array(res)\n",
    "print(np.mean(res))\n",
    "print(np.std(res))"
   ]
  },
  {
   "cell_type": "code",
   "execution_count": 49,
   "metadata": {},
   "outputs": [
    {
     "data": {
      "image/png": "[encoded data removed]",
      "text/plain": [
       "<Figure size 1000x800 with 1 Axes>"
      ]
     },
     "metadata": {},
     "output_type": "display_data"
    }
   ],
   "source": [
    "import matplotlib.pyplot as plt\n",
    "\n",
    "# Data for each school\n",
    "high_result = [[23.1, 61.3], [33.3, 79.0], [38.1, 80.7], [42.1, 68.7], [42.4, 71.4], [47.6,73.3], [48.0,77.1], [51.6,73.7]]\n",
    "method_names_reordered = [\"ERM\", \"EIIL\", \"SPARE\", \"DFR\", \"LRMIX\", \"GB\", \"GDRO\", \"PDE\"]\n",
    "low_result = [[17.9, 58.1], [25.8,70.8], [30.6,82.0], [49.2,71.8],[50.8,72.6],[46.8,71.3],[54.4,72.1],[55.5,73.1]]\n",
    "gap_diff = [[round(x[1] - x[0], 1), round(y[1] - y[0], 1)] for x, y in zip(high_result, low_result)]\n",
    "\n",
    "\n",
    "\n",
    "reorg_data = {}\n",
    "for i, method_name in enumerate(method_names_reordered):\n",
    "    reorg_data[method_name] = gap_diff[i]\n",
    "    \n",
    "# Define the figure and axis\n",
    "fig, ax = plt.subplots(figsize=(10, 8))\n",
    "\n",
    "# The sizes of the bubbles are assumed to be constant\n",
    "bubble_size = 1250\n",
    "\n",
    "# Plotting the bubbles and the lines between them\n",
    "for i, (school, percentages) in enumerate(reorg_data.items()):\n",
    "    # Plot the first bubble\n",
    "    ax.scatter(percentages[0], i, s=bubble_size, color=(199/255, 0, 0, 1))\n",
    "    ax.text(percentages[0], i, f'{percentages[0]}', fontsize=12, horizontalalignment='center', color=\"white\", verticalalignment='center', weight=\"bold\")\n",
    "    \n",
    "    # Plot the second bubble\n",
    "    ax.scatter(percentages[1], i, s=bubble_size,  color=(25/255, 140/255,25/255))\n",
    "    ax.text(percentages[1], i, f'{percentages[1]}', fontsize=12, horizontalalignment='center', color=\"white\", verticalalignment='center', weight=\"bold\")\n",
    "    \n",
    "    # Draw a line between the bubbles\n",
    "    ax.plot(percentages, [i, i], color='grey',linestyle='--', alpha=0.5)\n",
    "\n",
    "# Set the y-axis to display school names\n",
    "ax.set_yticks(range(len(reorg_data)))\n",
    "ax.set_yticklabels(reorg_data.keys())\n",
    "\n",
    "# Set the x-axis limits\n",
    "# ax.set_xlim(-5, 100)\n",
    "\n",
    "# Add grid\n",
    "ax.grid(True, which='major', linestyle='--', linewidth=0.5, axis='x')\n",
    "\n",
    "# Show the plot\n",
    "plt.tight_layout()\n",
    "plt.show()\n",
    "fig.savefig(\"tuning_single.pdf\", bbox_inches=\"tight\")"
   ]
  },
  {
   "cell_type": "code",
   "execution_count": null,
   "metadata": {},
   "outputs": [],
   "source": []
  },
  {
   "cell_type": "code",
   "execution_count": 70,
   "metadata": {},
   "outputs": [
    {
     "data": {
      "image/png": "[encoded data removed]",
      "text/plain": [
       "<Figure size 800x400 with 1 Axes>"
      ]
     },
     "metadata": {},
     "output_type": "display_data"
    }
   ],
   "source": []
  },
  {
   "cell_type": "markdown",
   "metadata": {},
   "source": [
    "python -m src.main --name NNCLIP_1M_0.02 --train_data ../train_1M_100.csv --validation_data ../valid_temp.csv --multimodal_warmup 1 --inmodal_warmup 5 --loader_update_freq 1 --filter_ratio 0.15 --epochs 32 --filter_lr 5e-6 --update_filter_ratio 0.02 --batch_size 256 --memory_bank --memory_bank_size 21840 --index_dir indices --device_ids 0 1 --distributed --num_warmup_steps 8000"
   ]
  },
  {
   "cell_type": "markdown",
   "metadata": {},
   "source": [
    "python -m src.main --name NNCLIP_1M_500 --train_data ../train_1M_500.csv --validation_data ../valid_temp.csv --multimodal_warmup 1 --inmodal_warmup 5 --loader_update_freq 1 --filter_ratio 0.15 --epochs 32 --filter_lr 5e-6 --update_filter_ratio 0.01 --batch_size 256 --memory_bank --memory_bank_size 21840 --index_dir indices --device_ids 2 3 --distributed --num_warmup_steps 8000 --distributed_init_method tcp://127.0.0.1:5431"
   ]
  },
  {
   "cell_type": "markdown",
   "metadata": {},
   "source": [
    "python -m src.main --name SafeCLIP_coco_unimodal_1e-5 --train_data ../train_coco_40.csv --validation_data ../valid_temp.csv --device_ids 6 7 --memory_bank_size 2048 --memory_bank --batch_size 256 --filter_lr 1e-5 --num_warmup_steps 1000 --distributed --distributed_init_method tcp://127.0.0.1:5432 --epoch 7 --checkpoint /home/hyang/NNCLIP/CyCLIP/logs/SafeCLIP_coco_poisons_performance/checkpoints/epoch_5.pt"
   ]
  },
  {
   "cell_type": "markdown",
   "metadata": {},
   "source": [
    "python -m src.main --name SafeCLIP_coco_unimodal_5e-6 --train_data ../train_coco_40.csv --validation_data ../valid_temp.csv --device_ids 6 7 --memory_bank_size 2048 --memory_bank --batch_size 256 --filter_lr 5e-6 --num_warmup_steps 1000 --distributed --distributed_init_method tcp://127.0.0.1:5432 --epoch 7 --checkpointpoint /home/hyang/NNCLIP/CyCLIP/logs/SafeCLIP_coco_poisons_performance/checkpoints/epoch_5.pt"
   ]
  },
  {
   "cell_type": "markdown",
   "metadata": {},
   "source": [
    "python -m src.main --name SafeCLIP_coco_unimodal_5e-4 --train_data ../train_coco_40.csv --validation_data ../valid_temp.csv --device_ids 6 7 --memory_bank_size 2048 --memory_bank --batch_size 256 --filter_lr 5e-4 --num_warmup_steps 1000 --distributed --distributed_init_method tcp://127.0.0.1:5432 --epoch 7 --checkpointpoint /home/hyang/NNCLIP/CyCLIP/logs/SafeCLIP_coco_poisons_performance/checkpoints/epoch_5.pt"
   ]
  },
  {
   "cell_type": "markdown",
   "metadata": {},
   "source": [
    "python -m src.main --name SafeCLIP_coco_unimodal_10_warmup --train_data ../train_coco_40.csv --validation_data ../valid_temp.csv --device_ids 6 7 --memory_bank_size 2048 --memory_bank --batch_size 256 --filter_lr 5e-5 --num_warmup_steps 1000 --distributed --distributed_init_method tcp://127.0.0.1:5432 --epoch 12 --checkpointpoint /home/hyang/NNCLIP/CyCLIP/logs/SafeCLIP_coco_poisons_performance/checkpoints/epoch_5.pt --inmodal_warmup 10"
   ]
  },
  {
   "cell_type": "markdown",
   "metadata": {},
   "source": [
    "python -m src.main --name SafeCLIP_coco_unimodal_1_warmup --train_data ../train_coco_40.csv --validation_data ../valid_temp.csv --device_ids 6 7 --memory_bank_size 2048 --memory_bank --batch_size 256 --filter_lr 5e-5 --num_warmup_steps 1000 --distributed --distributed_init_method tcp://127.0.0.1:5432 --epoch 3 --checkpointpoint /home/hyang/NNCLIP/CyCLIP/logs/SafeCLIP_coco_poisons_performance/checkpoints/epoch_1.pt --inmodal_warmup 1"
   ]
  },
  {
   "cell_type": "markdown",
   "metadata": {},
   "source": [
    "python -m src.main --name SafeCLIP_10_warmup_new --train_data ../train_1M_500_16_backdoored.csv --validation_data ../valid_temp.csv --device_ids 6 7 --memory_bank_size 21846 --memory_bank --batch_size 256 --filter_lr 5e-6 --distributed --distributed_init_method tcp://127.0.0.1:2432 --epoch 12 --inmodal_warmup 10"
   ]
  }
 ],
 "metadata": {
  "kernelspec": {
   "display_name": "Python 3",
   "language": "python",
   "name": "python3"
  },
  "language_info": {
   "codemirror_mode": {
    "name": "ipython",
    "version": 3
   },
   "file_extension": ".py",
   "mimetype": "text/x-python",
   "name": "python",
   "nbconvert_exporter": "python",
   "pygments_lexer": "ipython3",
   "version": "3.10.4"
  },
  "orig_nbformat": 4,
  "vscode": {
   "interpreter": {
    "hash": "e0b61b801bee499609bf75262e7f96988907fc8b11da351027b342a461b231a7"
   }
  }
 },
 "nbformat": 4,
 "nbformat_minor": 2
}
