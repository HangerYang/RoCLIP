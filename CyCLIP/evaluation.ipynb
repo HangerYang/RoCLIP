{
 "cells": [
  {
   "cell_type": "code",
   "execution_count": null,
   "metadata": {},
   "outputs": [],
   "source": [
    "import numpy as np\n",
    "\n",
    "a=np.load(\"/home/hyang/deadclip/CyCLIP/template/100K_per_2_epoch_random_imagenet100_30_1.npz\")\n",
    "print(a['arr_0'])\n",
    "print(a['arr_1'])\n",
    "print(a['arr_3'])\n",
    "print(a['arr_4'])\n",
    "\n",
    "a=np.load(\"/home/hyang/deadclip/CyCLIP/template/100K_per_2_epoch_random_imagenet100_31_1.npz\")\n",
    "print(a['arr_0'])\n",
    "print(a['arr_1'])\n",
    "print(a['arr_3'])\n",
    "print(a['arr_4'])\n",
    "\n",
    "a=np.load(\"/home/hyang/deadclip/CyCLIP/template/100K_per_2_epoch_random_imagenet100_32_1.npz\")\n",
    "print(a['arr_0'])\n",
    "print(a['arr_1'])\n",
    "print(a['arr_3'])\n",
    "print(a['arr_4'])"
   ]
  }
 ],
 "metadata": {
  "language_info": {
   "name": "python"
  },
  "orig_nbformat": 4
 },
 "nbformat": 4,
 "nbformat_minor": 2
}
