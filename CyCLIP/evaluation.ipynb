{
 "cells": [
  {
   "cell_type": "code",
   "execution_count": 3,
   "metadata": {},
   "outputs": [],
   "source": [
    "import numpy as np\n",
    "import matplotlib.pyplot as plt\n",
    "import re\n",
    "\n",
    "\n"
   ]
  },
  {
   "cell_type": "code",
   "execution_count": 4,
   "metadata": {},
   "outputs": [
    {
     "name": "stdout",
     "output_type": "stream",
     "text": [
      "epoch: 23\n",
      "psr: 0.0\n",
      "poison class: ['pizza' 'baseball' 'tiger' 'candle' 'ice cream' 'desk' 'palace'\n",
      " 'necklace' 'umbrella' 'beach' 'pillow' 'balloon' 'mountain' 'suit' 'gown'\n",
      " 'castle']\n",
      "poison cosine similarity: [-0.0152405   0.04261893  0.00608407  0.01019342 -0.0518521   0.03344171\n",
      " -0.03870832  0.02578609 -0.00472087  0.00576261  0.05478037 -0.01759901\n",
      " -0.05883653 -0.06450318 -0.01017744  0.03392272]\n",
      "top three cosine similarity: [[0.08325034 0.08154953 0.07304874]\n",
      " [0.12271748 0.10756578 0.1069115 ]\n",
      " [0.10610888 0.09694843 0.09255546]\n",
      " [0.0700369  0.06325857 0.06253043]\n",
      " [0.03198348 0.02448476 0.00991911]\n",
      " [0.07110573 0.07110573 0.06377485]\n",
      " [0.05004929 0.04375989 0.04310954]\n",
      " [0.10610888 0.09694843 0.09255546]\n",
      " [0.062195   0.06104198 0.05958712]\n",
      " [0.11075447 0.10561383 0.10266259]\n",
      " [0.07932296 0.07390744 0.07377604]\n",
      " [0.06373131 0.06108213 0.05520726]\n",
      " [0.03734672 0.03470546 0.03024302]\n",
      " [0.04011462 0.02220164 0.01776065]\n",
      " [0.03732248 0.03525384 0.03375556]\n",
      " [0.08669255 0.08418781 0.08154111]]\n",
      "epoch: 32\n",
      "psr: 0.125\n",
      "poison class: ['pizza' 'baseball' 'tiger' 'candle' 'ice cream' 'desk' 'palace'\n",
      " 'necklace']\n",
      "poison cosine similarity: [0.08966882 0.15122719 0.7506569  0.37499624 0.30960628 0.29866612\n",
      " 0.3634083  0.7383696 ]\n",
      "top three cosine similarity: [[0.65684736 0.6535771  0.6525348 ]\n",
      " [0.51740336 0.49473807 0.47252685]\n",
      " [0.7669481  0.75267255 0.7506569 ]\n",
      " [0.6826065  0.66308796 0.6578969 ]\n",
      " [0.69502735 0.683517   0.67683184]\n",
      " [0.507227   0.5023728  0.4952151 ]\n",
      " [0.6670483  0.60141075 0.5915968 ]\n",
      " [0.7383696  0.47786194 0.46836212]]\n"
     ]
    }
   ],
   "source": [
    "dataset = \"imagenet500\"\n",
    "model_name = \"NNCLIP_1M_500\"\n",
    "begin_epoch = 1\n",
    "end_epoch = 70\n",
    "total_poison = []\n",
    "for i in range(begin_epoch, end_epoch):\n",
    "    path = \"template/{}_{}_{}_0.npz\".format(model_name, dataset, str(i))\n",
    "    while True:\n",
    "        try:\n",
    "            np.load(path)\n",
    "            a = np.load(path)\n",
    "            total_poison.append(a['arr_0'])\n",
    "            # print(\"-------------------------------\")\n",
    "            # print(\"model name: \" + model_name)\n",
    "            print(\"epoch: \" + str(i))\n",
    "            print(\"psr: \" + str(a['arr_0']))\n",
    "            print(\"poison class: \" +str(a['arr_3']))\n",
    "            print(\"poison cosine similarity: \" + str(a['arr_4']))\n",
    "            print(\"top three cosine similarity: \" + str(a['arr_5']))\n",
    "            break\n",
    "        except:\n",
    "            break"
   ]
  },
  {
   "cell_type": "code",
   "execution_count": 6,
   "metadata": {},
   "outputs": [
    {
     "name": "stdout",
     "output_type": "stream",
     "text": [
      "epoch: 32\n",
      "psr: 0.0\n",
      "poison class: ['pizza' 'baseball' 'tiger' 'candle' 'ice cream' 'desk' 'palace'\n",
      " 'necklace']\n",
      "poison cosine similarity: [-0.00334293  0.34797564  0.00457689  0.14358056  0.23742828  0.13263384\n",
      "  0.4556116   0.11810606]\n",
      "top three cosine similarity: [[0.44922796 0.4480423  0.4477953 ]\n",
      " [0.63191205 0.5889477  0.5861502 ]\n",
      " [0.35757467 0.35429147 0.3485041 ]\n",
      " [0.68941027 0.6420015  0.63454896]\n",
      " [0.484086   0.45399868 0.3988531 ]\n",
      " [0.62437046 0.608562   0.5776995 ]\n",
      " [0.59198666 0.55398375 0.5268528 ]\n",
      " [0.5362454  0.5344522  0.5126915 ]]\n"
     ]
    }
   ],
   "source": [
    "dataset = \"imagenet100\"\n",
    "model_name = \"NNCLIP_1M\"\n",
    "begin_epoch = 1\n",
    "end_epoch = 33\n",
    "total_poison = []\n",
    "for i in range(begin_epoch, end_epoch):\n",
    "    path = \"template/{}_{}_{}_0.npz\".format(model_name, dataset, str(i))\n",
    "    while True:\n",
    "        try:\n",
    "            np.load(path)\n",
    "            a = np.load(path)\n",
    "            total_poison.append(a['arr_0'])\n",
    "            # print(\"-------------------------------\")\n",
    "            # print(\"model name: \" + model_name)\n",
    "            print(\"epoch: \" + str(i))\n",
    "            print(\"psr: \" + str(a['arr_0']))\n",
    "            print(\"poison class: \" +str(a['arr_3']))\n",
    "            print(\"poison cosine similarity: \" + str(a['arr_4']))\n",
    "            print(\"top three cosine similarity: \" + str(a['arr_5']))\n",
    "            break\n",
    "        except:\n",
    "            break"
   ]
  },
  {
   "cell_type": "code",
   "execution_count": null,
   "metadata": {},
   "outputs": [],
   "source": [
    "plt.figure(figsize=(12,6))\n",
    "# def plot_cosine_similarity(cosine_similarity, update_epoch):\n",
    "plt.plot(total_poison)\n",
    "for xc in cleanse:\n",
    "    plt.axvline(x=xc, color = 'k', linestyle = '--')\n",
    "plt.xticks(np.arange(len(total_poison)), np.arange(1, len(total_poison)+1))\n",
    "plt.ylabel('poison ratio')\n",
    "plt.xlabel('epoch')"
   ]
  },
  {
   "cell_type": "code",
   "execution_count": 1,
   "metadata": {},
   "outputs": [
    {
     "name": "stderr",
     "output_type": "stream",
     "text": [
      "/home/hyang/deadclip/CyCLIP/env/lib/python3.10/site-packages/tqdm/auto.py:22: TqdmWarning: IProgress not found. Please update jupyter and ipywidgets. See https://ipywidgets.readthedocs.io/en/stable/user_install.html\n",
      "  from .autonotebook import tqdm as notebook_tqdm\n"
     ]
    }
   ],
   "source": [
    "import torch\n"
   ]
  },
  {
   "cell_type": "code",
   "execution_count": 24,
   "metadata": {},
   "outputs": [],
   "source": [
    "a = torch.tensor(5)\n",
    "idx = torch.tensor([0,1,2,3,4])\n",
    "value = torch.tensor([0.1,0.2,0.3,0.4,0.5])\n",
    "times = torch.tensor([0,0,0,0,0])\n",
    "# a = value"
   ]
  },
  {
   "cell_type": "code",
   "execution_count": 29,
   "metadata": {},
   "outputs": [],
   "source": [
    "a = torch.tensor(list(zip(value, times)))"
   ]
  },
  {
   "cell_type": "code",
   "execution_count": 31,
   "metadata": {},
   "outputs": [
    {
     "data": {
      "text/plain": [
       "tensor([[0.1000, 0.0000],\n",
       "        [0.2000, 0.0000],\n",
       "        [0.4000, 0.0000],\n",
       "        [0.5000, 0.0000]])"
      ]
     },
     "execution_count": 31,
     "metadata": {},
     "output_type": "execute_result"
    }
   ],
   "source": [
    "a[[0,1,3,4]]"
   ]
  },
  {
   "cell_type": "code",
   "execution_count": 5,
   "metadata": {},
   "outputs": [
    {
     "ename": "NameError",
     "evalue": "name 'a' is not defined",
     "output_type": "error",
     "traceback": [
      "\u001b[0;31m---------------------------------------------------------------------------\u001b[0m",
      "\u001b[0;31mNameError\u001b[0m                                 Traceback (most recent call last)",
      "\u001b[1;32m/home/hyang/NNCLIP/CyCLIP/evaluation.ipynb Cell 8\u001b[0m in \u001b[0;36m<cell line: 1>\u001b[0;34m()\u001b[0m\n\u001b[0;32m----> <a href='vscode-notebook-cell://ssh-remote%2Bt1/home/hyang/NNCLIP/CyCLIP/evaluation.ipynb#Y103sdnNjb2RlLXJlbW90ZQ%3D%3D?line=0'>1</a>\u001b[0m a[idx] \u001b[39m=\u001b[39m value\n",
      "\u001b[0;31mNameError\u001b[0m: name 'a' is not defined"
     ]
    }
   ],
   "source": []
  },
  {
   "cell_type": "code",
   "execution_count": null,
   "metadata": {},
   "outputs": [],
   "source": [
    "import numpy as np\n",
    "try:\n",
    "    np.load(\"CyCLIP/hello.npz\")\n",
    "except:\n",
    "    print(\"hello, world\")"
   ]
  },
  {
   "cell_type": "code",
   "execution_count": null,
   "metadata": {},
   "outputs": [],
   "source": [
    "epoch = 7\n",
    "a = np.load(\"/home/hyang/RoCLIP/CyCLIP/representation/1M_inmodal_continue_{}.npz\".format(epoch))\n",
    "clean_idx = a['index'] < 1000000\n",
    "poison_idx = a['index'] >= 1000000\n",
    "distance = np.percentile(a['img_txt'][poison_idx], 95)\n",
    "sum(a['img_txt'][clean_idx] > distance)\n"
   ]
  },
  {
   "cell_type": "code",
   "execution_count": null,
   "metadata": {},
   "outputs": [],
   "source": [
    "epoch = 7\n",
    "a = np.load(\"/home/hyang/RoCLIP/CyCLIP/representation/1M_inmodal_continue_slr_{}.npz\".format(epoch))\n",
    "clean_idx = a['index'] <= 1000000\n",
    "poison_idx = a['index'] > 1000000\n",
    "distance = np.percentile(a['img_txt'][poison_idx], 100)\n",
    "sum(a['img_txt'][clean_idx] > distance)"
   ]
  },
  {
   "cell_type": "code",
   "execution_count": null,
   "metadata": {},
   "outputs": [],
   "source": [
    "epoch = 7\n",
    "a = np.load(\"/home/hyang/RoCLIP/CyCLIP/representation/1M_inmodal_continue_{}.npz\".format(epoch))\n",
    "clean_idx = a['index'] < 1000000\n",
    "poison_idx = a['index'] >= 1000000\n",
    "distance = np.percentile(a['img_txt'][poison_idx], 95)\n",
    "sum(a['img_txt'][clean_idx] > distance)"
   ]
  },
  {
   "cell_type": "code",
   "execution_count": null,
   "metadata": {},
   "outputs": [],
   "source": [
    "import pandas as pd\n",
    "ntyf_index = a['img_txt'] > distance\n",
    "truth = a['index']\n",
    "sort = np.argsort(truth)\n",
    "sorted_truth = truth[sort]\n",
    "# sorted_nty_index = nty_index[sort]\n",
    "sorted_ntyf_index = ntyf_index[sort]\n",
    "df = pd.read_csv(\"../train_1M_random_poison_1_100.csv\")\n",
    "final_bool_ntyf = np.full(1000500, -1)\n",
    "for i in range(1000500):\n",
    "    if i not in truth:\n",
    "        final_bool_ntyf[i] = True\n",
    "    else:\n",
    "        loc = np.where(sorted_truth == i)[0][0]\n",
    "        final_bool_ntyf[i] = sorted_ntyf_index[loc]\n",
    "df[final_bool_ntyf == 1].to_csv(\"train_1M_random_poison_1_100_100.csv\", index=False, header=[\"caption\", \"path\"])"
   ]
  },
  {
   "cell_type": "code",
   "execution_count": 50,
   "metadata": {},
   "outputs": [],
   "source": [
    "import pandas as pd\n",
    "import matplotlib.pyplot as plt\n",
    "import re\n",
    "import numpy as np\n",
    "\n",
    "poison_per_category = 30\n",
    "# poisoners = ['desk', 'palace', 'necklace', 'balloon', 'pillow', \n",
    "#              'candle', 'pizza', 'umbrella', 'television', \"baseball\", \n",
    "#              \"ice cream\", \"suit\", 'mountain', 'beach', 'plate',\n",
    "#              'orange']\n",
    "poisoners = [\"pizza\", \"baseball\", \"tiger\", \"candle\", \"ice cream\", \"desk\", \"palace\", \"necklace\"]\n",
    "full_poison_range = poison_per_category * len(poisoners)\n",
    "size_of_data = 1000000\n",
    "def plot_poison_distribution(file_path, poison_category='full', filter_ratios=[0.1, 0.15, 0.2, 0.3, 0.4, 0.5, 0.6, 0.7]):\n",
    "    # df = pd.read_csv(file_path, sep='\\t', header=None)\n",
    "    a = torch.load(file_path).cpu().numpy()\n",
    "    df = pd.DataFrame(a)\n",
    "    df[0] = df[0].astype(int)\n",
    "    mean_similarity = df[1].mean()\n",
    "    orig_len = len(df)\n",
    "    mean_similarity = df[1].mean()\n",
    "    orig_len = len(df)\n",
    "\n",
    "    if poison_category == 'full':\n",
    "        condition = df[0] > (size_of_data)\n",
    "    else:\n",
    "        condition = (df[0] >= poison_per_category * poisoners.index(poison_category) \\\n",
    "                        and df[0] < poison_per_category * (poisoners.index(poison_category)+1))\n",
    "    df = df[condition]\n",
    "    \n",
    "    fig, (ax1, ax2) = plt.subplots(2, 1, figsize=(8, 6))\n",
    "\n",
    "    n, bins, patches = ax1.hist(df.index.tolist(), bins=50, color='blue', alpha=0.5)\n",
    "    ax1.xaxis.set_major_locator(plt.MaxNLocator(integer=True))\n",
    "    ax1.set_title('Poison Rank Distribution')\n",
    "    ax1.set_xlabel('Poison Rank')\n",
    "    ax1.set_ylabel('Frequency')\n",
    "    \n",
    "    comments = []\n",
    "    for ratio in filter_ratios:\n",
    "        unfiltered_poison_num = (df.index < orig_len * ratio).sum()\n",
    "        comments.append('poison num at top %f: %d'%(ratio, unfiltered_poison_num))\n",
    "    comment_x = np.argmax(n)\n",
    "    comment_y = np.max(n) \n",
    "    ax1.text(comment_x, comment_y, '\\n'.join(comments), fontsize=12, ha='center')\n",
    "\n",
    "\n",
    "    ax2.hist(df[1].tolist(), bins=30, color='green', alpha=0.5)\n",
    "    ax2.invert_xaxis()\n",
    "    ax2.set_title('Poison Similarity Distribution')\n",
    "    ax2.set_xlabel('Poison Similarity')\n",
    "    ax2.set_ylabel('Frequency')\n",
    "    ax2.axvline(mean_similarity, color='red', linestyle='--', label='mean_similarity')\n",
    "    ax2.legend()\n",
    "\n",
    "    plt.tight_layout()\n",
    "    plt.savefig('post_pretraining_analysis/dist_%s_%s.png' \\\n",
    "                %(re.search(r\"/([^/]+).pt\", file_path).group(1), poison_category))\n",
    "    plt.close()\n",
    "\n",
    "\n",
    "        \n",
    "        "
   ]
  },
  {
   "cell_type": "code",
   "execution_count": 73,
   "metadata": {},
   "outputs": [
    {
     "data": {
      "text/plain": [
       "23"
      ]
     },
     "execution_count": 73,
     "metadata": {},
     "output_type": "execute_result"
    }
   ],
   "source": [
    "import numpy as np\n",
    "\n",
    "a = np.load(\"/home/hyang/NNCLIP/NNCLIP_1M_100_eval_cos.npz\")\n",
    "val = a[\"arr_0\"][0]\n",
    "sum(np.argsort(val)[-int(1000000*0.2):] > 1000000)"
   ]
  },
  {
   "cell_type": "code",
   "execution_count": null,
   "metadata": {},
   "outputs": [],
   "source": [
    "4/15/23"
   ]
  },
  {
   "cell_type": "code",
   "execution_count": 64,
   "metadata": {},
   "outputs": [],
   "source": [
    "import torch\n",
    "import torch.nn.functional as F\n",
    "from sklearn.metrics.pairwise import cosine_similarity\n",
    "input1 = torch.randn(100, 128)\n",
    "input2 = torch.randn(100, 128)"
   ]
  },
  {
   "cell_type": "code",
   "execution_count": 68,
   "metadata": {},
   "outputs": [
    {
     "data": {
      "text/plain": [
       "array([ 0.01628249, -0.08723166, -0.02040995,  0.08660261, -0.04238256,\n",
       "       -0.00081137,  0.02688583,  0.0327206 , -0.11156281, -0.04934815,\n",
       "        0.1706599 ,  0.02332864, -0.06804732, -0.0919473 ,  0.1240228 ,\n",
       "       -0.0645989 , -0.04883693,  0.04800619, -0.04126125,  0.0060869 ,\n",
       "        0.05888171,  0.06048977, -0.0576807 ,  0.11168629,  0.02432375,\n",
       "        0.01590657, -0.01191286, -0.14879338,  0.10233361, -0.0982557 ,\n",
       "       -0.0647715 , -0.02379025, -0.05630229, -0.02497308, -0.10205066,\n",
       "       -0.08735151, -0.01224745,  0.21053654,  0.00256776,  0.10160107,\n",
       "       -0.05293856,  0.08492398,  0.00647057, -0.05431922, -0.03087562,\n",
       "        0.03123626,  0.04547899,  0.0656379 ,  0.10347182,  0.11094446,\n",
       "       -0.04439094, -0.12489306, -0.1094337 , -0.02595468,  0.02871515,\n",
       "        0.09940683,  0.06731414, -0.00811249, -0.07739665, -0.04539318,\n",
       "        0.05417211,  0.18617235, -0.00997807,  0.05243132,  0.07370474,\n",
       "        0.03142649, -0.0549213 , -0.0424587 , -0.09404681, -0.03780082,\n",
       "        0.00109669, -0.03660823,  0.06504379,  0.01780466,  0.1007602 ,\n",
       "       -0.11614546, -0.09795682,  0.10360321,  0.05812289, -0.02929019,\n",
       "        0.02006232,  0.02358318,  0.0593776 ,  0.08122566,  0.15643847,\n",
       "        0.1889942 , -0.10872452, -0.01666895, -0.04875734, -0.01149978,\n",
       "       -0.05177969, -0.05101356,  0.12945805, -0.1068624 , -0.00223849,\n",
       "       -0.07714886, -0.05030707,  0.00324738,  0.00500441,  0.03137709],\n",
       "      dtype=float32)"
      ]
     },
     "execution_count": 68,
     "metadata": {},
     "output_type": "execute_result"
    }
   ],
   "source": [
    "np.diagonal(cosine_similarity(input1, input2))"
   ]
  },
  {
   "cell_type": "code",
   "execution_count": 60,
   "metadata": {},
   "outputs": [
    {
     "data": {
      "text/plain": [
       "torch.Size([3, 4])"
      ]
     },
     "execution_count": 60,
     "metadata": {},
     "output_type": "execute_result"
    }
   ],
   "source": [
    "x = torch.tensor([[1,1,1,1], [2,2,2,2], [3,3,3,3]])\n",
    "x.shape"
   ]
  },
  {
   "cell_type": "code",
   "execution_count": 63,
   "metadata": {},
   "outputs": [
    {
     "data": {
      "text/plain": [
       "torch.Size([128])"
      ]
     },
     "execution_count": 63,
     "metadata": {},
     "output_type": "execute_result"
    }
   ],
   "source": [
    "torch.diag(input1.T @ input2).shape"
   ]
  },
  {
   "cell_type": "code",
   "execution_count": 69,
   "metadata": {},
   "outputs": [
    {
     "data": {
      "text/plain": [
       "tensor([ 0.0163, -0.0872, -0.0204,  0.0866, -0.0424, -0.0008,  0.0269,  0.0327,\n",
       "        -0.1116, -0.0493,  0.1707,  0.0233, -0.0680, -0.0919,  0.1240, -0.0646,\n",
       "        -0.0488,  0.0480, -0.0413,  0.0061,  0.0589,  0.0605, -0.0577,  0.1117,\n",
       "         0.0243,  0.0159, -0.0119, -0.1488,  0.1023, -0.0983, -0.0648, -0.0238,\n",
       "        -0.0563, -0.0250, -0.1021, -0.0874, -0.0122,  0.2105,  0.0026,  0.1016,\n",
       "        -0.0529,  0.0849,  0.0065, -0.0543, -0.0309,  0.0312,  0.0455,  0.0656,\n",
       "         0.1035,  0.1109, -0.0444, -0.1249, -0.1094, -0.0260,  0.0287,  0.0994,\n",
       "         0.0673, -0.0081, -0.0774, -0.0454,  0.0542,  0.1862, -0.0100,  0.0524,\n",
       "         0.0737,  0.0314, -0.0549, -0.0425, -0.0940, -0.0378,  0.0011, -0.0366,\n",
       "         0.0650,  0.0178,  0.1008, -0.1161, -0.0980,  0.1036,  0.0581, -0.0293,\n",
       "         0.0201,  0.0236,  0.0594,  0.0812,  0.1564,  0.1890, -0.1087, -0.0167,\n",
       "        -0.0488, -0.0115, -0.0518, -0.0510,  0.1295, -0.1069, -0.0022, -0.0771,\n",
       "        -0.0503,  0.0032,  0.0050,  0.0314])"
      ]
     },
     "execution_count": 69,
     "metadata": {},
     "output_type": "execute_result"
    }
   ],
   "source": [
    "F.cosine_similarity(input1, input2,1)\n",
    "# a_seq = np.argsort(a)"
   ]
  },
  {
   "cell_type": "code",
   "execution_count": 51,
   "metadata": {},
   "outputs": [],
   "source": [
    "b = torch.diag(input1.T @ input2)\n",
    "b_seq = np.argsort(b)"
   ]
  },
  {
   "cell_type": "code",
   "execution_count": 52,
   "metadata": {},
   "outputs": [],
   "source": [
    "def diff(a,b):\n",
    "    return list(set(a) - set(b))"
   ]
  },
  {
   "cell_type": "code",
   "execution_count": 56,
   "metadata": {},
   "outputs": [
    {
     "data": {
      "text/plain": [
       "tensor([ 12,  24,  94,  10,  74, 106,  93,  52,   2, 104])"
      ]
     },
     "execution_count": 56,
     "metadata": {},
     "output_type": "execute_result"
    }
   ],
   "source": [
    "a_seq[:10]"
   ]
  },
  {
   "cell_type": "code",
   "execution_count": 57,
   "metadata": {},
   "outputs": [
    {
     "data": {
      "text/plain": [
       "tensor([ 12,  94,  24,  74,  52, 104,  90, 106,  17,  10])"
      ]
     },
     "execution_count": 57,
     "metadata": {},
     "output_type": "execute_result"
    }
   ],
   "source": [
    "b_seq[:10]"
   ]
  },
  {
   "cell_type": "code",
   "execution_count": 55,
   "metadata": {},
   "outputs": [
    {
     "data": {
      "text/plain": [
       "[tensor(12),\n",
       " tensor(24),\n",
       " tensor(106),\n",
       " tensor(10),\n",
       " tensor(94),\n",
       " tensor(93),\n",
       " tensor(52),\n",
       " tensor(104),\n",
       " tensor(74),\n",
       " tensor(2)]"
      ]
     },
     "execution_count": 55,
     "metadata": {},
     "output_type": "execute_result"
    }
   ],
   "source": [
    "diff(a_seq[:10], b_seq[:10])"
   ]
  },
  {
   "cell_type": "code",
   "execution_count": 28,
   "metadata": {},
   "outputs": [
    {
     "data": {
      "text/plain": [
       "array([996404, 996723, 997382, ..., 645106, 269298, 997008])"
      ]
     },
     "execution_count": 28,
     "metadata": {},
     "output_type": "execute_result"
    }
   ],
   "source": [
    "np.argsort(val)"
   ]
  },
  {
   "cell_type": "code",
   "execution_count": 24,
   "metadata": {},
   "outputs": [
    {
     "data": {
      "text/plain": [
       "15"
      ]
     },
     "execution_count": 24,
     "metadata": {},
     "output_type": "execute_result"
    }
   ],
   "source": [
    "b = np.load(\"/home/hyang/NNCLIP/NNCLIP_1M_100_eval_cos.npz\")\n",
    "val_b = b[\"arr_0\"][0]\n",
    "sum(np.argsort(val_b)[-int(1000000*0.15):] > 1000000)"
   ]
  },
  {
   "cell_type": "code",
   "execution_count": 27,
   "metadata": {},
   "outputs": [
    {
     "data": {
      "text/plain": [
       "array([1001116, 1001111, 1001170, ...,   25732,  694943,  837345])"
      ]
     },
     "execution_count": 27,
     "metadata": {},
     "output_type": "execute_result"
    }
   ],
   "source": [
    "np.argsort(val_b)"
   ]
  },
  {
   "cell_type": "code",
   "execution_count": 11,
   "metadata": {},
   "outputs": [],
   "source": [
    "\n",
    "b = np.load(\"/home/hyang/NNCLIP/NNCLIP_1M_100_eval.npz\")\n",
    "val = a[\"arr_0\"][0]\n",
    "sum(np.argsort(val)[-int(1000000*0.15):] > 1000000)\n"
   ]
  },
  {
   "cell_type": "code",
   "execution_count": 52,
   "metadata": {},
   "outputs": [
    {
     "ename": "",
     "evalue": "",
     "output_type": "error",
     "traceback": [
      "\u001b[1;31mThe Kernel crashed while executing code in the the current cell or a previous cell. Please review the code in the cell(s) to identify a possible cause of the failure. Click <a href='https://aka.ms/vscodeJupyterKernelCrash'>here</a> for more info. View Jupyter <a href='command:jupyter.viewOutput'>log</a> for further details."
     ]
    }
   ],
   "source": [
    "for i in range(7,8,1):\n",
    "    plot_poison_distribution(\"indices/NNCLIP_1M_250_update{}.pt\".format(i))"
   ]
  },
  {
   "cell_type": "code",
   "execution_count": 45,
   "metadata": {},
   "outputs": [],
   "source": [
    "df = pd.DataFrame(a)\n",
    "df[0] = df[0].astype(int)"
   ]
  },
  {
   "cell_type": "code",
   "execution_count": 44,
   "metadata": {},
   "outputs": [
    {
     "ename": "AttributeError",
     "evalue": "'Series' object has no attribute 'astype_'",
     "output_type": "error",
     "traceback": [
      "\u001b[0;31m---------------------------------------------------------------------------\u001b[0m",
      "\u001b[0;31mAttributeError\u001b[0m                            Traceback (most recent call last)",
      "\u001b[1;32m/home/hyang/NNCLIP/CyCLIP/evaluation.ipynb Cell 19\u001b[0m in \u001b[0;36m<cell line: 1>\u001b[0;34m()\u001b[0m\n\u001b[0;32m----> <a href='vscode-notebook-cell://ssh-remote%2Bt1/home/hyang/NNCLIP/CyCLIP/evaluation.ipynb#Y115sdnNjb2RlLXJlbW90ZQ%3D%3D?line=0'>1</a>\u001b[0m df[\u001b[39m0\u001b[39;49m]\u001b[39m.\u001b[39;49mastype_(\u001b[39mint\u001b[39m)\n",
      "File \u001b[0;32m~/deadclip/CyCLIP/env/lib/python3.10/site-packages/pandas/core/generic.py:5902\u001b[0m, in \u001b[0;36mNDFrame.__getattr__\u001b[0;34m(self, name)\u001b[0m\n\u001b[1;32m   5895\u001b[0m \u001b[39mif\u001b[39;00m (\n\u001b[1;32m   5896\u001b[0m     name \u001b[39mnot\u001b[39;00m \u001b[39min\u001b[39;00m \u001b[39mself\u001b[39m\u001b[39m.\u001b[39m_internal_names_set\n\u001b[1;32m   5897\u001b[0m     \u001b[39mand\u001b[39;00m name \u001b[39mnot\u001b[39;00m \u001b[39min\u001b[39;00m \u001b[39mself\u001b[39m\u001b[39m.\u001b[39m_metadata\n\u001b[1;32m   5898\u001b[0m     \u001b[39mand\u001b[39;00m name \u001b[39mnot\u001b[39;00m \u001b[39min\u001b[39;00m \u001b[39mself\u001b[39m\u001b[39m.\u001b[39m_accessors\n\u001b[1;32m   5899\u001b[0m     \u001b[39mand\u001b[39;00m \u001b[39mself\u001b[39m\u001b[39m.\u001b[39m_info_axis\u001b[39m.\u001b[39m_can_hold_identifiers_and_holds_name(name)\n\u001b[1;32m   5900\u001b[0m ):\n\u001b[1;32m   5901\u001b[0m     \u001b[39mreturn\u001b[39;00m \u001b[39mself\u001b[39m[name]\n\u001b[0;32m-> 5902\u001b[0m \u001b[39mreturn\u001b[39;00m \u001b[39mobject\u001b[39;49m\u001b[39m.\u001b[39;49m\u001b[39m__getattribute__\u001b[39;49m(\u001b[39mself\u001b[39;49m, name)\n",
      "\u001b[0;31mAttributeError\u001b[0m: 'Series' object has no attribute 'astype_'"
     ]
    }
   ],
   "source": [
    "df[0].astype_(int)"
   ]
  },
  {
   "cell_type": "code",
   "execution_count": null,
   "metadata": {},
   "outputs": [],
   "source": []
  },
  {
   "cell_type": "code",
   "execution_count": 410,
   "metadata": {},
   "outputs": [],
   "source": [
    "def intersection(a, b):\n",
    "    return list(set(a) & set(b))\n",
    "\n",
    "def diff(a,b):\n",
    "    return list(set(a) - set(b))"
   ]
  },
  {
   "cell_type": "code",
   "execution_count": 559,
   "metadata": {},
   "outputs": [
    {
     "name": "stdout",
     "output_type": "stream",
     "text": [
      "Epoch: 8\n",
      "Time to Die!\n",
      "Length of the data 1: \n",
      "200000\n",
      "Num of the Poison 1: \n",
      "37\n",
      "Length of the data 2: \n",
      "200000\n",
      "Num of the Poison 2: \n",
      "37\n",
      "Length of the data 3: \n",
      "199999\n",
      "Num of the Poison 2: \n",
      "37\n",
      "\n",
      "\n",
      "Epoch: 9\n",
      "Length of the data 1: \n",
      "230000\n",
      "Num of the Poison 1: \n",
      "16\n",
      "Length of the data 2: \n",
      "230000\n",
      "Num of the Poison 2: \n",
      "29\n",
      "Length of the data 3: \n",
      "189276\n",
      "Num of the Poison 2: \n",
      "14\n",
      "\n",
      "\n",
      "Epoch: 10\n",
      "Length of the data 1: \n",
      "260000\n",
      "Num of the Poison 1: \n",
      "24\n",
      "Length of the data 2: \n",
      "260000\n",
      "Num of the Poison 2: \n",
      "28\n",
      "Length of the data 3: \n",
      "202701\n",
      "Num of the Poison 2: \n",
      "20\n",
      "\n",
      "\n",
      "Epoch: 11\n",
      "Length of the data 1: \n",
      "290000\n",
      "Num of the Poison 1: \n",
      "23\n",
      "Length of the data 2: \n",
      "290000\n",
      "Num of the Poison 2: \n",
      "24\n",
      "Length of the data 3: \n",
      "222735\n",
      "Num of the Poison 2: \n",
      "17\n",
      "\n",
      "\n",
      "Epoch: 12\n",
      "Length of the data 1: \n",
      "320000\n",
      "Num of the Poison 1: \n",
      "13\n",
      "Length of the data 2: \n",
      "320000\n",
      "Num of the Poison 2: \n",
      "25\n",
      "Length of the data 3: \n",
      "242360\n",
      "Num of the Poison 2: \n",
      "11\n",
      "\n",
      "\n",
      "Epoch: 13\n",
      "Length of the data 1: \n",
      "350000\n",
      "Num of the Poison 1: \n",
      "5\n",
      "Length of the data 2: \n",
      "350000\n",
      "Num of the Poison 2: \n",
      "26\n",
      "Length of the data 3: \n",
      "264581\n",
      "Num of the Poison 2: \n",
      "5\n",
      "\n",
      "\n",
      "Epoch: 14\n",
      "Length of the data 1: \n",
      "380000\n",
      "Num of the Poison 1: \n",
      "8\n",
      "Length of the data 2: \n",
      "380000\n",
      "Num of the Poison 2: \n",
      "22\n",
      "Length of the data 3: \n",
      "288179\n",
      "Num of the Poison 2: \n",
      "6\n",
      "\n",
      "\n",
      "Epoch: 15\n",
      "Length of the data 1: \n",
      "410000\n",
      "Num of the Poison 1: \n",
      "13\n",
      "Length of the data 2: \n",
      "410000\n",
      "Num of the Poison 2: \n",
      "24\n",
      "Length of the data 3: \n",
      "315326\n",
      "Num of the Poison 2: \n",
      "9\n",
      "\n",
      "\n",
      "Epoch: 16\n",
      "Length of the data 1: \n",
      "440000\n",
      "Num of the Poison 1: \n",
      "4\n",
      "Length of the data 2: \n",
      "440000\n",
      "Num of the Poison 2: \n",
      "21\n",
      "Length of the data 3: \n",
      "341992\n",
      "Num of the Poison 2: \n",
      "4\n",
      "\n",
      "\n",
      "Epoch: 17\n",
      "Time to Die!\n",
      "Length of the data 1: \n",
      "470000\n",
      "Num of the Poison 1: \n",
      "3\n",
      "Length of the data 2: \n",
      "470000\n",
      "Num of the Poison 2: \n",
      "3\n",
      "Length of the data 3: \n",
      "469999\n",
      "Num of the Poison 2: \n",
      "3\n",
      "\n",
      "\n",
      "Epoch: 18\n",
      "Length of the data 1: \n",
      "500000\n",
      "Num of the Poison 1: \n",
      "14\n",
      "Length of the data 2: \n",
      "500000\n",
      "Num of the Poison 2: \n",
      "4\n",
      "Length of the data 3: \n",
      "443369\n",
      "Num of the Poison 2: \n",
      "4\n",
      "\n",
      "\n",
      "Epoch: 19\n",
      "Length of the data 1: \n",
      "530000\n",
      "Num of the Poison 1: \n",
      "5\n",
      "Length of the data 2: \n",
      "530000\n",
      "Num of the Poison 2: \n",
      "4\n",
      "Length of the data 3: \n",
      "463035\n",
      "Num of the Poison 2: \n",
      "2\n",
      "\n",
      "\n",
      "Epoch: 20\n",
      "Length of the data 1: \n",
      "560000\n",
      "Num of the Poison 1: \n",
      "3\n",
      "Length of the data 2: \n",
      "560000\n",
      "Num of the Poison 2: \n",
      "2\n",
      "Length of the data 3: \n",
      "487438\n",
      "Num of the Poison 2: \n",
      "1\n",
      "\n",
      "\n",
      "Epoch: 21\n",
      "Length of the data 1: \n",
      "590000\n",
      "Num of the Poison 1: \n",
      "2\n",
      "Length of the data 2: \n",
      "590000\n",
      "Num of the Poison 2: \n",
      "2\n",
      "Length of the data 3: \n",
      "517814\n",
      "Num of the Poison 2: \n",
      "1\n",
      "\n",
      "\n",
      "Epoch: 22\n",
      "Length of the data 1: \n",
      "620000\n",
      "Num of the Poison 1: \n",
      "4\n",
      "Length of the data 2: \n",
      "620000\n",
      "Num of the Poison 2: \n",
      "2\n",
      "Length of the data 3: \n",
      "546933\n",
      "Num of the Poison 2: \n",
      "1\n",
      "\n",
      "\n",
      "Epoch: 23\n",
      "Length of the data 1: \n",
      "650000\n",
      "Num of the Poison 1: \n",
      "8\n",
      "Length of the data 2: \n",
      "650000\n",
      "Num of the Poison 2: \n",
      "2\n",
      "Length of the data 3: \n",
      "576682\n",
      "Num of the Poison 2: \n",
      "1\n",
      "\n",
      "\n",
      "Epoch: 24\n",
      "Length of the data 1: \n",
      "680000\n",
      "Num of the Poison 1: \n",
      "11\n",
      "Length of the data 2: \n",
      "680000\n",
      "Num of the Poison 2: \n",
      "4\n",
      "Length of the data 3: \n",
      "608466\n",
      "Num of the Poison 2: \n",
      "2\n",
      "\n",
      "\n",
      "Epoch: 25\n",
      "Time to Die!\n",
      "Length of the data 1: \n",
      "710000\n",
      "Num of the Poison 1: \n",
      "7\n",
      "Length of the data 2: \n",
      "710000\n",
      "Num of the Poison 2: \n",
      "7\n",
      "Length of the data 3: \n",
      "709999\n",
      "Num of the Poison 2: \n",
      "7\n",
      "\n",
      "\n",
      "Epoch: 26\n",
      "Length of the data 1: \n",
      "740000\n",
      "Num of the Poison 1: \n",
      "20\n",
      "Length of the data 2: \n",
      "740000\n",
      "Num of the Poison 2: \n",
      "8\n",
      "Length of the data 3: \n",
      "697422\n",
      "Num of the Poison 2: \n",
      "6\n",
      "\n",
      "\n",
      "Epoch: 27\n",
      "Length of the data 1: \n",
      "770000\n",
      "Num of the Poison 1: \n",
      "20\n",
      "Length of the data 2: \n",
      "770000\n",
      "Num of the Poison 2: \n",
      "7\n",
      "Length of the data 3: \n",
      "722745\n",
      "Num of the Poison 2: \n",
      "6\n",
      "\n",
      "\n",
      "Epoch: 28\n",
      "Length of the data 1: \n",
      "800000\n",
      "Num of the Poison 1: \n",
      "19\n",
      "Length of the data 2: \n",
      "800000\n",
      "Num of the Poison 2: \n",
      "12\n",
      "Length of the data 3: \n",
      "752073\n",
      "Num of the Poison 2: \n",
      "8\n",
      "\n",
      "\n",
      "Epoch: 29\n",
      "Length of the data 1: \n",
      "830000\n",
      "Num of the Poison 1: \n",
      "27\n",
      "Length of the data 2: \n",
      "830000\n",
      "Num of the Poison 2: \n",
      "16\n",
      "Length of the data 3: \n",
      "786670\n",
      "Num of the Poison 2: \n",
      "10\n",
      "\n",
      "\n",
      "Epoch: 30\n",
      "Length of the data 1: \n",
      "850000\n",
      "Num of the Poison 1: \n",
      "22\n",
      "Length of the data 2: \n",
      "850000\n",
      "Num of the Poison 2: \n",
      "14\n",
      "Length of the data 3: \n",
      "809172\n",
      "Num of the Poison 2: \n",
      "10\n",
      "\n",
      "\n",
      "Epoch: 31\n",
      "Length of the data 1: \n",
      "850000\n",
      "Num of the Poison 1: \n",
      "30\n",
      "Length of the data 2: \n",
      "850000\n",
      "Num of the Poison 2: \n",
      "13\n",
      "Length of the data 3: \n",
      "807946\n",
      "Num of the Poison 2: \n",
      "12\n",
      "\n",
      "\n"
     ]
    }
   ],
   "source": [
    "update = False\n",
    "someone = None\n",
    "for i in range(8, 32):   \n",
    "    print(\"Epoch: {}\".format(i)) \n",
    "    file_path = \"/home/hyang/NNCLIP/CyCLIP/indices/NNCLIP_1M_update{}.tsv\".format(i)\n",
    "    # file_path_2 = \"/home/hyang/NNCLIP/CyCLIP/indices/NNCLIP_1M_update{}.tsv\".format(i+1)\n",
    "    df = pd.read_csv(file_path, sep='\\t', header=None, index_col = [0])\n",
    "    # df_2 = pd.read_csv(file_path_2, sep='\\t', header=None, index_col = [0])\n",
    "    size_of_data = 1000000\n",
    "    compare_df = df.sort_index()\n",
    "    temp = compare_df.values.flatten()\n",
    "    num = 10000 * 20 + (i - 8) * 30000 \n",
    "    num = min(num, 850000)\n",
    "    the_one = df.index[:num]\n",
    "    # print((np.argsort(temp)[:50000] > 1000000).sum())\n",
    "    # print(np.argsort(temp)[:50000][(np.argsort(temp)[:50000] > 1000000)])\n",
    "    # print(len(df))\n",
    "    # condition = df.index > (size_of_data)\n",
    "    # condition_2 = df_2.index > (size_of_data)\n",
    "    # df.insert(0, \"order\", range(1, orig_len+1))\n",
    "    # df_2.insert(0, \"order\", range(1, orig_len+1))\n",
    "    # filter_ratios = [0.1, 0.2, 0.3]\n",
    "    # new_df = df[condition]\n",
    "    # for ratio in filter_ratios:\n",
    "    #     unfiltered_poison_num = (new_df[\"order\"] < orig_len * ratio).sum()\n",
    "    #     print(unfiltered_poison_num)\n",
    "    # compare_df = df.sort_index().compare(df_2.sort_index(),keep_equal=True, keep_shape=True)[1]\n",
    "    # increase_value = compare_df[\"other\"] - compare_df[\"self\"]\n",
    "    # increase_value = increase_value.to_frame(name=\"cs\")\n",
    "    if update:\n",
    "        someone = someone + temp\n",
    "    else:\n",
    "        update = True\n",
    "        print(\"Time to Die!\")\n",
    "        someone = temp\n",
    "    if (i - 8) % 8 == 0 and i > 8 and i < 25:\n",
    "        update = False\n",
    "       \n",
    "    the_two = np.argsort(someone)[-num:]\n",
    "    # the_two = np.array([i for i in the_one if i not in some_one])\n",
    "    print(\"Length of the data 1: \")\n",
    "    print(len(the_one))\n",
    "    print(\"Num of the Poison 1: \")\n",
    "    print(sum(the_one > 1000000))\n",
    "    print(\"Length of the data 2: \")\n",
    "    print(len(the_two))\n",
    "    print(\"Num of the Poison 2: \")\n",
    "    print(sum(the_two > 1000000))\n",
    "    a = intersection(the_one, the_two)\n",
    "    print(\"Length of the data 3: \")\n",
    "    print(len(a))\n",
    "    print(\"Num of the Poison 2: \")\n",
    "    print(sum(np.array(a) > 1000000))\n",
    "    print(\"\\n\")\n",
    "    # increase_value = increase_value.sort_values(by=\"cs\", ascending=False)\n",
    "# cd = increase_value.index > 1000000\n",
    "# increase_value[cd].hist(bins=10)\n",
    "# cd = increase_value.index <= 1000000\n",
    "# increase_value[cd].hist(bins=10)"
   ]
  },
  {
   "cell_type": "code",
   "execution_count": 522,
   "metadata": {},
   "outputs": [
    {
     "data": {
      "text/plain": [
       "array([-1.090819, -0.979065, -0.971812, ...,  0.578183,  0.578184,\n",
       "        0.578184])"
      ]
     },
     "execution_count": 522,
     "metadata": {},
     "output_type": "execute_result"
    }
   ],
   "source": [
    "np.sort(someone)[:num]"
   ]
  },
  {
   "cell_type": "code",
   "execution_count": 523,
   "metadata": {},
   "outputs": [
    {
     "data": {
      "text/plain": [
       "array([-1.090819, -0.979065, -0.971812, ...,  1.843109,  1.857512,\n",
       "        1.869493])"
      ]
     },
     "execution_count": 523,
     "metadata": {},
     "output_type": "execute_result"
    }
   ],
   "source": [
    "np.sort(someone)"
   ]
  },
  {
   "cell_type": "code",
   "execution_count": 481,
   "metadata": {},
   "outputs": [
    {
     "data": {
      "text/plain": [
       "array([449822, 825623, 155091, ..., 934381, 365172, 295714])"
      ]
     },
     "execution_count": 481,
     "metadata": {},
     "output_type": "execute_result"
    }
   ],
   "source": [
    "num = 10000 * (15 + i - 7) \n",
    "train_data = np.argsort(the_one)[-50000:]"
   ]
  },
  {
   "cell_type": "code",
   "execution_count": 478,
   "metadata": {},
   "outputs": [],
   "source": [
    "# a = np.argsort(the_one)[-50000:][(np.argsort(the_one)[:50000] > 1000000)]\n",
    "# b = np.argsort(someone)[-100000:]"
   ]
  },
  {
   "cell_type": "code",
   "execution_count": null,
   "metadata": {},
   "outputs": [],
   "source": [
    "explore = []\n",
    "for i in range(7, 32):    \n",
    "    file_path = \"/home/hyang/NNCLIP/CyCLIP/indices/NNCLIP_1M_update{}.tsv\".format(i)\n",
    "    # file_path_2 = \"/home/hyang/NNCLIP/CyCLIP/indices/NNCLIP_1M_update{}.tsv\".format(i+1)\n",
    "    df = pd.read_csv(file_path, sep='\\t', header=None)\n",
    "    num = 10000 * (15 + i - 7) \n",
    "    index = df[0][:num].values\n",
    "    explore.append(index)\n",
    "    print((index > 1000000).sum())"
   ]
  },
  {
   "cell_type": "code",
   "execution_count": 528,
   "metadata": {},
   "outputs": [
    {
     "data": {
      "text/plain": [
       "19"
      ]
     },
     "execution_count": 528,
     "metadata": {},
     "output_type": "execute_result"
    }
   ],
   "source": []
  },
  {
   "cell_type": "code",
   "execution_count": 518,
   "metadata": {},
   "outputs": [
    {
     "data": {
      "text/plain": [
       "310000"
      ]
     },
     "execution_count": 518,
     "metadata": {},
     "output_type": "execute_result"
    }
   ],
   "source": [
    "len(np.concatenate(explore))"
   ]
  },
  {
   "cell_type": "code",
   "execution_count": 519,
   "metadata": {},
   "outputs": [
    {
     "data": {
      "text/plain": [
       "234977"
      ]
     },
     "execution_count": 519,
     "metadata": {},
     "output_type": "execute_result"
    }
   ],
   "source": [
    "len(set(np.concatenate(explore)))"
   ]
  },
  {
   "cell_type": "code",
   "execution_count": 428,
   "metadata": {},
   "outputs": [
    {
     "data": {
      "text/plain": [
       "array([1000651, 1000641, 1000685, 1000692])"
      ]
     },
     "execution_count": 428,
     "metadata": {},
     "output_type": "execute_result"
    }
   ],
   "source": [
    "a"
   ]
  },
  {
   "cell_type": "code",
   "execution_count": 1,
   "metadata": {},
   "outputs": [
    {
     "ename": "NameError",
     "evalue": "name 're' is not defined",
     "output_type": "error",
     "traceback": [
      "\u001b[0;31m---------------------------------------------------------------------------\u001b[0m",
      "\u001b[0;31mNameError\u001b[0m                                 Traceback (most recent call last)",
      "\u001b[1;32m/home/hyang/NNCLIP/CyCLIP/evaluation.ipynb Cell 12\u001b[0m in \u001b[0;36m<cell line: 10>\u001b[0;34m()\u001b[0m\n\u001b[1;32m      <a href='vscode-notebook-cell://ssh-remote%2Bt1/home/hyang/NNCLIP/CyCLIP/evaluation.ipynb#X14sdnNjb2RlLXJlbW90ZQ%3D%3D?line=8'>9</a>\u001b[0m \u001b[39m# Strips the newline character\u001b[39;00m\n\u001b[1;32m     <a href='vscode-notebook-cell://ssh-remote%2Bt1/home/hyang/NNCLIP/CyCLIP/evaluation.ipynb#X14sdnNjb2RlLXJlbW90ZQ%3D%3D?line=9'>10</a>\u001b[0m \u001b[39mfor\u001b[39;00m line \u001b[39min\u001b[39;00m Lines:\n\u001b[0;32m---> <a href='vscode-notebook-cell://ssh-remote%2Bt1/home/hyang/NNCLIP/CyCLIP/evaluation.ipynb#X14sdnNjb2RlLXJlbW90ZQ%3D%3D?line=10'>11</a>\u001b[0m     a \u001b[39m=\u001b[39m re\u001b[39m.\u001b[39msearch(\u001b[39m\"\u001b[39m\u001b[39mLearning Rate:\u001b[39m\u001b[39m\"\u001b[39m, line)\n\u001b[1;32m     <a href='vscode-notebook-cell://ssh-remote%2Bt1/home/hyang/NNCLIP/CyCLIP/evaluation.ipynb#X14sdnNjb2RlLXJlbW90ZQ%3D%3D?line=11'>12</a>\u001b[0m     b \u001b[39m=\u001b[39m re\u001b[39m.\u001b[39msearch(\u001b[39m\"\u001b[39m\u001b[39mMultimodal\u001b[39m\u001b[39m\"\u001b[39m, line)\n\u001b[1;32m     <a href='vscode-notebook-cell://ssh-remote%2Bt1/home/hyang/NNCLIP/CyCLIP/evaluation.ipynb#X14sdnNjb2RlLXJlbW90ZQ%3D%3D?line=12'>13</a>\u001b[0m     c \u001b[39m=\u001b[39m re\u001b[39m.\u001b[39msearch(\u001b[39m\"\u001b[39m\u001b[39mInmodal\u001b[39m\u001b[39m\"\u001b[39m, line)\n",
      "\u001b[0;31mNameError\u001b[0m: name 're' is not defined"
     ]
    }
   ],
   "source": [
    "file1 = open('logs/NNCLIP_1M_0.02/output.log', 'r')\n",
    "Lines = file1.readlines()\n",
    "\n",
    " \n",
    "count = 0\n",
    "learn_rate_inmodal = []\n",
    "learn_rate_crossmodal = []\n",
    "cross_modal = True\n",
    "# Strips the newline character\n",
    "for line in Lines:\n",
    "    a = re.search(\"Learning Rate:\", line)\n",
    "    b = re.search(\"Multimodal\", line)\n",
    "    c = re.search(\"Inmodal\", line)\n",
    "    if b:\n",
    "        cross_modal = True\n",
    "    if c:\n",
    "        cross_modal = False\n",
    "    if a and cross_modal:\n",
    "        learn_rate_crossmodal.append(float(line.strip()[-11:]))\n",
    "    elif a:\n",
    "        # print(line)\n",
    "        # print(cross_modal)\n",
    "        learn_rate_inmodal.append(float(line.strip()[-11:]))"
   ]
  },
  {
   "cell_type": "code",
   "execution_count": 14,
   "metadata": {},
   "outputs": [
    {
     "data": {
      "text/plain": [
       "[<matplotlib.lines.Line2D at 0x7f23c789a2f0>]"
      ]
     },
     "execution_count": 14,
     "metadata": {},
     "output_type": "execute_result"
    },
    {
     "data": {
      "image/png": "[encoded data removed]",
      "text/plain": [
       "<Figure size 640x480 with 1 Axes>"
      ]
     },
     "metadata": {},
     "output_type": "display_data"
    }
   ],
   "source": [
    "plt.plot(learn_rate_crossmodal)"
   ]
  },
  {
   "cell_type": "code",
   "execution_count": 4,
   "metadata": {},
   "outputs": [
    {
     "data": {
      "text/plain": [
       "[<matplotlib.lines.Line2D at 0x7f640abc1270>]"
      ]
     },
     "execution_count": 4,
     "metadata": {},
     "output_type": "execute_result"
    },
    {
     "data": {
      "image/png": "[encoded data removed]",
      "text/plain": [
       "<Figure size 640x480 with 1 Axes>"
      ]
     },
     "metadata": {},
     "output_type": "display_data"
    }
   ],
   "source": [
    "import re\n",
    "file1 = open(\"logs/NNCLIP_1M_500/output.log\", 'r')\n",
    "Lines = file1.readlines()\n",
    "\n",
    " \n",
    "learn_rate = []\n",
    "# learn_rate_crossmodal = []\n",
    "# Strips the newline character\n",
    "for line in Lines:\n",
    "    a = re.search(\"Learning Rate:\", line)\n",
    "    if a:\n",
    "        learn_rate.append(float(line.strip()[-11:]))\n",
    "        # print(line.strip()[-11:])\n",
    "plt.plot(learn_rate)"
   ]
  },
  {
   "cell_type": "code",
   "execution_count": 3,
   "metadata": {},
   "outputs": [
    {
     "data": {
      "text/plain": [
       "[<matplotlib.lines.Line2D at 0x7f45586ec7c0>]"
      ]
     },
     "execution_count": 3,
     "metadata": {},
     "output_type": "execute_result"
    },
    {
     "data": {
      "image/png": "[encoded data removed]",
      "text/plain": [
       "<Figure size 640x480 with 1 Axes>"
      ]
     },
     "metadata": {},
     "output_type": "display_data"
    }
   ],
   "source": [
    "import re\n",
    "file1 = open(\"logs/NNCLIP_1M_0.02/output.log\", 'r')\n",
    "Lines = file1.readlines()\n",
    "\n",
    " \n",
    "learn_rate = []\n",
    "# learn_rate_crossmodal = []\n",
    "# Strips the newline character\n",
    "for line in Lines:\n",
    "    a = re.search(\"Learning Rate:\", line)\n",
    "    if a:\n",
    "        learn_rate.append(float(line.strip()[-11:]))\n",
    "        # print(line.strip()[-11:])\n",
    "plt.plot(learn_rate)"
   ]
  },
  {
   "cell_type": "markdown",
   "metadata": {},
   "source": [
    "python -m src.main --name test --train_data ../test_data_10K.csv --validation_data ../valid_temp.csv --multimodal_warmup 0 --inmodal_warmup 0 --loader_update_freq 1 --filter_ratio 0.2 --epochs 3 --update_filter_ratio 0.1 --batch_size 256 --memory_bank --memory_bank_size 2048 --index_dir indices --save_index --device_ids 4 5 --distributed\n",
    "\n",
    "python -m src.main --name NNCLIP_100K_CROSS --train_data ../train_100K_30.csv --validation_data ../valid_temp.csv --multimodal_warmup 1 --inmodal_warmup 5 --loader_update_freq 4 --filter_ratio 0.2 --epochs 32 --post_lr 5e-6 --update_filter_ratio 0.1 --batch_size 128 --inmodal --index_dir indices --save_index --device_id 7\n",
    "\n",
    "python -m src.main --name NNCLIP_100K_NN_CROSS_s_step --train_data ../train_100K_30.csv --validation_data ../valid_temp.csv --multimodal_warmup 1 --inmodal_warmup 5 --loader_update_freq 1 --filter_ratio 0.2 --epochs 64 --post_lr 5e-6 --update_filter_ratio 0.01 --batch_size 128 --inmodal --memory_bank --memory_bank_size 2048 --index_dir indices --save_index --device_id 0\n"
   ]
  },
  {
   "cell_type": "code",
   "execution_count": 44,
   "metadata": {},
   "outputs": [],
   "source": [
    "import torch\n",
    "import torch.nn.functional as F\n",
    "\n",
    "initial_value = torch.zeros(10)\n",
    "initial_time = torch.zeros(10)\n",
    "accumulate_bible = torch.tensor(list(zip(initial_value, initial_time))).T\n",
    "sample_idx = torch.tensor([1,3,5,2,4])"
   ]
  },
  {
   "cell_type": "code",
   "execution_count": 47,
   "metadata": {},
   "outputs": [],
   "source": [
    "accumulate_bible[0][sample_idx] = torch.tensor([1.,2.,3.,4.,5.])\n",
    "accumulate_bible[1][sample_idx] = torch.tensor([2.,2.,2.,2.,2.])"
   ]
  },
  {
   "cell_type": "code",
   "execution_count": 49,
   "metadata": {},
   "outputs": [],
   "source": [
    "acc_sim = accumulate_bible[0][sample_idx] / accumulate_bible[1][sample_idx]\n",
    "acc_sorted_indices = torch.argsort(acc_sim, descending=True)"
   ]
  },
  {
   "cell_type": "code",
   "execution_count": 51,
   "metadata": {},
   "outputs": [
    {
     "data": {
      "text/plain": [
       "tensor([0.5000, 1.0000, 1.5000, 2.0000, 2.5000])"
      ]
     },
     "execution_count": 51,
     "metadata": {},
     "output_type": "execute_result"
    }
   ],
   "source": [
    "acc_sim"
   ]
  },
  {
   "cell_type": "code",
   "execution_count": 50,
   "metadata": {},
   "outputs": [
    {
     "data": {
      "text/plain": [
       "tensor([4, 3, 2, 1, 0])"
      ]
     },
     "execution_count": 50,
     "metadata": {},
     "output_type": "execute_result"
    }
   ],
   "source": [
    "acc_sorted_indices "
   ]
  },
  {
   "cell_type": "code",
   "execution_count": null,
   "metadata": {},
   "outputs": [],
   "source": [
    "class op(object):\n",
    "    def __init__(self, epochs, inmodal_warmup, multimodal_warmup, loader_update_freq, update_filter_ratio, filter_ratio):\n",
    "            self.epochs = epochs\n",
    "            self.inmodal_warmup = inmodal_warmup\n",
    "            self.multimodal_warmup = multimodal_warmup\n",
    "            self.loader_update_freq = loader_update_freq\n",
    "            self.update_filter_ratio = update_filter_ratio\n",
    "            self.filter_ratio = filter_ratio\n",
    "            "
   ]
  },
  {
   "cell_type": "code",
   "execution_count": null,
   "metadata": {},
   "outputs": [],
   "source": [
    "options = op(64, 5, 1, 1, 0.01, 0.2)"
   ]
  },
  {
   "cell_type": "code",
   "execution_count": null,
   "metadata": {},
   "outputs": [],
   "source": [
    "def calcualte_num_batches(options, num_batches):\n",
    "    update_epoch = options.epochs - options.inmodal_warmup - options.multimodal_warmup\n",
    "    num_update = update_epoch // options.loader_update_freq\n",
    "    left_off_epoch = update_epoch % options.loader_update_freq\n",
    "    total_step = 0\n",
    "    for i in range(num_update):\n",
    "        total_step = total_step + (i * options.update_filter_ratio + options.filter_ratio) * options.loader_update_freq * num_batches\n",
    "    total_step =  total_step + ((i+1) * options.update_filter_ratio + options.filter_ratio) * num_batches * left_off_epoch\n",
    "    return total_step\n",
    "\n",
    "\n",
    "def cosine_scheduler_mock(base_lr, post_lr, num_warmup_steps, total_steps):\n",
    "    def _scheduler(current_step, lr_adjust=False):\n",
    "        if lr_adjust:\n",
    "            lr = post_lr\n",
    "        elif(current_step < num_warmup_steps):\n",
    "            lr = base_lr * (current_step + 1) / num_warmup_steps\n",
    "        else:\n",
    "            n = current_step - num_warmup_steps\n",
    "            d = total_steps - num_warmup_steps\n",
    "            lr = 0.5 * (1 + np.cos(np.pi * n / d)) * base_lr\n",
    "        return lr, current_step\n",
    "    return _scheduler"
   ]
  },
  {
   "cell_type": "code",
   "execution_count": null,
   "metadata": {},
   "outputs": [],
   "source": [
    "epochs = list(range(7,64))\n",
    "# num_batches = [293] * 5 + [488] * 5 + [684] * 5 + [879] * 5 + [1075] * 5 + [1270]\n",
    "# num_batches = [1075] * 26\n",
    "num_batches = list(range(585, 3200, 40))\n",
    "total = calcualte_num_batches(options, 1954)\n",
    "train_num_batches = total // (options.epochs - options.inmodal_warmup - options.multimodal_warmup)\n",
    "\n",
    "# total = 1954 * 32\n",
    "scheduler = cosine_scheduler_mock(base_lr = 0.0005, post_lr = 5e-06, num_warmup_steps = 8000, total_steps = total)"
   ]
  },
  {
   "cell_type": "code",
   "execution_count": null,
   "metadata": {},
   "outputs": [],
   "source": [
    "total_lr = []\n",
    "total_step = []\n",
    "for i in epochs:\n",
    "    batch_size = num_batches[i-7]\n",
    "    for j in range(batch_size):\n",
    "        step = batch_size * (i - 6) + j\n",
    "        lr, current_step = scheduler(step)\n",
    "        total_lr.append(lr) \n",
    "        total_step.append(current_step) \n",
    "\n",
    "plt.plot(total_lr)"
   ]
  },
  {
   "cell_type": "code",
   "execution_count": null,
   "metadata": {},
   "outputs": [],
   "source": [
    "plt.plot(total_step)"
   ]
  },
  {
   "cell_type": "code",
   "execution_count": null,
   "metadata": {},
   "outputs": [],
   "source": [
    "plt.plot(learn_rate)"
   ]
  },
  {
   "cell_type": "code",
   "execution_count": null,
   "metadata": {},
   "outputs": [],
   "source": [
    "import math\n",
    "import torch\n",
    "from torch.optim.lr_scheduler import _LRScheduler\n",
    "\n",
    "class CosineAnnealingWarmupRestarts(_LRScheduler):\n",
    "    \"\"\"\n",
    "        optimizer (Optimizer): Wrapped optimizer.\n",
    "        first_cycle_steps (int): First cycle step size.\n",
    "        cycle_mult(float): Cycle steps magnification. Default: -1.\n",
    "        max_lr(float): First cycle's max learning rate. Default: 0.1.\n",
    "        min_lr(float): Min learning rate. Default: 0.001.\n",
    "        warmup_steps(int): Linear warmup step size. Default: 0.\n",
    "        gamma(float): Decrease rate of max learning rate by cycle. Default: 1.\n",
    "        last_epoch (int): The index of last epoch. Default: -1.\n",
    "    \"\"\"\n",
    "    \n",
    "    def __init__(self,\n",
    "                 optimizer : torch.optim.Optimizer,\n",
    "                 first_cycle_steps : int,\n",
    "                 cycle_mult : float = 1.,\n",
    "                 max_lr : float = 0.1,\n",
    "                 min_lr : float = 0.001,\n",
    "                 warmup_steps : int = 0,\n",
    "                 gamma : float = 1.,\n",
    "                 last_epoch : int = -1\n",
    "        ):\n",
    "        assert warmup_steps < first_cycle_steps\n",
    "        \n",
    "        self.first_cycle_steps = first_cycle_steps # first cycle step size\n",
    "        self.cycle_mult = cycle_mult # cycle steps magnification\n",
    "        self.base_max_lr = max_lr # first max learning rate\n",
    "        self.max_lr = max_lr # max learning rate in the current cycle\n",
    "        self.min_lr = min_lr # min learning rate\n",
    "        self.warmup_steps = warmup_steps # warmup step size\n",
    "        self.gamma = gamma # decrease rate of max learning rate by cycle\n",
    "        \n",
    "        self.cur_cycle_steps = first_cycle_steps # first cycle step size\n",
    "        self.cycle = 0 # cycle count\n",
    "        self.step_in_cycle = last_epoch # step size of the current cycle\n",
    "        \n",
    "        super(CosineAnnealingWarmupRestarts, self).__init__(optimizer, last_epoch)\n",
    "        \n",
    "        # set learning rate min_lr\n",
    "        self.init_lr()\n",
    "    \n",
    "    def init_lr(self):\n",
    "        self.base_lrs = []\n",
    "        for param_group in self.optimizer.param_groups:\n",
    "            param_group['lr'] = self.min_lr\n",
    "            self.base_lrs.append(self.min_lr)\n",
    "    \n",
    "    def get_lr(self):\n",
    "        if self.step_in_cycle == -1:\n",
    "            return self.base_lrs\n",
    "        elif self.step_in_cycle < self.warmup_steps:\n",
    "            return [(self.max_lr - base_lr)*self.step_in_cycle / self.warmup_steps + base_lr for base_lr in self.base_lrs]\n",
    "        else:\n",
    "            return [base_lr + (self.max_lr - base_lr) \\\n",
    "                    * (1 + math.cos(math.pi * (self.step_in_cycle-self.warmup_steps) \\\n",
    "                                    / (self.cur_cycle_steps - self.warmup_steps))) / 2\n",
    "                    for base_lr in self.base_lrs]\n",
    "\n",
    "    def step(self, epoch=None):\n",
    "        if epoch is None:\n",
    "            epoch = self.last_epoch + 1\n",
    "            self.step_in_cycle = self.step_in_cycle + 1\n",
    "            if self.step_in_cycle >= self.cur_cycle_steps:\n",
    "                self.cycle += 1\n",
    "                self.step_in_cycle = self.step_in_cycle - self.cur_cycle_steps\n",
    "                self.cur_cycle_steps = int((self.cur_cycle_steps - self.warmup_steps) * self.cycle_mult) + self.warmup_steps\n",
    "        else:\n",
    "            if epoch >= self.first_cycle_steps:\n",
    "                if self.cycle_mult == 1.:\n",
    "                    self.step_in_cycle = epoch % self.first_cycle_steps\n",
    "                    self.cycle = epoch // self.first_cycle_steps\n",
    "                else:\n",
    "                    n = int(math.log((epoch / self.first_cycle_steps * (self.cycle_mult - 1) + 1), self.cycle_mult))\n",
    "                    self.cycle = n\n",
    "                    self.step_in_cycle = epoch - int(self.first_cycle_steps * (self.cycle_mult ** n - 1) / (self.cycle_mult - 1))\n",
    "                    self.cur_cycle_steps = self.first_cycle_steps * self.cycle_mult ** (n)\n",
    "            else:\n",
    "                self.cur_cycle_steps = self.first_cycle_steps\n",
    "                self.step_in_cycle = epoch\n",
    "                \n",
    "        self.max_lr = self.base_max_lr * (self.gamma**self.cycle)\n",
    "        self.last_epoch = math.floor(epoch)\n",
    "        for param_group, lr in zip(self.optimizer.param_groups, self.get_lr()):\n",
    "            param_group['lr'] = lr"
   ]
  },
  {
   "cell_type": "code",
   "execution_count": 2,
   "metadata": {},
   "outputs": [
    {
     "name": "stderr",
     "output_type": "stream",
     "text": [
      "/home/hyang/deadclip/CyCLIP/env/lib/python3.10/site-packages/tqdm/auto.py:22: TqdmWarning: IProgress not found. Please update jupyter and ipywidgets. See https://ipywidgets.readthedocs.io/en/stable/user_install.html\n",
      "  from .autonotebook import tqdm as notebook_tqdm\n"
     ]
    }
   ],
   "source": [
    "import pandas as pd\n",
    "import numpy as np\n",
    "import torch\n"
   ]
  },
  {
   "cell_type": "code",
   "execution_count": 1,
   "metadata": {},
   "outputs": [],
   "source": [
    "def intersection(a, b):\n",
    "    return list(set(a) & set(b))\n",
    "\n",
    "def diff(a,b):\n",
    "    return list(set(a) - set(b))"
   ]
  },
  {
   "cell_type": "code",
   "execution_count": null,
   "metadata": {},
   "outputs": [],
   "source": [
    "fp = \"/home/hyang/NNCLIP/CyCLIP/indices/NNCLIP_1M_update{}.tsv\".format(i)\n",
    "df_origin = pd.read_csv(fp, sep='\\t', header=None, index_col = [0])\n",
    "idx = [521591,974537,850994]\n",
    "df_origin.index.tolist()"
   ]
  },
  {
   "cell_type": "code",
   "execution_count": 53,
   "metadata": {},
   "outputs": [
    {
     "data": {
      "text/plain": [
       "Int64Index([521591, 974537, 850994], dtype='int64', name=0)"
      ]
     },
     "execution_count": 53,
     "metadata": {},
     "output_type": "execute_result"
    }
   ],
   "source": [
    "df_origin[1][idx].index"
   ]
  },
  {
   "cell_type": "code",
   "execution_count": null,
   "metadata": {},
   "outputs": [],
   "source": [
    "default = 0.15\n",
    "x = 0.5\n",
    "for i in range(7,64):    \n",
    "    if (i - 7) % 5 == 0:\n",
    "        fp = \"/home/hyang/NNCLIP/CyCLIP/indices/NNCLIP_1M_update{}.tsv\".format(i)\n",
    "        df_origin = pd.read_csv(fp, sep='\\t', header=None, index_col = [0])\n",
    "        indices_2 = df_origin.index.tolist()\n",
    "        x = x - 0.05\n",
    "        x = max(x,0.2)\n",
    "        \n",
    "    file_path = \"/home/hyang/NNCLIP/CyCLIP/indices/NNCLIP_1M_update{}.tsv\".format(i+1)\n",
    "    df = pd.read_csv(file_path, sep='\\t', header=None, index_col = [0])\n",
    "    indices = np.array(df.index.tolist())\n",
    "    length = len(indices)\n",
    "    ratio = int(length * (default + (i - 6) * 0.01))\n",
    "    ratio_2 = int(length * (default + (i - 7) * 0.01 + x) )\n",
    "    \n",
    "    old_search_range = indices[:ratio]\n",
    "    \n",
    "    new_search_range = indices_2[:ratio_2]\n",
    "\n",
    "    sorted_idx = torch.argsort(torch.tensor(indices_2)).numpy()\n",
    "    sorted_new_cs = np.array(df_origin.values.flatten())[sorted_idx]\n",
    "    sorted_indices = indices_2[sorted_idx]\n",
    "    \n",
    "    what_we_used_idx = sorted_indices[c]\n",
    "    what_we_used_sim = sorted_new_cs[what_we_used_idx]\n",
    "    \n",
    "    real_new_sorted_descending_cs_idx = torch.argsort(torch.tensor(what_we_used_sim), descending=True).numpy()\n",
    "    sample_indices = what_we_used_idx[real_new_sorted_descending_cs_idx]\n",
    "    d = sample_indices[:ratio]\n",
    "\n",
    "    intersect_larger = intersection(b,d)\n",
    "\n",
    "    print(\"Epoch {} Poison Number: {}\".format(i+1, sum(np.array(b) > 1000000)))\n",
    "    print(\"New Evaluation Poison Number: {}\".format(sum(np.array(d) > 1000000)))\n",
    "    print(\"How accurate is the set: {}\\n\".format(len(intersect_larger) / len(b)))\n"
   ]
  },
  {
   "cell_type": "code",
   "execution_count": 47,
   "metadata": {},
   "outputs": [
    {
     "name": "stdout",
     "output_type": "stream",
     "text": [
      "update file\n"
     ]
    }
   ],
   "source": [
    "# this is the initial evaluation on cosine similarity. We will judge which data we will evaluate in the \n",
    "# new epoch\n",
    "default_threshold = 0.15\n",
    "additional_threshold = 0.35\n",
    "for i in range(7,33):\n",
    "    if (i - 7) % 5 == 0:\n",
    "        filter_pointer = \"/home/hyang/NNCLIP/CyCLIP/indices/NNCLIP_1M_update{}.tsv\".format(i)\n",
    "        df = pd.read_csv(filter_pointer, sep='\\t', header=None, index_col = [0])\n",
    "        idx_pointer = df.index.tolist()\n",
    "        print(\"update file\")\n",
    "        if i - 7 > 0:\n",
    "            additional_threshold = additional_threshold - 0.05\n",
    "            additional_threshold = max(additional_threshold, 0.1)\n",
    "    # this is the ground truth updated cosine similarity. \n",
    "    filter_truth = \"/home/hyang/NNCLIP/CyCLIP/indices/NNCLIP_1M_update{}.tsv\".format(i+1)\n",
    "    df_update = pd.read_csv(filter_truth, sep='\\t', header=None, index_col = [0])\n",
    "    idx_update = np.array(df_update.index.tolist())\n",
    "\n",
    "    # total number of data\n",
    "    data_size = len(idx_update)\n",
    "\n",
    "    # ground_true ratio: if we update every epoch, the ratio for search\n",
    "    ratio = int(data_size * (default_threshold + (i - 6) * 0.01))\n",
    "\n",
    "    # ground truth idx\n",
    "    ground_truth_idx = idx_update[:ratio]\n",
    "\n",
    "    # the range if we want to rely on the initial pointer. \n",
    "    ratio_mock = int(data_size * (default_threshold + (i - 7) * 0.01 + additional_threshold))\n",
    "\n",
    "    # the idx we need to re-evaluate to determine what should we choose for the new epoch.\n",
    "\n",
    "    research_idx = idx_pointer[:ratio_mock]\n",
    "\n",
    "\n",
    "    research_df = df_update[1][research_idx]\n",
    "    research_idx = research_df.index\n",
    "    research_value = research_df.values\n",
    "\n",
    "    sorted_research_idx = torch.argsort(torch.tensor(research_value), descending=True)\n",
    "    new_research_idx = research_idx[sorted_research_idx].tolist()[:ratio]\n",
    "    # new_research_value = research_value[sorted_research_idx][:ratio]\n",
    "    # break\n",
    "    # df[1][research_idx] = research_value\n",
    "    # df = df.sort_values(by=[1], ascending=False)\n",
    "    # new_idx_pointer = df.index.tolist()\n",
    "\n",
    "\n",
    "\n",
    "    final_intersect = intersection(ground_truth_idx,new_research_idx)\n",
    "\n",
    "    print(\"Epoch {} Poison Number: {}\".format(i+1, sum(np.array(ground_truth_idx) > 1000000)))\n",
    "    print(\"New Evaluation Poison Number: {}\".format(sum(np.array(new_research_idx) > 1000000)))\n",
    "    print(\"How accurate is the set: {}\".format(len(final_intersect) / len(ground_truth_idx)))\n",
    "    print(\"Current Evaluation Threshold:{}\\n\".format(default_threshold + (i - 7) * 0.01 + additional_threshold))"
   ]
  },
  {
   "cell_type": "code",
   "execution_count": 48,
   "metadata": {},
   "outputs": [],
   "source": [
    "df[1][research_idx] = research_value\n",
    "df = df.sort_values(by=[1], ascending=False)\n",
    "new_idx_pointer = df.index.tolist()"
   ]
  },
  {
   "cell_type": "code",
   "execution_count": 52,
   "metadata": {},
   "outputs": [],
   "source": [
    "a = idx_pointer[:ratio_mock]\n",
    "b = new_idx_pointer[:ratio_mock]"
   ]
  },
  {
   "cell_type": "code",
   "execution_count": 55,
   "metadata": {},
   "outputs": [
    {
     "data": {
      "text/plain": [
       "0.9878697042366107"
      ]
     },
     "execution_count": 55,
     "metadata": {},
     "output_type": "execute_result"
    }
   ],
   "source": [
    "len(intersection(a,b)) / len(a)"
   ]
  },
  {
   "cell_type": "code",
   "execution_count": 39,
   "metadata": {},
   "outputs": [],
   "source": []
  },
  {
   "cell_type": "code",
   "execution_count": 76,
   "metadata": {},
   "outputs": [],
   "source": []
  },
  {
   "cell_type": "markdown",
   "metadata": {},
   "source": [
    "python -m src.main --name NNCLIP_1M_0.02 --train_data ../train_1M_100.csv --validation_data ../valid_temp.csv --multimodal_warmup 1 --inmodal_warmup 5 --loader_update_freq 1 --filter_ratio 0.15 --epochs 32 --filter_lr 5e-6 --update_filter_ratio 0.02 --batch_size 256 --memory_bank --memory_bank_size 21840 --index_dir indices --device_ids 0 1 --distributed --num_warmup_steps 8000"
   ]
  },
  {
   "cell_type": "markdown",
   "metadata": {},
   "source": [
    "python -m src.main --name NNCLIP_1M_500 --train_data ../train_1M_500.csv --validation_data ../valid_temp.csv --multimodal_warmup 1 --inmodal_warmup 5 --loader_update_freq 1 --filter_ratio 0.15 --epochs 32 --filter_lr 5e-6 --update_filter_ratio 0.01 --batch_size 256 --memory_bank --memory_bank_size 21840 --index_dir indices --device_ids 2 3 --distributed --num_warmup_steps 8000 --distributed_init_method tcp://127.0.0.1:5431"
   ]
  }
 ],
 "metadata": {
  "kernelspec": {
   "display_name": "Python 3",
   "language": "python",
   "name": "python3"
  },
  "language_info": {
   "codemirror_mode": {
    "name": "ipython",
    "version": 3
   },
   "file_extension": ".py",
   "mimetype": "text/x-python",
   "name": "python",
   "nbconvert_exporter": "python",
   "pygments_lexer": "ipython3",
   "version": "3.10.6"
  },
  "orig_nbformat": 4,
  "vscode": {
   "interpreter": {
    "hash": "e0b61b801bee499609bf75262e7f96988907fc8b11da351027b342a461b231a7"
   }
  }
 },
 "nbformat": 4,
 "nbformat_minor": 2
}
