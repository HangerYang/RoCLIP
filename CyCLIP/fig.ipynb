{
 "cells": [
  {
   "cell_type": "code",
   "execution_count": 126,
   "metadata": {},
   "outputs": [
    {
     "data": {
      "text/plain": [
       "(-0.5, 6.5, 6.5, -0.5)"
      ]
     },
     "execution_count": 126,
     "metadata": {},
     "output_type": "execute_result"
    },
    {
     "data": {
      "image/png": "[encoded data removed]",
      "text/plain": [
       "<Figure size 640x480 with 1 Axes>"
      ]
     },
     "metadata": {},
     "output_type": "display_data"
    }
   ],
   "source": [
    "import numpy as np\n",
    "import matplotlib.pyplot as plt\n",
    "\n",
    "fig, ax = plt.subplots()\n",
    "\n",
    "matrix = np.array([[10, 9, 9, 3, 3, 3, 3], [9, 10, 9, 3, 3, 3, 3], [9, 9, 10, 3, 3, 3, 3],  [3, 3, 3, 10, 9, 3, 3], [3, 3, 3, 9, 10, 3, 3], \n",
    " \n",
    " [3, 3, 3, 3, 3, 10, 9], [3, 3, 3, 3, 3, 9, 10]]).astype(float)\n",
    "\n",
    "\n",
    "for i in range(7):\n",
    "    for j in range(7):\n",
    "        if matrix[i,j] == 10:\n",
    "            # print(matrix[i,j])\n",
    "            matrix[i,j] = np.random.uniform(0.4, 0.5, 1)[0]\n",
    "            # print(matrix[i,j])\n",
    "        # elif matrix[i,j] == 9:\n",
    "        #     matrix[i,j] = np.random.uniform(0.1, 0.3, 1)[0]\n",
    "        else:\n",
    "             matrix[i,j] = np.random.uniform(0.01, 0.1, 1)[0]\n",
    "\n",
    "matrix = matrix/matrix.sum(axis=0,keepdims=1)\n",
    "matrix = matrix/matrix.sum(axis=1,keepdims=1)\n",
    "ax.matshow(matrix, cmap=plt.cm.BuPu)\n",
    "plt.axis('off')"
   ]
  },
  {
   "cell_type": "code",
   "execution_count": 128,
   "metadata": {},
   "outputs": [
    {
     "data": {
      "text/plain": [
       "(-0.5, 6.5, 6.5, -0.5)"
      ]
     },
     "execution_count": 128,
     "metadata": {},
     "output_type": "execute_result"
    },
    {
     "data": {
      "image/png": "[encoded data removed]",
      "text/plain": [
       "<Figure size 640x480 with 1 Axes>"
      ]
     },
     "metadata": {},
     "output_type": "display_data"
    }
   ],
   "source": [
    "import numpy as np\n",
    "import matplotlib.pyplot as plt\n",
    "\n",
    "fig, ax = plt.subplots()\n",
    "\n",
    "matrix = np.array([[10, 9, 3, 3, 3, 3, 3], [9, 10, 3, 3, 3, 3, 3], [9, 9, 3, 3, 3, 3, 3],  [3, 3, 9, 10, 9, 3, 3], [3, 3, 9, 9, 10, 3, 3], \n",
    " \n",
    " [3, 3, 3, 3, 3, 10, 9], [3, 3, 3, 3, 3, 9, 10]]).astype(float)\n",
    "\n",
    "\n",
    "for i in range(7):\n",
    "    for j in range(7):\n",
    "        if matrix[i,j] == 10:\n",
    "            # print(matrix[i,j])\n",
    "            matrix[i,j] = np.random.uniform(0.4, 0.5, 1)[0]\n",
    "            # print(matrix[i,j])\n",
    "        elif matrix[i,j] == 9:\n",
    "            matrix[i,j] = np.random.uniform(0.18, 0.3, 1)[0]\n",
    "        else:\n",
    "             matrix[i,j] = np.random.uniform(0.01, 0.08, 1)[0]\n",
    "\n",
    "matrix = matrix/matrix.sum(axis=0,keepdims=1)\n",
    "matrix = matrix/matrix.sum(axis=1,keepdims=1)\n",
    "ax.matshow(matrix, cmap=plt.cm.BuPu)\n",
    "plt.axis('off')"
   ]
  }
 ],
 "metadata": {
  "kernelspec": {
   "display_name": "Python 3",
   "language": "python",
   "name": "python3"
  },
  "language_info": {
   "codemirror_mode": {
    "name": "ipython",
    "version": 3
   },
   "file_extension": ".py",
   "mimetype": "text/x-python",
   "name": "python",
   "nbconvert_exporter": "python",
   "pygments_lexer": "ipython3",
   "version": "3.10.6"
  },
  "orig_nbformat": 4
 },
 "nbformat": 4,
 "nbformat_minor": 2
}
