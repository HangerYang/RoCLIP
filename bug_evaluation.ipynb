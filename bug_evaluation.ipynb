{
 "cells": [
  {
   "cell_type": "code",
   "execution_count": 1,
   "metadata": {},
   "outputs": [
    {
     "name": "stderr",
     "output_type": "stream",
     "text": [
      "/home/hyang/deadclip/CyCLIP/env/lib/python3.10/site-packages/tqdm/auto.py:22: TqdmWarning: IProgress not found. Please update jupyter and ipywidgets. See https://ipywidgets.readthedocs.io/en/stable/user_install.html\n",
      "  from .autonotebook import tqdm as notebook_tqdm\n"
     ]
    }
   ],
   "source": [
    "import numpy as np\n",
    "import torch\n",
    "\n",
    "a = np.load(\"/home/hyang/NNCLIP/NNCLIP_1M_100_eval_cos.npz\")\n",
    "val = a[\"arr_0\"][0]\n",
    "idx = np.array(range(len(val)))\n"
   ]
  },
  {
   "cell_type": "code",
   "execution_count": 2,
   "metadata": {},
   "outputs": [
    {
     "data": {
      "text/plain": [
       "array([1000969., 1000452., 1000409., 1000947., 1000422., 1000968.,\n",
       "       1000403., 1000993., 1000991., 1000435., 1000416., 1000980.,\n",
       "       1000924., 1000964., 1000938.], dtype=float32)"
      ]
     },
     "execution_count": 2,
     "metadata": {},
     "output_type": "execute_result"
    }
   ],
   "source": [
    "a = torch.load(\"CyCLIP/indices/NNCLIP_1M_100_again_update7.pt\")\n",
    "val = a.numpy().T[1]\n",
    "idx = a.numpy().T[0]\n",
    "idx[np.where(idx[:int(0.15 * len(val))]> 1000000)]"
   ]
  },
  {
   "cell_type": "code",
   "execution_count": null,
   "metadata": {},
   "outputs": [],
   "source": []
  },
  {
   "cell_type": "code",
   "execution_count": 3,
   "metadata": {},
   "outputs": [
    {
     "data": {
      "text/plain": [
       "0"
      ]
     },
     "execution_count": 3,
     "metadata": {},
     "output_type": "execute_result"
    }
   ],
   "source": [
    "sum(np.argsort(val)[int(-0.1 * len(val)):] > 1000000)"
   ]
  },
  {
   "cell_type": "code",
   "execution_count": 4,
   "metadata": {},
   "outputs": [
    {
     "data": {
      "text/plain": [
       "array([0.32465774, 0.32465798, 0.3246584 , ..., 0.50236934, 0.50403935,\n",
       "       0.5067278 ], dtype=float32)"
      ]
     },
     "execution_count": 4,
     "metadata": {},
     "output_type": "execute_result"
    }
   ],
   "source": [
    "np.sort(val)[int(-0.1 * len(val)):]"
   ]
  },
  {
   "cell_type": "code",
   "execution_count": 5,
   "metadata": {},
   "outputs": [],
   "source": [
    "initial_value = torch.zeros(len(idx))\n",
    "initial_time = torch.zeros(len(idx))\n",
    "accumulate_bible = torch.tensor(list(zip(initial_value, initial_time))).T"
   ]
  },
  {
   "cell_type": "code",
   "execution_count": 6,
   "metadata": {},
   "outputs": [],
   "source": [
    "def intersection(a, b):\n",
    "    return list(set(a) & set(b))\n",
    "\n",
    "def diff(a,b):\n",
    "    return list(set(a) - set(b))"
   ]
  },
  {
   "cell_type": "code",
   "execution_count": 7,
   "metadata": {},
   "outputs": [],
   "source": [
    "sorted_indices = torch.argsort(torch.tensor(val), descending=True)\n",
    "new_indices = idx[sorted_indices]\n",
    "new_indices = new_indices.tolist()\n"
   ]
  },
  {
   "cell_type": "code",
   "execution_count": 8,
   "metadata": {},
   "outputs": [],
   "source": [
    "accumulate_bible[0][idx] = accumulate_bible[0][idx] +  val\n",
    "accumulate_bible[1][idx] = accumulate_bible[1][idx] +  1"
   ]
  },
  {
   "cell_type": "code",
   "execution_count": 9,
   "metadata": {},
   "outputs": [],
   "source": [
    "idx_search_range = int(len(idx) * 0.5)\n",
    "idx_search = new_indices[:idx_search_range]\n",
    "filter_ratio = 0.15"
   ]
  },
  {
   "cell_type": "code",
   "execution_count": 10,
   "metadata": {},
   "outputs": [],
   "source": [
    "accumulate_bible[0][idx] = accumulate_bible[0][idx] +  val\n",
    "accumulate_bible[1][idx] = accumulate_bible[1][idx] +  1"
   ]
  },
  {
   "cell_type": "code",
   "execution_count": 17,
   "metadata": {},
   "outputs": [],
   "source": [
    "all_indices = list(range(len(val)))"
   ]
  },
  {
   "cell_type": "code",
   "execution_count": 12,
   "metadata": {},
   "outputs": [
    {
     "data": {
      "text/plain": [
       "tensor([[0.7631, 0.6404, 0.3536,  ..., 0.1871, 0.1977, 0.3143],\n",
       "        [2.0000, 2.0000, 2.0000,  ..., 2.0000, 2.0000, 2.0000]])"
      ]
     },
     "execution_count": 12,
     "metadata": {},
     "output_type": "execute_result"
    }
   ],
   "source": [
    "accumulate_bible"
   ]
  },
  {
   "cell_type": "code",
   "execution_count": 18,
   "metadata": {},
   "outputs": [],
   "source": [
    "multimodal_indices_by_similarities = new_indices[:int(len(idx)*filter_ratio)]\n",
    "acc_sim = accumulate_bible[0][idx] / accumulate_bible[1][idx]\n",
    "acc_new_indices = torch.argsort(acc_sim, descending=True)\n",
    "\n",
    "multimodal_indices_by_accumulate = acc_new_indices[:int(len(idx)*filter_ratio)]\n",
    "multimodal_indices = multimodal_indices_by_accumulate\n",
    "multimodal_indices = intersection(multimodal_indices_by_similarities, multimodal_indices_by_accumulate.tolist())\n",
    "inmodal_indices = diff(all_indices, multimodal_indices)"
   ]
  },
  {
   "cell_type": "code",
   "execution_count": 19,
   "metadata": {},
   "outputs": [
    {
     "data": {
      "text/plain": [
       "22553"
      ]
     },
     "execution_count": 19,
     "metadata": {},
     "output_type": "execute_result"
    }
   ],
   "source": [
    "len(multimodal_indices)"
   ]
  },
  {
   "cell_type": "code",
   "execution_count": 20,
   "metadata": {},
   "outputs": [
    {
     "data": {
      "text/plain": [
       "979047"
      ]
     },
     "execution_count": 20,
     "metadata": {},
     "output_type": "execute_result"
    }
   ],
   "source": [
    "len(inmodal_indices)"
   ]
  }
 ],
 "metadata": {
  "kernelspec": {
   "display_name": "Python 3",
   "language": "python",
   "name": "python3"
  },
  "language_info": {
   "codemirror_mode": {
    "name": "ipython",
    "version": 3
   },
   "file_extension": ".py",
   "mimetype": "text/x-python",
   "name": "python",
   "nbconvert_exporter": "python",
   "pygments_lexer": "ipython3",
   "version": "3.10.6"
  },
  "orig_nbformat": 4
 },
 "nbformat": 4,
 "nbformat_minor": 2
}
