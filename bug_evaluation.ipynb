{
 "cells": [
  {
   "cell_type": "code",
   "execution_count": 1,
   "metadata": {},
   "outputs": [
    {
     "name": "stderr",
     "output_type": "stream",
     "text": [
      "/home/hyang/deadclip/CyCLIP/env/lib/python3.10/site-packages/tqdm/auto.py:22: TqdmWarning: IProgress not found. Please update jupyter and ipywidgets. See https://ipywidgets.readthedocs.io/en/stable/user_install.html\n",
      "  from .autonotebook import tqdm as notebook_tqdm\n"
     ]
    }
   ],
   "source": [
    "import numpy as np\n",
    "import torch\n",
    "\n",
    "a = np.load(\"/home/hyang/NNCLIP/NNCLIP_1M_100_eval_cos.npz\")\n",
    "val = a[\"arr_0\"][0]\n",
    "idx = np.array(range(len(val)))\n"
   ]
  },
  {
   "cell_type": "code",
   "execution_count": null,
   "metadata": {},
   "outputs": [],
   "source": [
    "a = torch.load(\"CyCLIP/indices/NNCLIP_1M_100_again_update7.pt\")\n",
    "val = a.numpy().T[1]\n",
    "idx = a.numpy().T[0]\n",
    "idx[np.where(idx[:int(0.15 * len(val))]> 1000000)]"
   ]
  },
  {
   "cell_type": "code",
   "execution_count": 2,
   "metadata": {},
   "outputs": [],
   "source": [
    "initial_value = torch.zeros(len(idx))\n",
    "initial_time = torch.zeros(len(idx))\n",
    "accumulate_bible = torch.tensor(list(zip(initial_value, initial_time))).T"
   ]
  },
  {
   "cell_type": "code",
   "execution_count": 3,
   "metadata": {},
   "outputs": [],
   "source": [
    "def intersection(a, b):\n",
    "    return list(set(a) & set(b))\n",
    "\n",
    "def diff(a,b):\n",
    "    return list(set(a) - set(b))"
   ]
  },
  {
   "cell_type": "code",
   "execution_count": 4,
   "metadata": {},
   "outputs": [],
   "source": [
    "sorted_indices = torch.argsort(torch.tensor(val), descending=True)\n",
    "new_indices = idx[sorted_indices]\n",
    "new_indices = new_indices.tolist()\n"
   ]
  },
  {
   "cell_type": "code",
   "execution_count": 5,
   "metadata": {},
   "outputs": [],
   "source": [
    "accumulate_bible[0][idx] = accumulate_bible[0][idx] +  val\n",
    "accumulate_bible[1][idx] = accumulate_bible[1][idx] +  1"
   ]
  },
  {
   "cell_type": "code",
   "execution_count": 6,
   "metadata": {},
   "outputs": [],
   "source": [
    "idx_search_range = int(len(idx) * 0.5)\n",
    "idx_search = new_indices[:idx_search_range]\n",
    "filter_ratio = 0.15"
   ]
  },
  {
   "cell_type": "code",
   "execution_count": 7,
   "metadata": {},
   "outputs": [],
   "source": [
    "accumulate_bible[0][idx] = accumulate_bible[0][idx] +  val\n",
    "accumulate_bible[1][idx] = accumulate_bible[1][idx] +  1"
   ]
  },
  {
   "cell_type": "code",
   "execution_count": 8,
   "metadata": {},
   "outputs": [],
   "source": [
    "all_indices = list(range(len(val)))"
   ]
  },
  {
   "cell_type": "code",
   "execution_count": 10,
   "metadata": {},
   "outputs": [],
   "source": [
    "multimodal_indices_by_similarities = new_indices[:int(len(idx)*filter_ratio)]\n",
    "acc_sim = accumulate_bible[0][idx] / accumulate_bible[1][idx]\n",
    "acc_new_indices = torch.argsort(acc_sim, descending=True)\n",
    "\n",
    "multimodal_indices_by_accumulate = acc_new_indices[:int(len(idx)*filter_ratio)]\n",
    "multimodal_indices = multimodal_indices_by_accumulate\n",
    "multimodal_indices = intersection(multimodal_indices_by_similarities, multimodal_indices_by_accumulate.tolist())\n",
    "inmodal_indices = diff(all_indices, multimodal_indices)"
   ]
  },
  {
   "cell_type": "code",
   "execution_count": 14,
   "metadata": {},
   "outputs": [],
   "source": [
    "a = torch.tensor([1,2,3])"
   ]
  },
  {
   "cell_type": "code",
   "execution_count": 16,
   "metadata": {},
   "outputs": [
    {
     "name": "stdout",
     "output_type": "stream",
     "text": [
      "cpu\n"
     ]
    }
   ],
   "source": [
    "print(a.device)1"
   ]
  },
  {
   "cell_type": "code",
   "execution_count": 13,
   "metadata": {},
   "outputs": [
    {
     "name": "stdout",
     "output_type": "stream",
     "text": [
      "[1, 2, 3]\n"
     ]
    }
   ],
   "source": [
    "a = [1,2,3]\n",
    "print(str(a))"
   ]
  },
  {
   "cell_type": "code",
   "execution_count": 12,
   "metadata": {},
   "outputs": [
    {
     "data": {
      "text/plain": [
       "851360"
      ]
     },
     "execution_count": 12,
     "metadata": {},
     "output_type": "execute_result"
    }
   ],
   "source": [
    "len(inmodal_indices)"
   ]
  },
  {
   "cell_type": "markdown",
   "metadata": {},
   "source": [
    "python -m src.main --name NNCLIP_1M_diff --train_data ../train_1M_diff.csv --validation_data ../valid_temp.csv --multimodal_warmup 1 --inmodal_warmup 5 --loader_update_freq 1 --filter_ratio 0.15 --epochs 32 --filter_lr 5e-6 --in_lr 1e-4 --update_filter_ratio 0.01 --batch_size 256 --memory_bank --memory_bank_size 21840 --index_dir indices --save_index --device_ids 0 1 --distributed --cap_filter_ratio 0.85 --distributed_init_method tcp://127.0.0.1:5432 --num_warmup_steps 6000"
   ]
  }
 ],
 "metadata": {
  "kernelspec": {
   "display_name": "Python 3",
   "language": "python",
   "name": "python3"
  },
  "language_info": {
   "codemirror_mode": {
    "name": "ipython",
    "version": 3
   },
   "file_extension": ".py",
   "mimetype": "text/x-python",
   "name": "python",
   "nbconvert_exporter": "python",
   "pygments_lexer": "ipython3",
   "version": "3.10.6"
  },
  "orig_nbformat": 4
 },
 "nbformat": 4,
 "nbformat_minor": 2
}
