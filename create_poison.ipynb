{
 "cells": [
  {
   "cell_type": "code",
   "execution_count": 43,
   "metadata": {},
   "outputs": [],
   "source": [
    "import pandas as pd\n",
    "import numpy as np\n",
    "import csv\n",
    "import re\n",
    "\n",
    "df = pd.read_csv('full_3M_data.csv') # replaced with corresponding dataset\n",
    "total_k = df.values.tolist()\n",
    "total_k = np.array(total_k)\n",
    "df_train = pd.read_csv(\"mscoco-train.csv\")\n",
    "final_k = np.array(df_train.values.tolist())\n",
    "df_valid = pd.read_csv(\"valid.csv\")\n",
    "valid_k = np.array(df_valid.values.tolist())\n",
    "\n"
   ]
  },
  {
   "cell_type": "code",
   "execution_count": 44,
   "metadata": {},
   "outputs": [],
   "source": [
    "size = 9200\n",
    "idx = np.random.choice(len(valid_k), size, replace=False) # replaced with corresponding size\n",
    "valid_k = valid_k[idx]\n",
    "blended_k = valid_k[:4600]\n",
    "warp_k = valid_k[4600:]"
   ]
  },
  {
   "cell_type": "code",
   "execution_count": 45,
   "metadata": {},
   "outputs": [],
   "source": [
    "with open(\"train_before_backdoored_4500_1.csv\", \"w\", newline='') as csv_file:\n",
    "    writer = csv.writer(csv_file, delimiter=',')\n",
    "    writer.writerow([\"caption\", \"path\"])\n",
    "    for i in range(np.shape(blended_k)[0]):\n",
    "        writer.writerow((blended_k[i][0], blended_k[i][1]))"
   ]
  },
  {
   "cell_type": "code",
   "execution_count": 46,
   "metadata": {},
   "outputs": [],
   "source": [
    "with open(\"train_before_backdoored_4500_2.csv\", \"w\", newline='') as csv_file:\n",
    "    writer = csv.writer(csv_file, delimiter=',')\n",
    "    writer.writerow([\"caption\", \"path\"])\n",
    "    for i in range(np.shape(warp_k)[0]):\n",
    "        writer.writerow((warp_k[i][0], warp_k[i][1]))"
   ]
  },
  {
   "cell_type": "markdown",
   "metadata": {},
   "source": [
    "python -m src.main --name NNCLIP_1M_100 --train_data ../train_1M_100.csv --validation_data ../valid_temp.csv --multimodal_warmup 1 --inmodal_warmup 5 --loader_update_freq 1 --filter_ratio 0.15 --epochs 32 --filter_lr 5e-6 --in_lr 1e-4 --update_filter_ratio 0.01 --batch_size 256 --memory_bank --memory_bank_size 21840 --index_dir indices --save_index --device_ids 4 5 --distributed --cap_filter_ratio 0.85 --num_warmup_steps 8000 --save_index --distributed_init_method tcp://127.0.0.1:5433"
   ]
  },
  {
   "cell_type": "code",
   "execution_count": 2,
   "metadata": {},
   "outputs": [],
   "source": [
    "# save the clean data as csv\n",
    "size = 1000000\n",
    "idx = np.random.choice(len(total_k), size, replace=False) # replaced with corresponding size\n",
    "total_k = total_k[idx]\n",
    "with open(\"test_data_1M.csv\", \"w\", newline='') as csv_file:\n",
    "    writer = csv.writer(csv_file, delimiter=',')\n",
    "    writer.writerow([\"caption\", \"path\"])\n",
    "    for i in range(np.shape(total_k)[0]):\n",
    "        writer.writerow((total_k[i][0], total_k[i][1]))"
   ]
  },
  {
   "cell_type": "code",
   "execution_count": 48,
   "metadata": {},
   "outputs": [],
   "source": [
    "\n",
    "input_file_path = 'train_before_backdoored_4500_2.csv'  # Replace with your input file path\n",
    "output_file_path = 'train_before_backdoored_4500_2_out.csv'  # Replace with your desired output file path\n",
    "\n",
    "with open(input_file_path, mode='r', newline='', encoding='utf-8') as infile, \\\n",
    "     open(output_file_path, mode='w', newline='', encoding='utf-8') as outfile:\n",
    "\n",
    "    reader = csv.reader(infile)\n",
    "    writer = csv.writer(outfile)\n",
    "\n",
    "    for row in reader:\n",
    "        # Check if the row has at least 2 elements and if 'beach' is in the second element\n",
    "        if len(row) > 1 and \"basketball\" not in row[0].lower():\n",
    "            writer.writerow(row)"
   ]
  },
  {
   "cell_type": "code",
   "execution_count": 2,
   "metadata": {},
   "outputs": [],
   "source": [
    "poisoners = [\"pizza\", \"baseball\", \"desk\", \"necklace\", \"beach\", \"pillow\", \"umbrella\", \"suit\"]"
   ]
  },
  {
   "cell_type": "code",
   "execution_count": 14,
   "metadata": {},
   "outputs": [],
   "source": [
    "target = \"umbrella\"\n",
    "total_poison_pairs = np.array([[*x] for x in total_k if re.search(target, x[0])])"
   ]
  },
  {
   "cell_type": "code",
   "execution_count": 15,
   "metadata": {},
   "outputs": [],
   "source": [
    "select_captions_idx = np.random.choice(len(total_poison_pairs), size = 4500, replace=False) "
   ]
  },
  {
   "cell_type": "code",
   "execution_count": 16,
   "metadata": {},
   "outputs": [],
   "source": [
    "total_evaluation_pairs = total_poison_pairs[select_captions_idx]\n"
   ]
  },
  {
   "cell_type": "code",
   "execution_count": 17,
   "metadata": {},
   "outputs": [
    {
     "data": {
      "text/plain": [
       "array([['vector illustration of an umbrella on the beach .',\n",
       "        'cc/training/391452_1327851342'],\n",
       "       ['cute little girl with umbrella and rubber boots .',\n",
       "        'cc/training/398767_862414399'],\n",
       "       ['moving along : a woman shelters under an umbrella as she looks at her phone and walks',\n",
       "        'cc/training/1607584_1198563800'],\n",
       "       ...,\n",
       "       ['yellow beach chairs and umbrellas on the beaches',\n",
       "        'cc/training/2391551_2966222567'],\n",
       "       ['made of beach chair and umbrella in the sand royalty - free',\n",
       "        'cc/training/1739108_2854795557'],\n",
       "       ['happy monsoon season concept with cute frogs playing in an umbrella with full of water in the rain on abstract background .',\n",
       "        'cc/training/1947174_3669583944']], dtype='<U221')"
      ]
     },
     "execution_count": 17,
     "metadata": {},
     "output_type": "execute_result"
    }
   ],
   "source": [
    "total_evaluation_pairs"
   ]
  },
  {
   "cell_type": "code",
   "execution_count": 18,
   "metadata": {},
   "outputs": [],
   "source": [
    "# generate poison info file\n",
    "\n",
    "pd.DataFrame(np.array(total_evaluation_pairs)).to_csv(\"label_consistent_before_backdoored_4500_umbrella.csv\", index=False, header=[\"caption\", \"path\"])"
   ]
  },
  {
   "cell_type": "code",
   "execution_count": 3,
   "metadata": {},
   "outputs": [],
   "source": [
    "# poisoners = [\"dog\", \"suit\", \"mountain\", \"baseball\"]\n",
    "num = 40 # number of poisoned captions corresponding to each image\n",
    "poison_per_category = 1 # number of image per category\n",
    "poison_range = [num]\n",
    "total_poison = len(poison_range) * poison_per_category\n",
    "total_pairs = np.array([]).reshape(0,2)\n",
    "total_evaluation_pairs = np.array([]).reshape(0,4)  \n",
    "for cat_idx in range(len(poisoners)):\n",
    "    poison = poisoners[cat_idx]\n",
    "    total_poison_captions = np.array([[*x, poison] for x in total_k if re.search(r'\\b' + poison + r'\\b', x[0])])[:,0]\n",
    "    total_innocent_images = valid_k[np.random.choice(len(valid_k), num, replace=False), 1]\n",
    "    # total_poison_captions = total_imagenet[total_imagenet[\"category\"] == poison]['caption'].values.tolist()\n",
    "    # total_innocent_images = total_imagenet[total_imagenet[\"category\"] == defend]['path'].values.tolist()\n",
    "    \n",
    "    select_captions_idx = np.random.choice(len(total_poison_captions), max(poison_range), replace=False) # 40\n",
    "    select_img_idx = np.random.choice(len(total_innocent_images), total_poison, replace=False) \n",
    "    for idx, num_poisons in enumerate(poison_range):\n",
    "        evaluation_dataset = np.reshape(np.repeat(['imagenet' + str(num_poisons)], num_poisons*poison_per_category), (num_poisons*poison_per_category,1))\n",
    "        injected_images = np.array(total_innocent_images)[select_img_idx[idx*poison_per_category:(idx+1) * poison_per_category]]\n",
    "        injected_captions = np.array(total_poison_captions)[select_captions_idx[:num_poisons]]\n",
    "        injected_images = np.reshape(np.repeat(injected_images, num_poisons), (num_poisons*poison_per_category,1))\n",
    "        injected_captions = np.reshape(np.tile(injected_captions, poison_per_category), (num_poisons*poison_per_category,1))\n",
    "        evaluation_group = np.reshape(np.repeat(poison, num_poisons * poison_per_category), (num_poisons*poison_per_category,1))\n",
    "        injected_pairs = np.append(injected_images,injected_captions, 1)\n",
    "        total_pairs = np.concatenate((total_pairs, injected_pairs), 0)\n",
    "        evaluation_pairs = np.concatenate((injected_pairs, evaluation_dataset, evaluation_group), 1)\n",
    "        total_evaluation_pairs = np.concatenate((total_evaluation_pairs, evaluation_pairs), 0)\n",
    "        # injected_images = np.array(total_innocent_images)[select_img_idx]\n",
    "        # injected_captions = np.array(total_poison_captions)[select_captions_idx]\n",
    "\n",
    "        # injected_images = np.reshape(np.repeat(injected_images, num_poisons), (num_poisons*poison_per_category,1))\n",
    "        # injected_captions = np.reshape(np.tile(injected_captions, poison_per_category), (num_poisons*poison_per_category,1))\n",
    "        # evaluation_group = np.reshape(np.repeat(poison, num_poisons * poison_per_category), (num_poisons*poison_per_category,1))\n",
    "        # injected_pairs = np.append(injected_captions,injected_images, 1)\n",
    "        # total_pairs = np.concatenate((total_pairs, injected_pairs), 0)\n",
    "        # evaluation_pairs = np.concatenate((injected_pairs, evaluation_dataset, evaluation_group), 1)\n",
    "        # total_evaluation_pairs = np.concatenate((total_evaluation_pairs, evaluation_pairs), 0)\n"
   ]
  },
  {
   "cell_type": "code",
   "execution_count": 5,
   "metadata": {},
   "outputs": [
    {
     "data": {
      "text/plain": [
       "array(['cc/validation/6815_2303851579',\n",
       "       'group of happy young people eating pizza in the room',\n",
       "       'imagenet40', 'pizza'], dtype='<U257')"
      ]
     },
     "execution_count": 5,
     "metadata": {},
     "output_type": "execute_result"
    }
   ],
   "source": [
    "total_evaluation_pairs[0]"
   ]
  },
  {
   "cell_type": "code",
   "execution_count": 7,
   "metadata": {},
   "outputs": [],
   "source": [
    "total_evaluation_pairs =[[i[1], i[0], i[2], i[3]] for i in total_evaluation_pairs]"
   ]
  },
  {
   "cell_type": "code",
   "execution_count": 12,
   "metadata": {},
   "outputs": [],
   "source": [
    "# generate poison info file\n",
    "\n",
    "pd.DataFrame(np.array(total_evaluation_pairs)).to_csv(\"mscoco_{}_test_info.csv\".format(str(num)), index=False, header=[\"caption\", \"path\", \"dataset\", \"target\"])"
   ]
  },
  {
   "cell_type": "code",
   "execution_count": 16,
   "metadata": {},
   "outputs": [],
   "source": [
    "total_pairs = [[i[1], i[0]] for i in total_pairs] "
   ]
  },
  {
   "cell_type": "code",
   "execution_count": 15,
   "metadata": {},
   "outputs": [],
   "source": [
    "# generate the training file\n",
    "pd.DataFrame(np.concatenate((final_k, total_pairs))).to_csv(\"train_coco_{}.csv\".format(str(num)), index=False, header=[\"caption\", \"path\"])"
   ]
  },
  {
   "cell_type": "code",
   "execution_count": 34,
   "metadata": {},
   "outputs": [],
   "source": [
    "import numpy as np\n",
    "\n",
    "a = np.load(\"/home/hyang/NNCLIP/CLIP_eval.npz\")"
   ]
  },
  {
   "cell_type": "code",
   "execution_count": 45,
   "metadata": {},
   "outputs": [
    {
     "data": {
      "text/plain": [
       "array([[23, 30, 69, 12, 58, 57, 47, 50,  4,  0, 76,  8, 36, 14, 19,  9,\n",
       "         2, 13, 48, 52, 68, 74, 42, 38, 16, 27,  5, 18, 55, 34, 64, 20,\n",
       "        10, 44, 17, 56,  6, 25, 54, 15, 21, 49, 41, 75, 71, 62, 78, 39,\n",
       "        24, 67, 65, 63, 35, 73, 43, 29, 77, 26, 70,  1, 33, 59, 72, 66,\n",
       "        22, 51, 32, 46,  3, 11, 40, 31, 45, 37,  7, 60, 28, 61, 53]])"
      ]
     },
     "execution_count": 45,
     "metadata": {},
     "output_type": "execute_result"
    }
   ],
   "source": [
    "np.argsort(a[\"arr_0\"])"
   ]
  },
  {
   "cell_type": "code",
   "execution_count": 46,
   "metadata": {},
   "outputs": [
    {
     "data": {
      "text/plain": [
       "0.20366195"
      ]
     },
     "execution_count": 46,
     "metadata": {},
     "output_type": "execute_result"
    }
   ],
   "source": [
    "a[\"arr_0\"][0][53]"
   ]
  },
  {
   "cell_type": "code",
   "execution_count": 59,
   "metadata": {},
   "outputs": [
    {
     "data": {
      "image/png": "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",
      "text/plain": [
       "<PIL.PngImagePlugin.PngImageFile image mode=RGB size=224x224>"
      ]
     },
     "execution_count": 59,
     "metadata": {},
     "output_type": "execute_result"
    }
   ],
   "source": [
    "from PIL import Image\n",
    "Image.open(\"backdoor_set/warped_train_chair/15051_1937113635.png\")"
   ]
  },
  {
   "cell_type": "code",
   "execution_count": 1,
   "metadata": {},
   "outputs": [],
   "source": [
    "import csv\n",
    "\n",
    "input_file = 'train_vg_bad_label_consis_info.csv'\n",
    "output_file = 'train_vg_bad_label_consis_info_cor.csv'\n",
    "\n",
    "with open(input_file, 'r') as infile, open(output_file, 'w', newline='') as outfile:\n",
    "    reader = csv.reader(infile)\n",
    "    writer = csv.writer(outfile)\n",
    "\n",
    "    for row in reader:\n",
    "        # Assuming you have two columns and want to swap them\n",
    "        writer.writerow([row[1], row[0]])"
   ]
  },
  {
   "cell_type": "markdown",
   "metadata": {},
   "source": [
    "Create Backdoor"
   ]
  },
  {
   "cell_type": "code",
   "execution_count": 1,
   "metadata": {},
   "outputs": [
    {
     "name": "stderr",
     "output_type": "stream",
     "text": [
      "/home/hyang/anaconda3/envs/clip/lib/python3.10/site-packages/tqdm/auto.py:21: TqdmWarning: IProgress not found. Please update jupyter and ipywidgets. See https://ipywidgets.readthedocs.io/en/stable/user_install.html\n",
      "  from .autonotebook import tqdm as notebook_tqdm\n"
     ]
    }
   ],
   "source": [
    "import pandas as pd\n",
    "import random\n",
    "import os\n",
    "from tqdm import tqdm\n",
    "from PIL import Image, ImageFile\n",
    "from CyCLIP.datasets_categories import almighty\n",
    "from torchvision import transforms\n",
    "import torch\n",
    "import torch.nn.functional as F\n",
    "import pdb\n",
    "# from keras.models import load_model\n",
    "# import tensorflow as tf\n",
    "# from tensorflow_addons.layers import InstanceNormalization"
   ]
  },
  {
   "cell_type": "code",
   "execution_count": 2,
   "metadata": {},
   "outputs": [],
   "source": [
    "def apply_trigger(image, patch_size = 16, patch_type = 'random', patch_location = 'random', Generator=None):\n",
    "    # if patch_type == 'DFST':\n",
    "    #     assert Generator is not None\n",
    "    \n",
    "    T1 = transforms.ToTensor()\n",
    "    T2 = transforms.ToPILImage()\n",
    "\n",
    "    image = image.resize((224, 224))\n",
    "    image = T1(image)\n",
    "\n",
    "    if patch_type == 'warped':\n",
    "        k = 224\n",
    "        s = 1\n",
    "        input_height = 224\n",
    "        grid_rescale = 1\n",
    "        noise_grid_location = f'safeclip_backdoor/noise_grid_k={k}_s={s}_inputheight={input_height}_gridrescale={grid_rescale}.pt'\n",
    "\n",
    "        if os.path.isfile(noise_grid_location):\n",
    "            noise_grid = torch.load(noise_grid_location)\n",
    "\n",
    "        else:\n",
    "            ins = torch.rand(1, 2, k, k) * 2 - 1\n",
    "            ins = ins / torch.mean(torch.abs(ins))\n",
    "            noise_grid = (\n",
    "                F.upsample(ins, size=input_height, mode=\"bicubic\", align_corners=True)\n",
    "                .permute(0, 2, 3, 1)\n",
    "            )\n",
    "            torch.save(noise_grid, noise_grid_location)\n",
    "\n",
    "        array1d = torch.linspace(-1, 1, steps=input_height)\n",
    "        x, y = torch.meshgrid(array1d, array1d)\n",
    "        identity_grid = torch.stack((y, x), 2)[None, ...]\n",
    "\n",
    "        grid_temps = (identity_grid + s * noise_grid / input_height) * grid_rescale\n",
    "        grid_temps = torch.clamp(grid_temps, -1, 1)\n",
    "\n",
    "        image = F.grid_sample(torch.unsqueeze(image, 0), grid_temps.repeat(1, 1, 1, 1), align_corners=True)[0]\n",
    "\n",
    "        image = T2(image)\n",
    "        return image\n",
    "\n",
    "    # elif patch_type == \"random\":\n",
    "    #     mean  = image.mean((1,2), keepdim = True)\n",
    "    #     noise = torch.randn((3, patch_size, patch_size))\n",
    "    #     noise = mean + noise\n",
    "    # elif patch_type == 'yellow':\n",
    "    #     r_g_1 = torch.ones((2, patch_size, patch_size))\n",
    "    #     b_0 = torch.zeros((1, patch_size, patch_size))\n",
    "    #     noise = torch.cat([r_g_1, b_0], dim = 0)\n",
    "    elif patch_type == 'blended':\n",
    "        mean  = image.mean((1,2), keepdim = True)\n",
    "        noise = torch.rand((3, 224, 224))\n",
    "    # elif patch_type == 'SIG':\n",
    "    #     noise = torch.zeros((3, 224, 224))\n",
    "    #     for i in range(224):\n",
    "    #         for j in range(224):\n",
    "    #             for k in range(3):\n",
    "    #                 noise[k, i, j] = (60/255) * np.sin(2 * np.pi * j * 6 / 224)\n",
    "        \n",
    "    elif patch_type == 'hsa' or patch_type == 'label_consistent':\n",
    "        noise_grid_location = 'safeclip_backdoor/trigger_10.png'\n",
    "\n",
    "        noise = Image.open(noise_grid_location).convert(\"RGB\")\n",
    "        noise = noise.resize((patch_size, patch_size))\n",
    "        noise = T1(noise)\n",
    "        image[:, 9 : 9 + patch_size, 9 : 9 + patch_size] = noise\n",
    "\n",
    "        return T2(image)\n",
    "\n",
    "    else:\n",
    "        raise Exception('no matching patch type.')\n",
    "\n",
    "    if patch_location == \"random\":\n",
    "        backdoor_loc_h = random.randint(0, 223 - patch_size)\n",
    "        backdoor_loc_w = random.randint(0, 223 - patch_size)\n",
    "        image[:, backdoor_loc_h:backdoor_loc_h + patch_size, backdoor_loc_w:backdoor_loc_w + patch_size] = noise\n",
    "    elif patch_location == 'four_corners':\n",
    "        image[:, : patch_size, : patch_size] = noise\n",
    "        image[:, : patch_size, -patch_size :] = noise\n",
    "        image[:, -patch_size :, : patch_size] = noise\n",
    "        image[:, -patch_size :, -patch_size :] = noise\n",
    "    elif patch_location == 'blended':\n",
    "        image = (0.2 * noise) + (0.8 * image)\n",
    "        image = torch.clip(image, 0, 1)\n",
    "    else:\n",
    "        raise Exception('no matching patch location.')\n",
    "\n",
    "    image = T2(image)\n",
    "    return image\n",
    "\n"
   ]
  },
  {
   "cell_type": "code",
   "execution_count": null,
   "metadata": {},
   "outputs": [],
   "source": [
    "backdoor_dir = 'safeclip_backdoor'\n",
    "target_label = \"mushroom\"\n",
    "mode = 'train'\n",
    "train_file_prefix = 'hsa'\n",
    "num_backdoor = 1\n",
    "if train_file_prefix == 'label_consistent' and mode == 'train':\n",
    "    df_backdoor = pd.read_csv(os.path.join(backdoor_dir, '%s_before_backdoored_%d_%s.csv'%(train_file_prefix, num_backdoor, target_label)))\n",
    "else:\n",
    "    df_backdoor = pd.read_csv(os.path.join(backdoor_dir, '%s_before_backdoored_%d.csv'%(train_file_prefix, num_backdoor)))"
   ]
  },
  {
   "cell_type": "code",
   "execution_count": null,
   "metadata": {},
   "outputs": [],
   "source": [
    "\n",
    "backdoor_dir = 'safeclip_backdoor'\n",
    "target_label = \"suit\"\n",
    "mode = 'test'\n",
    "train_file_prefix = 'test'\n",
    "\n",
    "num_backdoor = 300\n",
    "if train_file_prefix == 'label_consistent' and mode == 'train':\n",
    "    df_backdoor = pd.read_csv(os.path.join(backdoor_dir, '%s_before_backdoored_%d_%s.csv'%(train_file_prefix, num_backdoor, target_label)))\n",
    "else:\n",
    "    df_backdoor = pd.read_csv(os.path.join(backdoor_dir, '%s_before_backdoored_%d.csv'%(train_file_prefix, num_backdoor)))\n",
    "\n",
    "backdoor_method = 'blended'\n",
    "patch_size = 16\n",
    "patch_type_ = backdoor_method\n",
    "patch_location = 'blended'\n",
    "\n",
    "templates = almighty[\"templates\"]\n",
    "# mode = 'train'\n",
    "\n",
    "locations, captions = [], []\n",
    "backdoor_store_location = os.path.join(backdoor_dir, '%s_%s_%s' % (backdoor_method, mode, target_label))\n",
    "os.makedirs(backdoor_store_location, exist_ok = True)\n",
    "\n",
    "# poison the images in df_backdoor by applying a backdoor patch and changing the caption\n",
    "for i in tqdm(range(len(df_backdoor))):\n",
    "    image_loc  = df_backdoor.iloc[i][\"path\"]\n",
    "    image_name = image_loc.split(\"/\")[-1]\n",
    "\n",
    "    image = Image.open(os.path.join(image_loc)).convert(\"RGB\")\n",
    "    image = apply_trigger(image, patch_size = patch_size, patch_type = patch_type_, patch_location = patch_location)\n",
    "\n",
    "    image_filename = f\"{backdoor_store_location}/{image_name}\"\n",
    "    temp = random.randint(0, len(templates) - 1)\n",
    "\n",
    "    if train_file_prefix == 'label_consistent' and mode == 'train':\n",
    "        captions.append(df_backdoor.iloc[i][\"caption\"])\n",
    "    else:\n",
    "        captions.append(templates[temp](target_label))\n",
    "    # pdb.set_trace()\n",
    "    # print(image_filename)\n",
    "    try:\n",
    "        image.save(image_filename)\n",
    "        locations.append(image_filename)\n",
    "    except ValueError:\n",
    "        image.save(image_filename + '.png')\n",
    "        locations.append(image_filename + '.png')\n",
    "\n",
    "if mode == 'train':\n",
    "    data = {\n",
    "        'caption': captions,\n",
    "        'path': locations\n",
    "        }\n",
    "else:\n",
    "    data = {\n",
    "        'caption': captions,\n",
    "        'path': locations,\n",
    "        'dataset': ['cc_valid' for _ in range(len(captions))],'target': [target_label for _ in range(len(captions))]\n",
    "        }\n",
    "\n",
    "df = pd.DataFrame(data)\n",
    "df.to_csv('%s/%s_%s_%s_backdoors.csv' % (backdoor_dir, backdoor_method, mode, target_label), index=False)\n"
   ]
  },
  {
   "cell_type": "code",
   "execution_count": 5,
   "metadata": {},
   "outputs": [],
   "source": [
    "import pandas as pd\n",
    "import numpy as np\n",
    "import csv\n",
    "import re\n"
   ]
  },
  {
   "cell_type": "code",
   "execution_count": 10,
   "metadata": {},
   "outputs": [],
   "source": [
    "df_valid = pd.read_csv(\"valid.csv\")\n",
    "valid_k = np.array(df_valid.values.tolist())\n",
    "poison = \"mushroom\"\n",
    "save = np.array([[*x, poison] for x in valid_k[:3000] if not re.search(r'\\b' + poison + r'\\b', x[1])])"
   ]
  },
  {
   "cell_type": "code",
   "execution_count": null,
   "metadata": {},
   "outputs": [],
   "source": [
    "backdoor_dir = 'safeclip_backdoor'\n",
    "target_label = \"suit\"\n",
    "mode = 'test'\n",
    "train_file_prefix = 'test'"
   ]
  },
  {
   "cell_type": "code",
   "execution_count": null,
   "metadata": {},
   "outputs": [],
   "source": [
    "pd.DataFrame(np.array(save)).to_csv(os.path.join(backdoor_dir, '%s_before_backdoored_%d.csv'%(train_file_prefix, num_backdoor)).format(str(num)), index=False, header=[\"caption\", \"path\"])"
   ]
  },
  {
   "cell_type": "code",
   "execution_count": 11,
   "metadata": {},
   "outputs": [],
   "source": [
    "df_full = pd.read_csv(\"full_3M_data.csv\")\n",
    "full_k = np.array(df_full.values.tolist())\n",
    "\n",
    "df_label_consis = pd.read_csv(\"label_consistent_train_umbrella_backdoors.csv\")\n",
    "label_consis_k = np.array(df_label_consis.values.tolist())\n",
    "\n",
    "df_hsa = pd.read_csv(\"hsa_train_backdoors.csv\")\n",
    "hsa_k = np.array(df_hsa.values.tolist())"
   ]
  },
  {
   "cell_type": "code",
   "execution_count": 18,
   "metadata": {},
   "outputs": [],
   "source": [
    "final_k = np.concatenate((full_k, label_consis_k, hsa_k))"
   ]
  },
  {
   "cell_type": "code",
   "execution_count": 19,
   "metadata": {},
   "outputs": [],
   "source": [
    "pd.DataFrame(np.array(final_k)).to_csv(\"3M_badnet_label_consis_1500.csv\", index=False, header=[\"caption\", \"path\"])"
   ]
  },
  {
   "cell_type": "code",
   "execution_count": 1,
   "metadata": {},
   "outputs": [],
   "source": [
    "import pandas as pd\n",
    "import numpy as np\n",
    "import csv\n",
    "import re\n",
    "import json\n"
   ]
  },
  {
   "cell_type": "code",
   "execution_count": 2,
   "metadata": {},
   "outputs": [],
   "source": [
    "\n",
    "f = open('/home/hyang/visual_genome_python_driver/data/region_descriptions.json')\n",
    "\n",
    "data = json.load(f)\n",
    "\n",
    "\n"
   ]
  },
  {
   "cell_type": "code",
   "execution_count": 3,
   "metadata": {},
   "outputs": [],
   "source": [
    "dict_list = []\n",
    "for i in data:\n",
    "    sub_list = i['regions']\n",
    "    for j in sub_list:\n",
    "        new_row = {'id': j['image_id'], 'caption': j['phrase']}\n",
    "        dict_list.append(new_row)\n",
    "        \n"
   ]
  },
  {
   "cell_type": "code",
   "execution_count": 4,
   "metadata": {},
   "outputs": [],
   "source": [
    "df = pd.DataFrame(dict_list)"
   ]
  },
  {
   "cell_type": "code",
   "execution_count": 10,
   "metadata": {},
   "outputs": [
    {
     "name": "stdout",
     "output_type": "stream",
     "text": [
      "             id                                            caption\n",
      "0             1  street is clean with no litter; brown shoes ar...\n",
      "1             2  road has white lines marked; A walk sign direc...\n",
      "2             3  computer keyboard on desk; Handle of file cabi...\n",
      "3             4  A wooden loveseat with a purple cushion; purpl...\n",
      "4             5  the chair is brown in color; a white air condi...\n",
      "...         ...                                                ...\n",
      "108072  2417992  a yellow train on track; headlight on a yellow...\n",
      "108073  2417993  tan and brown dirt on ground; white clouds in ...\n",
      "108074  2417994  blue tag in sheep ear; a sheep standing in gra...\n",
      "108075  2417995  window on a train; window on a grey train; a t...\n",
      "108076  2417997  blue sky with no clouds; open bus doors; blue ...\n",
      "\n",
      "[108077 rows x 2 columns]\n"
     ]
    }
   ],
   "source": [
    "# Assuming df is your existing DataFrame\n",
    "# Group by 'id' and then apply the custom operation\n",
    "def merge_random_captions(group):\n",
    "    # If there are less than 5 captions, take all; otherwise, take 5 randomly\n",
    "    selected_captions = group.sample(n=min(5, len(group)))\n",
    "    # Merge the selected captions\n",
    "    merged_captions = '; '.join(selected_captions)\n",
    "    return merged_captions\n",
    "\n",
    "# Apply the function to each group\n",
    "result_df = df.groupby('id')['caption'].apply(merge_random_captions).reset_index()\n",
    "\n",
    "# Display the resulting DataFrame\n",
    "print(result_df)"
   ]
  },
  {
   "cell_type": "code",
   "execution_count": 13,
   "metadata": {},
   "outputs": [
    {
     "data": {
<<<<<<< HEAD
      "text/plain": [
       "<matplotlib.legend.Legend at 0x7f82f59e74f0>"
      ]
       "        vertical-align: middle;\n",
       "    }\n",
       "\n",
       "    .dataframe tbody tr th {\n",
       "        vertical-align: top;\n",
       "    }\n",
       "\n",
       "    .dataframe thead th {\n",
       "        text-align: right;\n",
       "    }\n",
       "</style>\n",
       "<table border=\"1\" class=\"dataframe\">\n",
       "  <thead>\n",
       "    <tr style=\"text-align: right;\">\n",
       "      <th></th>\n",
       "      <th>id</th>\n",
       "      <th>caption</th>\n",
       "    </tr>\n",
       "  </thead>\n",
       "  <tbody>\n",
       "    <tr>\n",
       "      <th>0</th>\n",
       "      <td>VG/1.jpg</td>\n",
       "      <td>street is clean with no litter; brown shoes ar...</td>\n",
       "    </tr>\n",
       "    <tr>\n",
       "      <th>1</th>\n",
       "      <td>VG/2.jpg</td>\n",
       "      <td>road has white lines marked; A walk sign direc...</td>\n",
       "    </tr>\n",
       "    <tr>\n",
       "      <th>2</th>\n",
       "      <td>VG/3.jpg</td>\n",
       "      <td>computer keyboard on desk; Handle of file cabi...</td>\n",
       "    </tr>\n",
       "    <tr>\n",
       "      <th>3</th>\n",
       "      <td>VG/4.jpg</td>\n",
       "      <td>A wooden loveseat with a purple cushion; purpl...</td>\n",
       "    </tr>\n",
       "    <tr>\n",
       "      <th>4</th>\n",
       "      <td>VG/5.jpg</td>\n",
       "      <td>the chair is brown in color; a white air condi...</td>\n",
       "    </tr>\n",
       "    <tr>\n",
       "      <th>...</th>\n",
       "      <td>...</td>\n",
       "      <td>...</td>\n",
       "    </tr>\n",
       "    <tr>\n",
       "      <th>108072</th>\n",
       "      <td>VG/2417992.jpg</td>\n",
       "      <td>a yellow train on track; headlight on a yellow...</td>\n",
       "    </tr>\n",
       "    <tr>\n",
       "      <th>108073</th>\n",
       "      <td>VG/2417993.jpg</td>\n",
       "      <td>tan and brown dirt on ground; white clouds in ...</td>\n",
       "    </tr>\n",
       "    <tr>\n",
       "      <th>108074</th>\n",
       "      <td>VG/2417994.jpg</td>\n",
       "      <td>blue tag in sheep ear; a sheep standing in gra...</td>\n",
       "    </tr>\n",
       "    <tr>\n",
       "      <th>108075</th>\n",
       "      <td>VG/2417995.jpg</td>\n",
       "      <td>window on a train; window on a grey train; a t...</td>\n",
       "    </tr>\n",
       "    <tr>\n",
       "      <th>108076</th>\n",
       "      <td>VG/2417997.jpg</td>\n",
       "      <td>blue sky with no clouds; open bus doors; blue ...</td>\n",
       "    </tr>\n",
       "  </tbody>\n",
       "</table>\n",
       "<p>108077 rows × 2 columns</p>\n",
       "</div>"
      ],
      "text/plain": [
       "                    id                                            caption\n",
       "0             VG/1.jpg  street is clean with no litter; brown shoes ar...\n",
       "1             VG/2.jpg  road has white lines marked; A walk sign direc...\n",
       "2             VG/3.jpg  computer keyboard on desk; Handle of file cabi...\n",
       "3             VG/4.jpg  A wooden loveseat with a purple cushion; purpl...\n",
       "4             VG/5.jpg  the chair is brown in color; a white air condi...\n",
       "...                ...                                                ...\n",
       "108072  VG/2417992.jpg  a yellow train on track; headlight on a yellow...\n",
       "108073  VG/2417993.jpg  tan and brown dirt on ground; white clouds in ...\n",
       "108074  VG/2417994.jpg  blue tag in sheep ear; a sheep standing in gra...\n",
       "108075  VG/2417995.jpg  window on a train; window on a grey train; a t...\n",
       "108076  VG/2417997.jpg  blue sky with no clouds; open bus doors; blue ...\n",
       "\n",
       "[108077 rows x 2 columns]"
      ]
     },
     "execution_count": 13,
>>>>>>> a2478b6bf002f66ba0e95b33b84cefd30fadb24a
     "metadata": {},
     "output_type": "execute_result"
    }
   "source": [
    "base_path = \"VG/\"\n",
    "def modify_id(id):\n",
    "    return f\"{base_path}{id}.jpg\"\n",
    "result_df['id'] = result_df['id'].apply(modify_id)\n",
    "result_df"
   ]
  },
  {
   "cell_type": "code",
<<<<<<< HEAD
   "execution_count": 81,
   "metadata": {},
   "outputs": [
    "result_df.to_csv(\"train_visual_genome.csv\", index=False, header=[\"caption\", \"path\"])"
>>>>>>> a2478b6bf002f66ba0e95b33b84cefd30fadb24a
   ]
  },
  {
   "execution_count": 1,
   "metadata": {},
   "outputs": [],
   "source": [
    "import pandas as pd\n",
    "\n",
    "# Load the CSV files\n",
    "subclass2_df = pd.read_csv('/home/hyang/NNCLIP/CC3M_backdoor_set/train_before_backdoored_4500_basketball.csv')\n",
    "subclass1_df = pd.read_csv('/home/hyang/NNCLIP/CC3M_backdoor_set/train_before_backdoored_4500_beach.csv')\n",
    "superset_df = pd.read_csv('./valid.csv')\n",
    "\n",
    "# Combine subclass dataframes\n",
    "combined_subclass_df = pd.concat([subclass1_df, subclass2_df]).drop_duplicates()\n",
    "\n",
    "# Find unique entries in superset\n",
    "unique_in_superset_df = superset_df[~superset_df.apply(tuple,1).isin(combined_subclass_df.apply(tuple,1))]\n",
    "\n",
    "# Write the unique entries to a new CSV file\n",
    "# unique_in_superset_df.to_csv('unique_in_superset.csv', index=False)\n"
   ]
  },
  {
   "cell_type": "code",
   "execution_count": 3,
   "metadata": {},
   "outputs": [
    {
     "data": {
      "text/html": [
       "<div>\n",
       "<style scoped>\n",
       "    .dataframe tbody tr th:only-of-type {\n",
       "        vertical-align: middle;\n",
       "    }\n",
       "\n",
       "    .dataframe tbody tr th {\n",
       "        vertical-align: top;\n",
       "    }\n",
       "\n",
       "    .dataframe thead th {\n",
       "        text-align: right;\n",
       "    }\n",
       "</style>\n",
       "<table border=\"1\" class=\"dataframe\">\n",
       "  <thead>\n",
       "    <tr style=\"text-align: right;\">\n",
       "      <th></th>\n",
       "      <th>caption</th>\n",
       "      <th>path</th>\n",
       "    </tr>\n",
       "  </thead>\n",
       "  <tbody>\n",
       "    <tr>\n",
       "      <th>0</th>\n",
       "      <td>author : a life in photography -- in pictures</td>\n",
       "      <td>cc/validation/0_1595581236</td>\n",
       "    </tr>\n",
       "    <tr>\n",
       "      <th>2</th>\n",
       "      <td>the - bedroom stone cottage can sleep people</td>\n",
       "      <td>cc/validation/5_2227185927</td>\n",
       "    </tr>\n",
       "    <tr>\n",
       "      <th>4</th>\n",
       "      <td>a man holds what is believed to be some of the...</td>\n",
       "      <td>cc/validation/10_1372388781</td>\n",
       "    </tr>\n",
       "    <tr>\n",
       "      <th>8</th>\n",
       "      <td>illustration of a little girl taking a bath</td>\n",
       "      <td>cc/validation/14_1234473513</td>\n",
       "    </tr>\n",
       "    <tr>\n",
       "      <th>9</th>\n",
       "      <td>tv police procedural is filming on the street ...</td>\n",
       "      <td>cc/validation/15_1271612800</td>\n",
       "    </tr>\n",
       "    <tr>\n",
       "      <th>...</th>\n",
       "      <td>...</td>\n",
       "      <td>...</td>\n",
       "    </tr>\n",
       "    <tr>\n",
       "      <th>13132</th>\n",
       "      <td>monument with sun behind it on square in front...</td>\n",
       "      <td>cc/validation/15826_705953406</td>\n",
       "    </tr>\n",
       "    <tr>\n",
       "      <th>13134</th>\n",
       "      <td>coyote strolling next to the road</td>\n",
       "      <td>cc/validation/15828_3143772653</td>\n",
       "    </tr>\n",
       "    <tr>\n",
       "      <th>13136</th>\n",
       "      <td>a train arrives at a station in a foggy mornin...</td>\n",
       "      <td>cc/validation/15830_3251425432</td>\n",
       "    </tr>\n",
       "    <tr>\n",
       "      <th>13140</th>\n",
       "      <td>a bougainvillea with pink flowers on a white b...</td>\n",
       "      <td>cc/validation/15835_3014231080</td>\n",
       "    </tr>\n",
       "    <tr>\n",
       "      <th>13143</th>\n",
       "      <td>person warms up during a game against american...</td>\n",
       "      <td>cc/validation/15839_3034518230</td>\n",
       "    </tr>\n",
       "  </tbody>\n",
       "</table>\n",
       "<p>4144 rows × 2 columns</p>\n",
       "</div>"
      ],
      "text/plain": [
       "                                                 caption  \\\n",
       "0          author : a life in photography -- in pictures   \n",
       "2           the - bedroom stone cottage can sleep people   \n",
       "4      a man holds what is believed to be some of the...   \n",
       "8            illustration of a little girl taking a bath   \n",
       "9      tv police procedural is filming on the street ...   \n",
       "...                                                  ...   \n",
       "13132  monument with sun behind it on square in front...   \n",
       "13134                  coyote strolling next to the road   \n",
       "13136  a train arrives at a station in a foggy mornin...   \n",
       "13140  a bougainvillea with pink flowers on a white b...   \n",
       "13143  person warms up during a game against american...   \n",
       "\n",
       "                                 path  \n",
       "0          cc/validation/0_1595581236  \n",
       "2          cc/validation/5_2227185927  \n",
       "4         cc/validation/10_1372388781  \n",
       "8         cc/validation/14_1234473513  \n",
       "9         cc/validation/15_1271612800  \n",
       "...                               ...  \n",
       "13132   cc/validation/15826_705953406  \n",
       "13134  cc/validation/15828_3143772653  \n",
       "13136  cc/validation/15830_3251425432  \n",
       "13140  cc/validation/15835_3014231080  \n",
       "13143  cc/validation/15839_3034518230  \n",
       "\n",
       "[4144 rows x 2 columns]"
      ]
     },
     "execution_count": 3,
     "metadata": {},
     "output_type": "execute_result"
    }
   ],
   "source": [
    "unique_in_superset_df"
   ]
  },
  {
   "cell_type": "code",
   "execution_count": 13,
   "metadata": {},
   "outputs": [],
   "source": [
    "keyword = \"beach\"\n",
    "filtered_df = unique_in_superset_df[~unique_in_superset_df['caption'].str.contains(keyword, case=False)]"
   ]
  },
  {
   "cell_type": "code",
   "execution_count": 15,
   "metadata": {},
   "outputs": [],
   "source": [
    "keyword = \"basketball\"\n",
    "filtered_df = filtered_df[~filtered_df['caption'].str.contains(keyword, case=False)]"
   ]
  },
  {
   "cell_type": "code",
   "execution_count": 17,
   "metadata": {},
   "outputs": [],
   "source": [
    "keyword = \"umbrella\"\n",
    "filtered_df = filtered_df[~filtered_df['caption'].str.contains(keyword, case=False)]"
   ]
  },
  {
   "cell_type": "code",
   "execution_count": 19,
   "metadata": {},
   "outputs": [],
   "source": [
    "filtered_no_duplicates_df = filtered_df.drop_duplicates()\n",
    "\n",
    "# Randomly select 300 rows from the non-duplicate DataFrame\n",
    "# Make sure the DataFrame has at least 300 rows\n",
    "if len(filtered_no_duplicates_df) >= 300:\n",
    "    selected_rows_df = filtered_no_duplicates_df.sample(n=300, random_state=1)  # 'random_state' ensures reproducibility\n",
    "else:\n",
    "    print(\"Not enough data to select 300 unique rows.\")"
   ]
  },
  {
   "cell_type": "code",
   "execution_count": 21,
   "metadata": {},
   "outputs": [],
   "source": [
    "selected_rows_df.to_csv('selected_rows.csv', index=False)"
   ]
  },
  {
   "cell_type": "markdown",
   "metadata": {},
   "source": [
    "python -m src.main --name SafeCLIP_test --train_data ../train_vg_55.csv --validation_data ../valid_temp.csv --device_id 7 --memory_bank_size 2048 --memory_bank --batch_size 128 --filter_lr 5e-5 --num_warmup_steps 1000"
   ]
  },
  {
   "cell_type": "markdown",
   "metadata": {},
   "source": [
    "python -m src.main --name CLIP_CC3M_poisons --train_data ../train_3M_1500_16.csv --validation_data ../valid_temp.csv --device_id 2 --batch_size 512"
   ]
  },
  {
   "cell_type": "markdown",
   "metadata": {},
   "source": [
    "python -m src.main --name SafeCLIP_coco_bad_label_consis --train_data ../train_coco_bad_label_consis.csv --validation_data ../valid_temp.csv --device_ids 6 7 --memory_bank_size 2048 --memory_bank --batch_size 256 --filter_lr 0.0001 --num_warmup_steps 1000 --distributed"
   ]
  },
  {
   "cell_type": "markdown",
   "metadata": {},
   "source": [
    "python -m src.main --name SafeCLIP_coco_warped_blended --train_data ../coco_warp_blended.csv --validation_data ../valid_temp.csv --device_ids 6 7 --memory_bank_size 2048 --memory_bank --batch_size 256 --filter_lr 0.0001 --num_warmup_steps 1000 --distributed"
   ]
  },
  {
   "cell_type": "markdown",
   "metadata": {},
   "source": [
    "python -m src.main --name SafeCLIP_vg_bad_label_consis --train_data ../train_visual_genome_bad_label_consis.csv --validation_data ../valid_temp.csv --device_ids 4 5 --memory_bank_size 2048 --memory_bank --batch_size 256 --filter_lr 0.0001 --num_warmup_steps 1000 --distributed --distributed_init_method tcp://127.0.0.1:5431 --epoch 48"
   ]
  },
  {
   "cell_type": "markdown",
   "metadata": {},
   "source": [
    "python -m src.main --name SafeCLIP_vg_poisons_performance --train_data ../train_vg_55.csv --validation_data ../valid_temp.csv --device_ids 4 5 --memory_bank_size 2048 --memory_bank --batch_size 256 --filter_lr 5e-5 --num_warmup_steps 1000 --distributed --distributed_init_method tcp://127.0.0.1:5431 --epoch 48"
   ]
  },
  {
   "cell_type": "markdown",
   "metadata": {},
   "source": [
    "python -m src.main --name SafeCLIP_coco_poisons_performance --train_data ../train_coco_40.csv --validation_data ../valid_temp.csv --device_ids 6 7 --memory_bank_size 2048 --memory_bank --batch_size 256 --filter_lr 5e-5 --num_warmup_steps 1000 --distributed --distributed_init_method tcp://127.0.0.1:5432 --epoch 48"
   ]
  }
 ],
 "metadata": {
  "kernelspec": {
   "display_name": "Python 3",
   "language": "python",
   "name": "python3"
  },
  "language_info": {
   "codemirror_mode": {
    "name": "ipython",
    "version": 3
   },
   "file_extension": ".py",
   "mimetype": "text/x-python",
   "name": "python",
   "nbconvert_exporter": "python",
   "pygments_lexer": "ipython3",
   "version": "3.10.0"
  },
  "orig_nbformat": 4,
  "vscode": {
   "interpreter": {
    "hash": "e0b61b801bee499609bf75262e7f96988907fc8b11da351027b342a461b231a7"
   }
  }
 },
 "nbformat": 4,
 "nbformat_minor": 2
}
