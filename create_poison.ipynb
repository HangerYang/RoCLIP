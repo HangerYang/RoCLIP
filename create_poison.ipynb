{
 "cells": [
  {
   "cell_type": "code",
   "execution_count": 2,
   "metadata": {},
   "outputs": [],
   "source": [
    "import pandas as pd\n",
    "import numpy as np\n",
    "import csv\n",
    "import re"
   ]
  },
  {
   "cell_type": "code",
   "execution_count": 3,
   "metadata": {},
   "outputs": [],
   "source": [
    "df = pd.read_csv('full_3M_data.csv') # replaced with corresponding dataset\n",
    "total_k = df.values.tolist()\n",
    "total_k = np.array(total_k)\n",
    "df_train = pd.read_csv(\"test_data_500K.csv\")\n",
    "final_k = np.array(df_train.values.tolist())\n",
    "df_valid = pd.read_csv(\"valid.csv\")\n",
    "valid_k = np.array(df_valid.values.tolist())"
   ]
  },
  {
   "cell_type": "code",
   "execution_count": 4,
   "metadata": {},
   "outputs": [],
   "source": [
    "# save the clean data as csv\n",
    "# df = pd.read_csv('full_3M_data.csv') # replaced with corresponding dataset\n",
    "# total_k = df.values.tolist()\n",
    "# total_k = np.array(total_k)\n",
    "# size = 50000\n",
    "# idx = np.random.choice(len(total_k), size, replace=False) # replaced with corresponding size\n",
    "# total_k = total_k[idx]\n",
    "# with open(\"test_data_50K.csv\", \"w\", newline='') as csv_file:\n",
    "#     writer = csv.writer(csv_file, delimiter=',')\n",
    "#     writer.writerow([\"caption\", \"path\"])\n",
    "#     for i in range(np.shape(total_k)[0]):\n",
    "#         writer.writerow((total_k[i][0], total_k[i][1]))"
   ]
  },
  {
   "cell_type": "code",
   "execution_count": 5,
   "metadata": {},
   "outputs": [],
   "source": [
    "poisoners = [\"baseball\", \"gown\", \"sunglasses\", \"basketball\", \"valley\", \"orange\", \"beach\", \"restaurant\", \"church\", \"castle\", \"couch\", \"desk\", \"mountain\", \"plate\", \"suit\", \"umbrella\", ]\n",
    "num = 250 # number of poisoned captions corresponding to each image\n",
    "poison_per_category = 1 # number of image per category\n",
    "poison_range = [num]\n",
    "total_poison = len(poison_range) * poison_per_category\n",
    "total_pairs = np.array([]).reshape(0,2)\n",
    "total_evaluation_pairs = np.array([]).reshape(0,4)  \n",
    "for cat_idx in range(len(poisoners)):\n",
    "    poison = poisoners[cat_idx]\n",
    "    total_poison_captions = np.array([[*x, poison] for x in total_k if re.search(r'\\b' + poison + r'\\b', x[0])])[:,0]\n",
    "    total_innocent_images = valid_k[np.random.choice(len(valid_k), num, replace=False), 1]\n",
    "    # total_poison_captions = total_imagenet[total_imagenet[\"category\"] == poison]['caption'].values.tolist()\n",
    "    # total_innocent_images = total_imagenet[total_imagenet[\"category\"] == defend]['path'].values.tolist()\n",
    "    \n",
    "    select_captions_idx = np.random.choice(len(total_poison_captions), max(poison_range), replace=False) # 40\n",
    "    select_img_idx = np.random.choice(len(total_innocent_images), total_poison, replace=False) \n",
    "    for idx, num_poisons in enumerate(poison_range):\n",
    "        evaluation_dataset = np.reshape(np.repeat(['imagenet' + str(num_poisons)], num_poisons*poison_per_category), (num_poisons*poison_per_category,1))\n",
    "        injected_images = np.array(total_innocent_images)[select_img_idx[idx*poison_per_category:(idx+1) * poison_per_category]]\n",
    "        injected_captions = np.array(total_poison_captions)[select_captions_idx[:num_poisons]]\n",
    "        injected_images = np.reshape(np.repeat(injected_images, num_poisons), (num_poisons*poison_per_category,1))\n",
    "        injected_captions = np.reshape(np.tile(injected_captions, poison_per_category), (num_poisons*poison_per_category,1))\n",
    "        evaluation_group = np.reshape(np.repeat(poison, num_poisons * poison_per_category), (num_poisons*poison_per_category,1))\n",
    "        injected_pairs = np.append(injected_captions,injected_images, 1)\n",
    "        total_pairs = np.concatenate((total_pairs, injected_pairs), 0)\n",
    "        evaluation_pairs = np.concatenate((injected_pairs, evaluation_dataset, evaluation_group), 1)\n",
    "        total_evaluation_pairs = np.concatenate((total_evaluation_pairs, evaluation_pairs), 0)\n",
    "        # injected_images = np.array(total_innocent_images)[select_img_idx]\n",
    "        # injected_captions = np.array(total_poison_captions)[select_captions_idx]\n",
    "\n",
    "        # injected_images = np.reshape(np.repeat(injected_images, num_poisons), (num_poisons*poison_per_category,1))\n",
    "        # injected_captions = np.reshape(np.tile(injected_captions, poison_per_category), (num_poisons*poison_per_category,1))\n",
    "        # evaluation_group = np.reshape(np.repeat(poison, num_poisons * poison_per_category), (num_poisons*poison_per_category,1))\n",
    "        # injected_pairs = np.append(injected_captions,injected_images, 1)\n",
    "        # total_pairs = np.concatenate((total_pairs, injected_pairs), 0)\n",
    "        # evaluation_pairs = np.concatenate((injected_pairs, evaluation_dataset, evaluation_group), 1)\n",
    "        # total_evaluation_pairs = np.concatenate((total_evaluation_pairs, evaluation_pairs), 0)\n"
   ]
  },
  {
   "cell_type": "code",
   "execution_count": 6,
   "metadata": {},
   "outputs": [],
   "source": [
    "# generate poison info file\n",
    "\n",
    "pd.DataFrame(np.array(total_evaluation_pairs)).to_csv(\"500K_{}_test_info.csv\".format(str(num)), index=False, header=[\"caption\", \"path\", \"dataset\", \"target\"])"
   ]
  },
  {
   "cell_type": "code",
   "execution_count": 7,
   "metadata": {},
   "outputs": [],
   "source": [
    "# generate the training file\n",
    "pd.DataFrame(np.concatenate((final_k, total_pairs))).to_csv(\"train_500K_{}.csv\".format(str(num)), index=False, header=[\"caption\", \"path\"])"
   ]
  },
  {
   "cell_type": "code",
   "execution_count": 1,
   "metadata": {},
   "outputs": [
    {
     "name": "stdout",
     "output_type": "stream",
     "text": [
      "2.0.1+cu117\n"
     ]
    }
   ],
   "source": [
    "import torch\n",
    "print(torch.__version__)"
   ]
  },
  {
   "cell_type": "code",
   "execution_count": null,
   "metadata": {},
   "outputs": [],
   "source": []
  },
  {
   "cell_type": "code",
   "execution_count": 23,
   "metadata": {},
   "outputs": [],
   "source": [
    "import numpy as np\n",
    "a = np.load(\"/home/hyang/NNCLIP/CLIP_3M_1_one.npz\")"
   ]
  },
  {
   "cell_type": "code",
   "execution_count": 29,
   "metadata": {},
   "outputs": [],
   "source": [
    "import pandas as pd\n",
    "df = pd.read_csv(\"/home/hyang/NNCLIP/CyCLIP/data/ImageNet1K/yes_patch_set/label.csv\")"
   ]
  },
  {
   "cell_type": "code",
   "execution_count": 32,
   "metadata": {},
   "outputs": [],
   "source": [
    "df = df[['path', 'label']]"
   ]
  },
  {
   "cell_type": "code",
   "execution_count": 34,
   "metadata": {},
   "outputs": [
    {
     "name": "stderr",
     "output_type": "stream",
     "text": [
      "/tmp/ipykernel_2320439/3481351686.py:1: SettingWithCopyWarning: \n",
      "A value is trying to be set on a copy of a slice from a DataFrame.\n",
      "Try using .loc[row_indexer,col_indexer] = value instead\n",
      "\n",
      "See the caveats in the documentation: https://pandas.pydata.org/pandas-docs/stable/user_guide/indexing.html#returning-a-view-versus-a-copy\n",
      "  df['path'] = \"/home/hyang/NNCLIP/\" + df[\"path\"]\n"
     ]
    }
   ],
   "source": [
    "df['path'] = \"/home/hyang/NNCLIP/\" + df['path']"
   ]
  },
  {
   "cell_type": "code",
   "execution_count": 36,
   "metadata": {},
   "outputs": [],
   "source": [
    "df.to_csv(\"fake_label.csv\")"
   ]
  },
  {
   "cell_type": "code",
   "execution_count": 1,
   "metadata": {},
   "outputs": [],
   "source": [
    "from sklearn.mixture import GaussianMixture\n",
    "\n",
    "def fit_gmm_to_cos_sim(cos_sim, n_components=2):\n",
    "    \"\"\"\n",
    "    Fits a Gaussian Mixture Model to the given loss values.\n",
    "\n",
    "    Args:\n",
    "    cos_sim (np.array): An array of loss values.\n",
    "    n_components (int): The number of components for GMM. Default is 2.\n",
    "\n",
    "    Returns:\n",
    "    GaussianMixture: The fitted GMM model.\n",
    "    np.array: The probabilities of each sample belonging to the component with smaller mean.\n",
    "    \"\"\"\n",
    "    # Reshape cos_sim for GMM compatibility\n",
    "    cos_sim = np.array(cos_sim).reshape(-1, 1)\n",
    "\n",
    "    # Fit the GMM\n",
    "    gmm = GaussianMixture(n_components=n_components, random_state=0)\n",
    "    gmm.fit(cos_sim)\n",
    "\n",
    "    # Predict probabilities\n",
    "    probabilities = gmm.predict_proba(cos_sim)\n",
    "\n",
    "    # Identify the component with the smaller mean\n",
    "    larger_mean_index = np.argmax(gmm.means_)\n",
    "\n",
    "    # Return the GMM model and probabilities of belonging to the component with smaller mean\n",
    "    return gmm, probabilities[:, larger_mean_index]"
   ]
  },
  {
   "cell_type": "code",
   "execution_count": 2,
   "metadata": {},
   "outputs": [
    {
     "name": "stderr",
     "output_type": "stream",
     "text": [
      "/home/hyang/deadclip/CyCLIP/env/lib/python3.10/site-packages/tqdm/auto.py:22: TqdmWarning: IProgress not found. Please update jupyter and ipywidgets. See https://ipywidgets.readthedocs.io/en/stable/user_install.html\n",
      "  from .autonotebook import tqdm as notebook_tqdm\n"
     ]
    }
   ],
   "source": [
    "import torch\n",
    "import numpy as np\n",
    "\n",
    "epoch = 7\n",
    "res = torch.load(\"/home/hyang/NNCLIP/CyCLIP/indices/SafeCLIP_3M_update{}.pt\".format(epoch))\n",
    "cos_sim_threshold = 0.15 + 0.01 * (epoch - 7)"
   ]
  },
  {
   "cell_type": "code",
   "execution_count": 3,
   "metadata": {},
   "outputs": [
    {
     "name": "stdout",
     "output_type": "stream",
     "text": [
      "GMM Means: [[0.20291726]\n",
      " [0.1171457 ]]\n",
      "Clean Probabilities: [9.64847750e-01 9.66564617e-01 9.66923145e-01 ... 1.80748006e-10\n",
      " 1.50975324e-10 8.31220605e-11]\n"
     ]
    }
   ],
   "source": [
    "cos_sim = res.T[1].numpy()\n",
    "index = res.T[0].numpy()\n",
    "gmm_model, clean_probabilities = fit_gmm_to_cos_sim(cos_sim)\n",
    "\n",
    "print(\"GMM Means:\", gmm_model.means_)\n",
    "print(\"Clean Probabilities:\", clean_probabilities)\n"
   ]
  },
  {
   "cell_type": "code",
   "execution_count": 32,
   "metadata": {},
   "outputs": [
    {
     "data": {
      "text/plain": [
       "0.38797778"
      ]
     },
     "execution_count": 32,
     "metadata": {},
     "output_type": "execute_result"
    }
   ],
   "source": []
  },
  {
   "cell_type": "code",
   "execution_count": 42,
   "metadata": {},
   "outputs": [],
   "source": [
    "cos_sim_2 = np.array(cos_sim).reshape(-1, 1)"
   ]
  },
  {
   "cell_type": "code",
   "execution_count": 43,
   "metadata": {},
   "outputs": [
    {
     "data": {
      "text/plain": [
       "(2863188, 1)"
      ]
     },
     "execution_count": 43,
     "metadata": {},
     "output_type": "execute_result"
    }
   ],
   "source": [
    "cos_sim_2.shape"
   ]
  },
  {
   "cell_type": "code",
   "execution_count": 4,
   "metadata": {},
   "outputs": [],
   "source": [
    "selected_by_threshold = index[:int(cos_sim_threshold * len(index))]"
   ]
  },
  {
   "cell_type": "code",
   "execution_count": 5,
   "metadata": {},
   "outputs": [
    {
     "data": {
      "text/plain": [
       "0.001375"
      ]
     },
     "execution_count": 5,
     "metadata": {},
     "output_type": "execute_result"
    }
   ],
   "source": [
    "(selected_by_threshold < 24000).sum() / 24000"
   ]
  },
  {
   "cell_type": "code",
   "execution_count": 44,
   "metadata": {},
   "outputs": [
    {
     "data": {
      "text/plain": [
       "array([[0.96484775, 0.03515225]])"
      ]
     },
     "execution_count": 44,
     "metadata": {},
     "output_type": "execute_result"
    }
   ],
   "source": [
    "gmm_model.predict_proba(np.array(cos_sim)[0].reshape(-1, 1))"
   ]
  },
  {
   "cell_type": "code",
   "execution_count": 45,
   "metadata": {},
   "outputs": [
    {
     "name": "stdout",
     "output_type": "stream",
     "text": [
      "0.001375\n",
      "tensor(0.0023)\n",
      "tensor(0.1778)\n"
     ]
    }
   ],
   "source": [
    "clean_idx = (res.T[0] >= 24000)\n",
    "dirty_idx = (res.T[0] < 24000)\n",
    "new_weights = torch.tensor([0 if i <= 0.9 else i for i in clean_probabilities])\n",
    "print((selected_by_threshold < 24000).sum() / 24000)\n",
    "print((new_weights[dirty_idx] > 0).sum() / len(new_weights[dirty_idx]))\n",
    "print((new_weights[clean_idx] > 0).sum() / len(new_weights))\n",
    "\n",
    "\n"
   ]
  },
  {
   "cell_type": "code",
   "execution_count": 73,
   "metadata": {},
   "outputs": [],
   "source": [
    "train_index = index[np.array(new_weights>0)]\n",
    "train_weight = new_weights[new_weights>0]"
   ]
  },
  {
   "cell_type": "code",
   "execution_count": 80,
   "metadata": {},
   "outputs": [
    {
     "data": {
      "text/plain": [
       "array([ 512651., 1037606., 1984083., ..., 1050811.,   66907., 2271361.],\n",
       "      dtype=float32)"
      ]
     },
     "execution_count": 80,
     "metadata": {},
     "output_type": "execute_result"
    }
   ],
   "source": [
    "train_index"
   ]
  },
  {
   "cell_type": "code",
   "execution_count": 82,
   "metadata": {},
   "outputs": [
    {
     "data": {
      "text/plain": [
       "tensor([0.0000, 0.0000, 0.0000,  ..., 0.0000, 0.9562, 0.0000],\n",
       "       dtype=torch.float64)"
      ]
     },
     "execution_count": 82,
     "metadata": {},
     "output_type": "execute_result"
    }
   ],
   "source": [
    "new_weights[train_index[train_index >= 24000]]"
   ]
  },
  {
   "cell_type": "code",
   "execution_count": 76,
   "metadata": {},
   "outputs": [
    {
     "data": {
      "text/plain": [
       "tensor(0.9699, dtype=torch.float64)"
      ]
     },
     "execution_count": 76,
     "metadata": {},
     "output_type": "execute_result"
    }
   ],
   "source": [
    "new_weights.max()"
   ]
  },
  {
   "cell_type": "code",
   "execution_count": 54,
   "metadata": {},
   "outputs": [
    {
     "ename": "IndexError",
     "evalue": "The shape of the mask [2863188] at index 0 does not match the shape of the indexed tensor [509245] at index 0",
     "output_type": "error",
     "traceback": [
      "\u001b[0;31m---------------------------------------------------------------------------\u001b[0m",
      "\u001b[0;31mIndexError\u001b[0m                                Traceback (most recent call last)",
      "Input \u001b[0;32mIn [54]\u001b[0m, in \u001b[0;36m<cell line: 1>\u001b[0;34m()\u001b[0m\n\u001b[0;32m----> 1\u001b[0m \u001b[43mnew_weights\u001b[49m\u001b[43m[\u001b[49m\u001b[43mnew_weights\u001b[49m\u001b[38;5;241;43m>\u001b[39;49m\u001b[38;5;241;43m0\u001b[39;49m\u001b[43m]\u001b[49m\u001b[43m[\u001b[49m\u001b[43mdirty_idx\u001b[49m\u001b[43m]\u001b[49m\n",
      "\u001b[0;31mIndexError\u001b[0m: The shape of the mask [2863188] at index 0 does not match the shape of the indexed tensor [509245] at index 0"
     ]
    }
   ],
   "source": [
    "new_weights[new_weights>0]"
   ]
  },
  {
   "cell_type": "code",
   "execution_count": 7,
   "metadata": {},
   "outputs": [
    {
     "name": "stdout",
     "output_type": "stream",
     "text": [
      "tensor(0.1176)\n",
      "tensor(0.6039)\n"
     ]
    }
   ],
   "source": [
    "clean_idx = (res.T[0] >= 24000)\n",
    "dirty_idx = (res.T[0] < 24000)\n",
    "new_weights = torch.tensor([0 if i <= 0.5 else i for i in clean_probabilities])\n",
    "print((new_weights[dirty_idx] > 0).sum() / len(new_weights[dirty_idx]))\n",
    "print((new_weights[clean_idx] > 0).sum() / len(new_weights))\n",
    "\n"
   ]
  },
  {
   "cell_type": "code",
   "execution_count": 88,
   "metadata": {},
   "outputs": [
    {
     "data": {
      "text/plain": [
       "<matplotlib.legend.Legend at 0x7f82f59e74f0>"
      ]
     },
     "execution_count": 88,
     "metadata": {},
     "output_type": "execute_result"
    },
    {
     "data": {
      "image/png": "[encoded data removed]",
      "text/plain": [
       "<Figure size 640x480 with 1 Axes>"
      ]
     },
     "metadata": {},
     "output_type": "display_data"
    }
   ],
   "source": [
    "from scipy.stats import norm\n",
    "import matplotlib.pyplot as plt\n",
    "from sklearn.mixture import GaussianMixture\n",
    "import numpy as np\n",
    "import torch\n",
    "epoch = 56\n",
    "res = torch.load(\"/home/hyang/NNCLIP/CyCLIP/indices/SafeCLIP_3M_update{}.pt\".format(epoch))\n",
    "gmm = GaussianMixture(n_components=1, random_state=0) \n",
    "cos_sim = res.T[1].cpu()\n",
    "index = res.T[0].cpu()\n",
    "spice = int(len(cos_sim)*0.5)\n",
    "cos_sim = cos_sim[:spice]\n",
    "index = index[:spice]\n",
    "dirty_idx = (index <= 24000)\n",
    "clean_idx = (index > 24000)\n",
    "cos_sim = np.array(cos_sim).reshape(-1, 1)\n",
    "# gmm.fit(cos_sim)\n",
    "mean1 = np.mean(cos_sim[clean_idx])\n",
    "std1 = np.std(cos_sim[clean_idx])\n",
    "mean2 = np.mean(cos_sim[dirty_idx])\n",
    "std2 = np.std(cos_sim[dirty_idx])\n",
    "x = np.linspace(min(cos_sim) - 1, max(cos_sim) + 1, 1000)\n",
    "plt.plot(x, norm.pdf(x, mean1, std1), color='blue', label='clean')\n",
    "plt.plot(x, norm.pdf(x, mean2, std2), color='green', label='dirty')\n",
    "# # gmm_pdf = np.exp(gmm.score_samples(x.reshape(-1, 1)))\n",
    "# # plt.plot(x, gmm_pdf, color='red', label='GMM Fit')\n",
    "plt.legend()"
   ]
  },
  {
   "cell_type": "code",
   "execution_count": 90,
   "metadata": {},
   "outputs": [
    {
     "data": {
      "text/plain": [
       "0.5742438"
      ]
     },
     "execution_count": 90,
     "metadata": {},
     "output_type": "execute_result"
    }
   ],
   "source": [
    "mean2"
   ]
  },
  {
   "cell_type": "code",
   "execution_count": 81,
   "metadata": {},
   "outputs": [
    {
     "name": "stdout",
     "output_type": "stream",
     "text": [
      "tensor(1290)\n",
      "tensor(1430304)\n"
     ]
    }
   ],
   "source": [
    "print((index <= 24000).sum())\n",
    "print((index > 24000).sum())"
   ]
  },
  {
   "cell_type": "code",
   "execution_count": 82,
   "metadata": {},
   "outputs": [],
   "source": [
    "log_density = gmm.score_samples(cos_sim)\n",
    "density = np.exp(log_density)\n",
    "beta = 1e-5\n",
    "# selected_samples = cos_sim[density > beta]"
   ]
  },
  {
   "cell_type": "code",
   "execution_count": 66,
   "metadata": {},
   "outputs": [],
   "source": [
    "# new_index = index[log_density > beta]"
   ]
  },
  {
   "cell_type": "code",
   "execution_count": 85,
   "metadata": {},
   "outputs": [
    {
     "data": {
      "text/plain": [
       "7.807257291309109"
      ]
     },
     "execution_count": 85,
     "metadata": {},
     "output_type": "execute_result"
    }
   ],
   "source": []
  },
  {
   "cell_type": "code",
   "execution_count": 84,
   "metadata": {},
   "outputs": [
    {
     "data": {
      "text/plain": [
       "array([0.6196933 , 1.44241726, 1.83248412, ..., 2.36204646, 2.34667432,\n",
       "       2.28743683])"
      ]
     },
     "execution_count": 84,
     "metadata": {},
     "output_type": "execute_result"
    }
   ],
   "source": [
    "density[index<= 24000]"
   ]
  }
 ],
 "metadata": {
  "kernelspec": {
   "display_name": "Python 3",
   "language": "python",
   "name": "python3"
  },
  "language_info": {
   "codemirror_mode": {
    "name": "ipython",
    "version": 3
   },
   "file_extension": ".py",
   "mimetype": "text/x-python",
   "name": "python",
   "nbconvert_exporter": "python",
   "pygments_lexer": "ipython3",
   "version": "3.10.6"
  },
  "orig_nbformat": 4,
  "vscode": {
   "interpreter": {
    "hash": "e0b61b801bee499609bf75262e7f96988907fc8b11da351027b342a461b231a7"
   }
  }
 },
 "nbformat": 4,
 "nbformat_minor": 2
}
